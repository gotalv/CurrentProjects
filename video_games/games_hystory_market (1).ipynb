{
 "cells": [
  {
   "cell_type": "markdown",
   "metadata": {},
   "source": [
    "## Описание работы"
   ]
  },
  {
   "cell_type": "markdown",
   "metadata": {},
   "source": [
    "У нас есть, полученные из открытых источников данные о продажах игр, оценки пользователей и экспертов по различным платформам и жанрам компьютерных игр. Необходимо выявить закономерности, влияющие на успешность игры, что-бы спланировать рекламные компании на следующий год.\n",
    "Для этого мы посмотрим как распределялась выручка от игр в разрезе, жанров, платформ и регионов. \n",
    "Создадим портрет пользователя каждого региона.\n",
    "Проверим гипотезы равенства рейтингов различных платформ и жанров."
   ]
  },
  {
   "cell_type": "markdown",
   "metadata": {},
   "source": [
    "## импорт данных"
   ]
  },
  {
   "cell_type": "code",
   "execution_count": 1,
   "metadata": {},
   "outputs": [],
   "source": [
    "import pandas as pd\n",
    "import numpy as np\n",
    "import matplotlib.pyplot as plt\n",
    "from pandas.plotting import register_matplotlib_converters\n",
    "register_matplotlib_converters()\n",
    "from scipy import stats as st\n",
    "#from math import factorial\n",
    "import math\n",
    "import datetime\n",
    "import calendar\n",
    "\n",
    "\n",
    "\n",
    "df=pd.read_csv('/datasets/games.csv')"
   ]
  },
  {
   "cell_type": "markdown",
   "metadata": {},
   "source": [
    "### знакомство с данными"
   ]
  },
  {
   "cell_type": "code",
   "execution_count": 2,
   "metadata": {},
   "outputs": [
    {
     "name": "stdout",
     "output_type": "stream",
     "text": [
      "<class 'pandas.core.frame.DataFrame'>\n",
      "RangeIndex: 16715 entries, 0 to 16714\n",
      "Data columns (total 11 columns):\n",
      "Name               16713 non-null object\n",
      "Platform           16715 non-null object\n",
      "Year_of_Release    16446 non-null float64\n",
      "Genre              16713 non-null object\n",
      "NA_sales           16715 non-null float64\n",
      "EU_sales           16715 non-null float64\n",
      "JP_sales           16715 non-null float64\n",
      "Other_sales        16715 non-null float64\n",
      "Critic_Score       8137 non-null float64\n",
      "User_Score         10014 non-null object\n",
      "Rating             9949 non-null object\n",
      "dtypes: float64(6), object(5)\n",
      "memory usage: 1.4+ MB\n"
     ]
    },
    {
     "data": {
      "text/html": [
       "<div>\n",
       "<style scoped>\n",
       "    .dataframe tbody tr th:only-of-type {\n",
       "        vertical-align: middle;\n",
       "    }\n",
       "\n",
       "    .dataframe tbody tr th {\n",
       "        vertical-align: top;\n",
       "    }\n",
       "\n",
       "    .dataframe thead th {\n",
       "        text-align: right;\n",
       "    }\n",
       "</style>\n",
       "<table border=\"1\" class=\"dataframe\">\n",
       "  <thead>\n",
       "    <tr style=\"text-align: right;\">\n",
       "      <th></th>\n",
       "      <th>Name</th>\n",
       "      <th>Platform</th>\n",
       "      <th>Year_of_Release</th>\n",
       "      <th>Genre</th>\n",
       "      <th>NA_sales</th>\n",
       "      <th>EU_sales</th>\n",
       "      <th>JP_sales</th>\n",
       "      <th>Other_sales</th>\n",
       "      <th>Critic_Score</th>\n",
       "      <th>User_Score</th>\n",
       "      <th>Rating</th>\n",
       "    </tr>\n",
       "  </thead>\n",
       "  <tbody>\n",
       "    <tr>\n",
       "      <td>5136</td>\n",
       "      <td>Overlord: Dark Legend</td>\n",
       "      <td>Wii</td>\n",
       "      <td>2009.0</td>\n",
       "      <td>Action</td>\n",
       "      <td>0.11</td>\n",
       "      <td>0.22</td>\n",
       "      <td>0.00</td>\n",
       "      <td>0.04</td>\n",
       "      <td>68.0</td>\n",
       "      <td>7.9</td>\n",
       "      <td>T</td>\n",
       "    </tr>\n",
       "    <tr>\n",
       "      <td>13435</td>\n",
       "      <td>The Misadventures of Tron Bonne</td>\n",
       "      <td>PS</td>\n",
       "      <td>1999.0</td>\n",
       "      <td>Adventure</td>\n",
       "      <td>0.03</td>\n",
       "      <td>0.02</td>\n",
       "      <td>0.00</td>\n",
       "      <td>0.00</td>\n",
       "      <td>NaN</td>\n",
       "      <td>NaN</td>\n",
       "      <td>NaN</td>\n",
       "    </tr>\n",
       "    <tr>\n",
       "      <td>7365</td>\n",
       "      <td>SingStar Pop Edition</td>\n",
       "      <td>PS3</td>\n",
       "      <td>2009.0</td>\n",
       "      <td>Misc</td>\n",
       "      <td>0.00</td>\n",
       "      <td>0.18</td>\n",
       "      <td>0.00</td>\n",
       "      <td>0.03</td>\n",
       "      <td>NaN</td>\n",
       "      <td>NaN</td>\n",
       "      <td>NaN</td>\n",
       "    </tr>\n",
       "    <tr>\n",
       "      <td>2240</td>\n",
       "      <td>Disney Magical World</td>\n",
       "      <td>3DS</td>\n",
       "      <td>2013.0</td>\n",
       "      <td>Adventure</td>\n",
       "      <td>0.17</td>\n",
       "      <td>0.20</td>\n",
       "      <td>0.53</td>\n",
       "      <td>0.03</td>\n",
       "      <td>71.0</td>\n",
       "      <td>7.5</td>\n",
       "      <td>E</td>\n",
       "    </tr>\n",
       "    <tr>\n",
       "      <td>16567</td>\n",
       "      <td>Memories Off #5: Togireta Film</td>\n",
       "      <td>PSP</td>\n",
       "      <td>2009.0</td>\n",
       "      <td>Adventure</td>\n",
       "      <td>0.00</td>\n",
       "      <td>0.00</td>\n",
       "      <td>0.01</td>\n",
       "      <td>0.00</td>\n",
       "      <td>NaN</td>\n",
       "      <td>NaN</td>\n",
       "      <td>NaN</td>\n",
       "    </tr>\n",
       "    <tr>\n",
       "      <td>12529</td>\n",
       "      <td>Call of Duty 2</td>\n",
       "      <td>PC</td>\n",
       "      <td>2005.0</td>\n",
       "      <td>Shooter</td>\n",
       "      <td>0.00</td>\n",
       "      <td>0.05</td>\n",
       "      <td>0.00</td>\n",
       "      <td>0.01</td>\n",
       "      <td>86.0</td>\n",
       "      <td>8.4</td>\n",
       "      <td>T</td>\n",
       "    </tr>\n",
       "    <tr>\n",
       "      <td>4277</td>\n",
       "      <td>Dora The Explorer: Dora Saves the Snow Princess</td>\n",
       "      <td>DS</td>\n",
       "      <td>2008.0</td>\n",
       "      <td>Platform</td>\n",
       "      <td>0.26</td>\n",
       "      <td>0.15</td>\n",
       "      <td>0.00</td>\n",
       "      <td>0.03</td>\n",
       "      <td>NaN</td>\n",
       "      <td>NaN</td>\n",
       "      <td>NaN</td>\n",
       "    </tr>\n",
       "    <tr>\n",
       "      <td>13074</td>\n",
       "      <td>Winning Post 7 2010</td>\n",
       "      <td>PSP</td>\n",
       "      <td>2010.0</td>\n",
       "      <td>Sports</td>\n",
       "      <td>0.00</td>\n",
       "      <td>0.00</td>\n",
       "      <td>0.05</td>\n",
       "      <td>0.00</td>\n",
       "      <td>NaN</td>\n",
       "      <td>NaN</td>\n",
       "      <td>NaN</td>\n",
       "    </tr>\n",
       "    <tr>\n",
       "      <td>12527</td>\n",
       "      <td>Terminator 3: The Redemption</td>\n",
       "      <td>XB</td>\n",
       "      <td>2004.0</td>\n",
       "      <td>Shooter</td>\n",
       "      <td>0.05</td>\n",
       "      <td>0.01</td>\n",
       "      <td>0.00</td>\n",
       "      <td>0.00</td>\n",
       "      <td>66.0</td>\n",
       "      <td>8.6</td>\n",
       "      <td>T</td>\n",
       "    </tr>\n",
       "    <tr>\n",
       "      <td>3734</td>\n",
       "      <td>Popeye</td>\n",
       "      <td>2600</td>\n",
       "      <td>1982.0</td>\n",
       "      <td>Platform</td>\n",
       "      <td>0.50</td>\n",
       "      <td>0.03</td>\n",
       "      <td>0.00</td>\n",
       "      <td>0.01</td>\n",
       "      <td>NaN</td>\n",
       "      <td>NaN</td>\n",
       "      <td>NaN</td>\n",
       "    </tr>\n",
       "    <tr>\n",
       "      <td>8624</td>\n",
       "      <td>TNA iMPACT!</td>\n",
       "      <td>Wii</td>\n",
       "      <td>2008.0</td>\n",
       "      <td>Fighting</td>\n",
       "      <td>0.14</td>\n",
       "      <td>0.01</td>\n",
       "      <td>0.00</td>\n",
       "      <td>0.01</td>\n",
       "      <td>NaN</td>\n",
       "      <td>NaN</td>\n",
       "      <td>NaN</td>\n",
       "    </tr>\n",
       "    <tr>\n",
       "      <td>13444</td>\n",
       "      <td>March of the Penguins</td>\n",
       "      <td>DS</td>\n",
       "      <td>2006.0</td>\n",
       "      <td>Adventure</td>\n",
       "      <td>0.04</td>\n",
       "      <td>0.00</td>\n",
       "      <td>0.00</td>\n",
       "      <td>0.00</td>\n",
       "      <td>34.0</td>\n",
       "      <td>1.7</td>\n",
       "      <td>E</td>\n",
       "    </tr>\n",
       "    <tr>\n",
       "      <td>16588</td>\n",
       "      <td>Slotter Mania P: Tetsuya Shinjuku vs Ueno</td>\n",
       "      <td>PSP</td>\n",
       "      <td>2010.0</td>\n",
       "      <td>Misc</td>\n",
       "      <td>0.00</td>\n",
       "      <td>0.00</td>\n",
       "      <td>0.01</td>\n",
       "      <td>0.00</td>\n",
       "      <td>NaN</td>\n",
       "      <td>NaN</td>\n",
       "      <td>NaN</td>\n",
       "    </tr>\n",
       "    <tr>\n",
       "      <td>5339</td>\n",
       "      <td>Kurushi Final: Mental Blocks</td>\n",
       "      <td>PS</td>\n",
       "      <td>1998.0</td>\n",
       "      <td>Puzzle</td>\n",
       "      <td>0.00</td>\n",
       "      <td>0.00</td>\n",
       "      <td>0.32</td>\n",
       "      <td>0.02</td>\n",
       "      <td>NaN</td>\n",
       "      <td>NaN</td>\n",
       "      <td>NaN</td>\n",
       "    </tr>\n",
       "    <tr>\n",
       "      <td>10810</td>\n",
       "      <td>Cartoon Network: Punch Time Explosion</td>\n",
       "      <td>3DS</td>\n",
       "      <td>2011.0</td>\n",
       "      <td>Fighting</td>\n",
       "      <td>0.07</td>\n",
       "      <td>0.02</td>\n",
       "      <td>0.00</td>\n",
       "      <td>0.01</td>\n",
       "      <td>58.0</td>\n",
       "      <td>5.9</td>\n",
       "      <td>E10+</td>\n",
       "    </tr>\n",
       "    <tr>\n",
       "      <td>1749</td>\n",
       "      <td>Jet Force Gemini</td>\n",
       "      <td>N64</td>\n",
       "      <td>1999.0</td>\n",
       "      <td>Shooter</td>\n",
       "      <td>0.78</td>\n",
       "      <td>0.28</td>\n",
       "      <td>0.07</td>\n",
       "      <td>0.02</td>\n",
       "      <td>NaN</td>\n",
       "      <td>NaN</td>\n",
       "      <td>NaN</td>\n",
       "    </tr>\n",
       "    <tr>\n",
       "      <td>9518</td>\n",
       "      <td>Army Men: Soldiers of Misfortune</td>\n",
       "      <td>Wii</td>\n",
       "      <td>2008.0</td>\n",
       "      <td>Shooter</td>\n",
       "      <td>0.12</td>\n",
       "      <td>0.00</td>\n",
       "      <td>0.00</td>\n",
       "      <td>0.01</td>\n",
       "      <td>NaN</td>\n",
       "      <td>2.5</td>\n",
       "      <td>E</td>\n",
       "    </tr>\n",
       "    <tr>\n",
       "      <td>5929</td>\n",
       "      <td>AMF Bowling 2004</td>\n",
       "      <td>XB</td>\n",
       "      <td>2003.0</td>\n",
       "      <td>Sports</td>\n",
       "      <td>0.22</td>\n",
       "      <td>0.06</td>\n",
       "      <td>0.00</td>\n",
       "      <td>0.01</td>\n",
       "      <td>48.0</td>\n",
       "      <td>4.4</td>\n",
       "      <td>NaN</td>\n",
       "    </tr>\n",
       "    <tr>\n",
       "      <td>10176</td>\n",
       "      <td>Astro Boy: The Video Game</td>\n",
       "      <td>PS2</td>\n",
       "      <td>2009.0</td>\n",
       "      <td>Action</td>\n",
       "      <td>0.05</td>\n",
       "      <td>0.04</td>\n",
       "      <td>0.00</td>\n",
       "      <td>0.01</td>\n",
       "      <td>56.0</td>\n",
       "      <td>5</td>\n",
       "      <td>E10+</td>\n",
       "    </tr>\n",
       "    <tr>\n",
       "      <td>16112</td>\n",
       "      <td>Sengoku</td>\n",
       "      <td>PC</td>\n",
       "      <td>2011.0</td>\n",
       "      <td>Strategy</td>\n",
       "      <td>0.00</td>\n",
       "      <td>0.01</td>\n",
       "      <td>0.00</td>\n",
       "      <td>0.00</td>\n",
       "      <td>70.0</td>\n",
       "      <td>6.8</td>\n",
       "      <td>T</td>\n",
       "    </tr>\n",
       "  </tbody>\n",
       "</table>\n",
       "</div>"
      ],
      "text/plain": [
       "                                                  Name Platform  \\\n",
       "5136                             Overlord: Dark Legend      Wii   \n",
       "13435                  The Misadventures of Tron Bonne       PS   \n",
       "7365                              SingStar Pop Edition      PS3   \n",
       "2240                              Disney Magical World      3DS   \n",
       "16567                   Memories Off #5: Togireta Film      PSP   \n",
       "12529                                   Call of Duty 2       PC   \n",
       "4277   Dora The Explorer: Dora Saves the Snow Princess       DS   \n",
       "13074                              Winning Post 7 2010      PSP   \n",
       "12527                     Terminator 3: The Redemption       XB   \n",
       "3734                                            Popeye     2600   \n",
       "8624                                       TNA iMPACT!      Wii   \n",
       "13444                            March of the Penguins       DS   \n",
       "16588       Slotter Mania P: Tetsuya Shinjuku vs Ueno       PSP   \n",
       "5339                      Kurushi Final: Mental Blocks       PS   \n",
       "10810            Cartoon Network: Punch Time Explosion      3DS   \n",
       "1749                                  Jet Force Gemini      N64   \n",
       "9518                  Army Men: Soldiers of Misfortune      Wii   \n",
       "5929                                  AMF Bowling 2004       XB   \n",
       "10176                        Astro Boy: The Video Game      PS2   \n",
       "16112                                          Sengoku       PC   \n",
       "\n",
       "       Year_of_Release      Genre  NA_sales  EU_sales  JP_sales  Other_sales  \\\n",
       "5136            2009.0     Action      0.11      0.22      0.00         0.04   \n",
       "13435           1999.0  Adventure      0.03      0.02      0.00         0.00   \n",
       "7365            2009.0       Misc      0.00      0.18      0.00         0.03   \n",
       "2240            2013.0  Adventure      0.17      0.20      0.53         0.03   \n",
       "16567           2009.0  Adventure      0.00      0.00      0.01         0.00   \n",
       "12529           2005.0    Shooter      0.00      0.05      0.00         0.01   \n",
       "4277            2008.0   Platform      0.26      0.15      0.00         0.03   \n",
       "13074           2010.0     Sports      0.00      0.00      0.05         0.00   \n",
       "12527           2004.0    Shooter      0.05      0.01      0.00         0.00   \n",
       "3734            1982.0   Platform      0.50      0.03      0.00         0.01   \n",
       "8624            2008.0   Fighting      0.14      0.01      0.00         0.01   \n",
       "13444           2006.0  Adventure      0.04      0.00      0.00         0.00   \n",
       "16588           2010.0       Misc      0.00      0.00      0.01         0.00   \n",
       "5339            1998.0     Puzzle      0.00      0.00      0.32         0.02   \n",
       "10810           2011.0   Fighting      0.07      0.02      0.00         0.01   \n",
       "1749            1999.0    Shooter      0.78      0.28      0.07         0.02   \n",
       "9518            2008.0    Shooter      0.12      0.00      0.00         0.01   \n",
       "5929            2003.0     Sports      0.22      0.06      0.00         0.01   \n",
       "10176           2009.0     Action      0.05      0.04      0.00         0.01   \n",
       "16112           2011.0   Strategy      0.00      0.01      0.00         0.00   \n",
       "\n",
       "       Critic_Score User_Score Rating  \n",
       "5136           68.0        7.9      T  \n",
       "13435           NaN        NaN    NaN  \n",
       "7365            NaN        NaN    NaN  \n",
       "2240           71.0        7.5      E  \n",
       "16567           NaN        NaN    NaN  \n",
       "12529          86.0        8.4      T  \n",
       "4277            NaN        NaN    NaN  \n",
       "13074           NaN        NaN    NaN  \n",
       "12527          66.0        8.6      T  \n",
       "3734            NaN        NaN    NaN  \n",
       "8624            NaN        NaN    NaN  \n",
       "13444          34.0        1.7      E  \n",
       "16588           NaN        NaN    NaN  \n",
       "5339            NaN        NaN    NaN  \n",
       "10810          58.0        5.9   E10+  \n",
       "1749            NaN        NaN    NaN  \n",
       "9518            NaN        2.5      E  \n",
       "5929           48.0        4.4    NaN  \n",
       "10176          56.0          5   E10+  \n",
       "16112          70.0        6.8      T  "
      ]
     },
     "metadata": {},
     "output_type": "display_data"
    }
   ],
   "source": [
    "df.info()\n",
    "display(df.sample(20))"
   ]
  },
  {
   "cell_type": "code",
   "execution_count": 3,
   "metadata": {},
   "outputs": [
    {
     "name": "stdout",
     "output_type": "stream",
     "text": [
      "[1980. 1981. 1982. 1983. 1984. 1985. 1986. 1987. 1988. 1989. 1990. 1991.\n",
      " 1992. 1993. 1994. 1995. 1996. 1997. 1998. 1999. 2000. 2001. 2002. 2003.\n",
      " 2004. 2005. 2006. 2007. 2008. 2009. 2010. 2011. 2012. 2013. 2014. 2015.\n",
      " 2016.   nan]\n"
     ]
    }
   ],
   "source": [
    "print(np.sort(df.Year_of_Release.unique()))"
   ]
  },
  {
   "cell_type": "code",
   "execution_count": 4,
   "metadata": {},
   "outputs": [
    {
     "name": "stdout",
     "output_type": "stream",
     "text": [
      "['2600' '3DO' '3DS' 'DC' 'DS' 'GB' 'GBA' 'GC' 'GEN' 'GG' 'N64' 'NES' 'NG'\n",
      " 'PC' 'PCFX' 'PS' 'PS2' 'PS3' 'PS4' 'PSP' 'PSV' 'SAT' 'SCD' 'SNES' 'TG16'\n",
      " 'WS' 'Wii' 'WiiU' 'X360' 'XB' 'XOne']\n"
     ]
    }
   ],
   "source": [
    "print(np.sort(df.Platform.unique()))"
   ]
  },
  {
   "cell_type": "code",
   "execution_count": 5,
   "metadata": {},
   "outputs": [
    {
     "name": "stdout",
     "output_type": "stream",
     "text": [
      "['Sports' 'Platform' 'Racing' 'Role-Playing' 'Puzzle' 'Misc' 'Shooter'\n",
      " 'Simulation' 'Action' 'Fighting' 'Adventure' 'Strategy' nan]\n"
     ]
    }
   ],
   "source": [
    "print(df.Genre.unique())"
   ]
  },
  {
   "cell_type": "code",
   "execution_count": 6,
   "metadata": {},
   "outputs": [
    {
     "name": "stdout",
     "output_type": "stream",
     "text": [
      "[13. 17. 19. 20. 21. 22. 23. 24. 25. 26. 27. 28. 29. 30. 31. 32. 33. 34.\n",
      " 35. 36. 37. 38. 39. 40. 41. 42. 43. 44. 45. 46. 47. 48. 49. 50. 51. 52.\n",
      " 53. 54. 55. 56. 57. 58. 59. 60. 61. 62. 63. 64. 65. 66. 67. 68. 69. 70.\n",
      " 71. 72. 73. 74. 75. 76. 77. 78. 79. 80. 81. 82. 83. 84. 85. 86. 87. 88.\n",
      " 89. 90. 91. 92. 93. 94. 95. 96. 97. 98. nan]\n"
     ]
    }
   ],
   "source": [
    "print(np.sort(df.Critic_Score.unique()))"
   ]
  },
  {
   "cell_type": "code",
   "execution_count": 7,
   "metadata": {},
   "outputs": [
    {
     "name": "stdout",
     "output_type": "stream",
     "text": [
      "['8' nan '8.3' '8.5' '6.6' '8.4' '8.6' '7.7' '6.3' '7.4' '8.2' '9' '7.9'\n",
      " '8.1' '8.7' '7.1' '3.4' '5.3' '4.8' '3.2' '8.9' '6.4' '7.8' '7.5' '2.6'\n",
      " '7.2' '9.2' '7' '7.3' '4.3' '7.6' '5.7' '5' '9.1' '6.5' 'tbd' '8.8' '6.9'\n",
      " '9.4' '6.8' '6.1' '6.7' '5.4' '4' '4.9' '4.5' '9.3' '6.2' '4.2' '6' '3.7'\n",
      " '4.1' '5.8' '5.6' '5.5' '4.4' '4.6' '5.9' '3.9' '3.1' '2.9' '5.2' '3.3'\n",
      " '4.7' '5.1' '3.5' '2.5' '1.9' '3' '2.7' '2.2' '2' '9.5' '2.1' '3.6' '2.8'\n",
      " '1.8' '3.8' '0' '1.6' '9.6' '2.4' '1.7' '1.1' '0.3' '1.5' '0.7' '1.2'\n",
      " '2.3' '0.5' '1.3' '0.2' '0.6' '1.4' '0.9' '1' '9.7']\n"
     ]
    }
   ],
   "source": [
    "print(df.User_Score.unique())"
   ]
  },
  {
   "cell_type": "code",
   "execution_count": 8,
   "metadata": {},
   "outputs": [
    {
     "name": "stdout",
     "output_type": "stream",
     "text": [
      "['E' nan 'M' 'T' 'E10+' 'K-A' 'AO' 'EC' 'RP']\n"
     ]
    }
   ],
   "source": [
    "print(df.Rating.unique())"
   ]
  },
  {
   "cell_type": "markdown",
   "metadata": {},
   "source": [
    "### перевод имен столбцов в нижний регистр"
   ]
  },
  {
   "cell_type": "code",
   "execution_count": 9,
   "metadata": {},
   "outputs": [],
   "source": [
    "df.columns = df.columns.str.lower()"
   ]
  },
  {
   "cell_type": "markdown",
   "metadata": {},
   "source": [
    "### вычисление суммарных продаж"
   ]
  },
  {
   "cell_type": "code",
   "execution_count": 10,
   "metadata": {},
   "outputs": [],
   "source": [
    "df['total_sales']=df.na_sales+df.eu_sales+df.jp_sales+df.other_sales"
   ]
  },
  {
   "cell_type": "markdown",
   "metadata": {},
   "source": [
    "## проверка данных"
   ]
  },
  {
   "cell_type": "markdown",
   "metadata": {},
   "source": [
    "### name"
   ]
  },
  {
   "cell_type": "markdown",
   "metadata": {},
   "source": [
    "есть две строки с пустыми наименованиями, посмотрим на них"
   ]
  },
  {
   "cell_type": "code",
   "execution_count": 11,
   "metadata": {},
   "outputs": [
    {
     "data": {
      "text/html": [
       "<div>\n",
       "<style scoped>\n",
       "    .dataframe tbody tr th:only-of-type {\n",
       "        vertical-align: middle;\n",
       "    }\n",
       "\n",
       "    .dataframe tbody tr th {\n",
       "        vertical-align: top;\n",
       "    }\n",
       "\n",
       "    .dataframe thead th {\n",
       "        text-align: right;\n",
       "    }\n",
       "</style>\n",
       "<table border=\"1\" class=\"dataframe\">\n",
       "  <thead>\n",
       "    <tr style=\"text-align: right;\">\n",
       "      <th></th>\n",
       "      <th>name</th>\n",
       "      <th>platform</th>\n",
       "      <th>year_of_release</th>\n",
       "      <th>genre</th>\n",
       "      <th>na_sales</th>\n",
       "      <th>eu_sales</th>\n",
       "      <th>jp_sales</th>\n",
       "      <th>other_sales</th>\n",
       "      <th>critic_score</th>\n",
       "      <th>user_score</th>\n",
       "      <th>rating</th>\n",
       "      <th>total_sales</th>\n",
       "    </tr>\n",
       "  </thead>\n",
       "  <tbody>\n",
       "    <tr>\n",
       "      <td>659</td>\n",
       "      <td>NaN</td>\n",
       "      <td>GEN</td>\n",
       "      <td>1993.0</td>\n",
       "      <td>NaN</td>\n",
       "      <td>1.78</td>\n",
       "      <td>0.53</td>\n",
       "      <td>0.00</td>\n",
       "      <td>0.08</td>\n",
       "      <td>NaN</td>\n",
       "      <td>NaN</td>\n",
       "      <td>NaN</td>\n",
       "      <td>2.39</td>\n",
       "    </tr>\n",
       "    <tr>\n",
       "      <td>14244</td>\n",
       "      <td>NaN</td>\n",
       "      <td>GEN</td>\n",
       "      <td>1993.0</td>\n",
       "      <td>NaN</td>\n",
       "      <td>0.00</td>\n",
       "      <td>0.00</td>\n",
       "      <td>0.03</td>\n",
       "      <td>0.00</td>\n",
       "      <td>NaN</td>\n",
       "      <td>NaN</td>\n",
       "      <td>NaN</td>\n",
       "      <td>0.03</td>\n",
       "    </tr>\n",
       "  </tbody>\n",
       "</table>\n",
       "</div>"
      ],
      "text/plain": [
       "      name platform  year_of_release genre  na_sales  eu_sales  jp_sales  \\\n",
       "659    NaN      GEN           1993.0   NaN      1.78      0.53      0.00   \n",
       "14244  NaN      GEN           1993.0   NaN      0.00      0.00      0.03   \n",
       "\n",
       "       other_sales  critic_score user_score rating  total_sales  \n",
       "659           0.08           NaN        NaN    NaN         2.39  \n",
       "14244         0.00           NaN        NaN    NaN         0.03  "
      ]
     },
     "metadata": {},
     "output_type": "display_data"
    }
   ],
   "source": [
    "display(df[pd.isnull(df['name'])])   "
   ]
  },
  {
   "cell_type": "markdown",
   "metadata": {},
   "source": [
    "Но поскольку наименование как таковое, нигде в анализе не участвует, а информация по продажам есть, то оставим как есть. Только заменим NaN на, например, tbd"
   ]
  },
  {
   "cell_type": "code",
   "execution_count": 12,
   "metadata": {},
   "outputs": [
    {
     "name": "stderr",
     "output_type": "stream",
     "text": [
      "/opt/conda/lib/python3.7/site-packages/pandas/core/generic.py:5208: SettingWithCopyWarning: \n",
      "A value is trying to be set on a copy of a slice from a DataFrame.\n",
      "Try using .loc[row_indexer,col_indexer] = value instead\n",
      "\n",
      "See the caveats in the documentation: http://pandas.pydata.org/pandas-docs/stable/user_guide/indexing.html#returning-a-view-versus-a-copy\n",
      "  self[name] = value\n"
     ]
    }
   ],
   "source": [
    "#df.drop(df[df.index==659].index, inplace=True)\n",
    "#df.drop(df[df.index==14244].index, inplace=True)\n",
    "df[df.index==659].name='tbd'\n",
    "df[df.index==14244].name='tbd'"
   ]
  },
  {
   "cell_type": "markdown",
   "metadata": {},
   "source": [
    "### user_score"
   ]
  },
  {
   "cell_type": "markdown",
   "metadata": {},
   "source": [
    "поскольку critic_score имеет тип float64, и для корректного сравнения заменим тип столбца user_score на float64\n",
    "значения tbd (данные нуждаются в уточнении) заменим на NAN. Это значение нельзя заменять на 0, т.к. замена на 0 приведет к падению рейтинга, а это не верно"
   ]
  },
  {
   "cell_type": "code",
   "execution_count": 13,
   "metadata": {},
   "outputs": [],
   "source": [
    "df.replace({'user_score': {'tbd' : np.NaN}},inplace=True)\n",
    "df.user_score=df.user_score.astype('float64')"
   ]
  },
  {
   "cell_type": "markdown",
   "metadata": {},
   "source": [
    "### Year_of_Release"
   ]
  },
  {
   "cell_type": "code",
   "execution_count": 14,
   "metadata": {},
   "outputs": [
    {
     "data": {
      "text/html": [
       "<div>\n",
       "<style scoped>\n",
       "    .dataframe tbody tr th:only-of-type {\n",
       "        vertical-align: middle;\n",
       "    }\n",
       "\n",
       "    .dataframe tbody tr th {\n",
       "        vertical-align: top;\n",
       "    }\n",
       "\n",
       "    .dataframe thead th {\n",
       "        text-align: right;\n",
       "    }\n",
       "</style>\n",
       "<table border=\"1\" class=\"dataframe\">\n",
       "  <thead>\n",
       "    <tr style=\"text-align: right;\">\n",
       "      <th></th>\n",
       "      <th>name</th>\n",
       "      <th>platform</th>\n",
       "      <th>year_of_release</th>\n",
       "      <th>genre</th>\n",
       "      <th>na_sales</th>\n",
       "      <th>eu_sales</th>\n",
       "      <th>jp_sales</th>\n",
       "      <th>other_sales</th>\n",
       "      <th>critic_score</th>\n",
       "      <th>user_score</th>\n",
       "      <th>rating</th>\n",
       "      <th>total_sales</th>\n",
       "    </tr>\n",
       "  </thead>\n",
       "  <tbody>\n",
       "    <tr>\n",
       "      <td>183</td>\n",
       "      <td>Madden NFL 2004</td>\n",
       "      <td>PS2</td>\n",
       "      <td>NaN</td>\n",
       "      <td>Sports</td>\n",
       "      <td>4.26</td>\n",
       "      <td>0.26</td>\n",
       "      <td>0.01</td>\n",
       "      <td>0.71</td>\n",
       "      <td>94.0</td>\n",
       "      <td>8.5</td>\n",
       "      <td>E</td>\n",
       "      <td>5.24</td>\n",
       "    </tr>\n",
       "    <tr>\n",
       "      <td>377</td>\n",
       "      <td>FIFA Soccer 2004</td>\n",
       "      <td>PS2</td>\n",
       "      <td>NaN</td>\n",
       "      <td>Sports</td>\n",
       "      <td>0.59</td>\n",
       "      <td>2.36</td>\n",
       "      <td>0.04</td>\n",
       "      <td>0.51</td>\n",
       "      <td>84.0</td>\n",
       "      <td>6.4</td>\n",
       "      <td>E</td>\n",
       "      <td>3.50</td>\n",
       "    </tr>\n",
       "    <tr>\n",
       "      <td>456</td>\n",
       "      <td>LEGO Batman: The Videogame</td>\n",
       "      <td>Wii</td>\n",
       "      <td>NaN</td>\n",
       "      <td>Action</td>\n",
       "      <td>1.80</td>\n",
       "      <td>0.97</td>\n",
       "      <td>0.00</td>\n",
       "      <td>0.29</td>\n",
       "      <td>74.0</td>\n",
       "      <td>7.9</td>\n",
       "      <td>E10+</td>\n",
       "      <td>3.06</td>\n",
       "    </tr>\n",
       "    <tr>\n",
       "      <td>475</td>\n",
       "      <td>wwe Smackdown vs. Raw 2006</td>\n",
       "      <td>PS2</td>\n",
       "      <td>NaN</td>\n",
       "      <td>Fighting</td>\n",
       "      <td>1.57</td>\n",
       "      <td>1.02</td>\n",
       "      <td>0.00</td>\n",
       "      <td>0.41</td>\n",
       "      <td>NaN</td>\n",
       "      <td>NaN</td>\n",
       "      <td>NaN</td>\n",
       "      <td>3.00</td>\n",
       "    </tr>\n",
       "    <tr>\n",
       "      <td>609</td>\n",
       "      <td>Space Invaders</td>\n",
       "      <td>2600</td>\n",
       "      <td>NaN</td>\n",
       "      <td>Shooter</td>\n",
       "      <td>2.36</td>\n",
       "      <td>0.14</td>\n",
       "      <td>0.00</td>\n",
       "      <td>0.03</td>\n",
       "      <td>NaN</td>\n",
       "      <td>NaN</td>\n",
       "      <td>NaN</td>\n",
       "      <td>2.53</td>\n",
       "    </tr>\n",
       "    <tr>\n",
       "      <td>...</td>\n",
       "      <td>...</td>\n",
       "      <td>...</td>\n",
       "      <td>...</td>\n",
       "      <td>...</td>\n",
       "      <td>...</td>\n",
       "      <td>...</td>\n",
       "      <td>...</td>\n",
       "      <td>...</td>\n",
       "      <td>...</td>\n",
       "      <td>...</td>\n",
       "      <td>...</td>\n",
       "      <td>...</td>\n",
       "    </tr>\n",
       "    <tr>\n",
       "      <td>16373</td>\n",
       "      <td>PDC World Championship Darts 2008</td>\n",
       "      <td>PSP</td>\n",
       "      <td>NaN</td>\n",
       "      <td>Sports</td>\n",
       "      <td>0.01</td>\n",
       "      <td>0.00</td>\n",
       "      <td>0.00</td>\n",
       "      <td>0.00</td>\n",
       "      <td>43.0</td>\n",
       "      <td>NaN</td>\n",
       "      <td>E10+</td>\n",
       "      <td>0.01</td>\n",
       "    </tr>\n",
       "    <tr>\n",
       "      <td>16405</td>\n",
       "      <td>Freaky Flyers</td>\n",
       "      <td>GC</td>\n",
       "      <td>NaN</td>\n",
       "      <td>Racing</td>\n",
       "      <td>0.01</td>\n",
       "      <td>0.00</td>\n",
       "      <td>0.00</td>\n",
       "      <td>0.00</td>\n",
       "      <td>69.0</td>\n",
       "      <td>6.5</td>\n",
       "      <td>T</td>\n",
       "      <td>0.01</td>\n",
       "    </tr>\n",
       "    <tr>\n",
       "      <td>16448</td>\n",
       "      <td>Inversion</td>\n",
       "      <td>PC</td>\n",
       "      <td>NaN</td>\n",
       "      <td>Shooter</td>\n",
       "      <td>0.01</td>\n",
       "      <td>0.00</td>\n",
       "      <td>0.00</td>\n",
       "      <td>0.00</td>\n",
       "      <td>59.0</td>\n",
       "      <td>6.7</td>\n",
       "      <td>M</td>\n",
       "      <td>0.01</td>\n",
       "    </tr>\n",
       "    <tr>\n",
       "      <td>16458</td>\n",
       "      <td>Hakuouki: Shinsengumi Kitan</td>\n",
       "      <td>PS3</td>\n",
       "      <td>NaN</td>\n",
       "      <td>Adventure</td>\n",
       "      <td>0.01</td>\n",
       "      <td>0.00</td>\n",
       "      <td>0.00</td>\n",
       "      <td>0.00</td>\n",
       "      <td>NaN</td>\n",
       "      <td>NaN</td>\n",
       "      <td>NaN</td>\n",
       "      <td>0.01</td>\n",
       "    </tr>\n",
       "    <tr>\n",
       "      <td>16522</td>\n",
       "      <td>Virtua Quest</td>\n",
       "      <td>GC</td>\n",
       "      <td>NaN</td>\n",
       "      <td>Role-Playing</td>\n",
       "      <td>0.01</td>\n",
       "      <td>0.00</td>\n",
       "      <td>0.00</td>\n",
       "      <td>0.00</td>\n",
       "      <td>55.0</td>\n",
       "      <td>5.5</td>\n",
       "      <td>T</td>\n",
       "      <td>0.01</td>\n",
       "    </tr>\n",
       "  </tbody>\n",
       "</table>\n",
       "<p>269 rows × 12 columns</p>\n",
       "</div>"
      ],
      "text/plain": [
       "                                    name platform  year_of_release  \\\n",
       "183                      Madden NFL 2004      PS2              NaN   \n",
       "377                     FIFA Soccer 2004      PS2              NaN   \n",
       "456           LEGO Batman: The Videogame      Wii              NaN   \n",
       "475           wwe Smackdown vs. Raw 2006      PS2              NaN   \n",
       "609                       Space Invaders     2600              NaN   \n",
       "...                                  ...      ...              ...   \n",
       "16373  PDC World Championship Darts 2008      PSP              NaN   \n",
       "16405                      Freaky Flyers       GC              NaN   \n",
       "16448                          Inversion       PC              NaN   \n",
       "16458        Hakuouki: Shinsengumi Kitan      PS3              NaN   \n",
       "16522                       Virtua Quest       GC              NaN   \n",
       "\n",
       "              genre  na_sales  eu_sales  jp_sales  other_sales  critic_score  \\\n",
       "183          Sports      4.26      0.26      0.01         0.71          94.0   \n",
       "377          Sports      0.59      2.36      0.04         0.51          84.0   \n",
       "456          Action      1.80      0.97      0.00         0.29          74.0   \n",
       "475        Fighting      1.57      1.02      0.00         0.41           NaN   \n",
       "609         Shooter      2.36      0.14      0.00         0.03           NaN   \n",
       "...             ...       ...       ...       ...          ...           ...   \n",
       "16373        Sports      0.01      0.00      0.00         0.00          43.0   \n",
       "16405        Racing      0.01      0.00      0.00         0.00          69.0   \n",
       "16448       Shooter      0.01      0.00      0.00         0.00          59.0   \n",
       "16458     Adventure      0.01      0.00      0.00         0.00           NaN   \n",
       "16522  Role-Playing      0.01      0.00      0.00         0.00          55.0   \n",
       "\n",
       "       user_score rating  total_sales  \n",
       "183           8.5      E         5.24  \n",
       "377           6.4      E         3.50  \n",
       "456           7.9   E10+         3.06  \n",
       "475           NaN    NaN         3.00  \n",
       "609           NaN    NaN         2.53  \n",
       "...           ...    ...          ...  \n",
       "16373         NaN   E10+         0.01  \n",
       "16405         6.5      T         0.01  \n",
       "16448         6.7      M         0.01  \n",
       "16458         NaN    NaN         0.01  \n",
       "16522         5.5      T         0.01  \n",
       "\n",
       "[269 rows x 12 columns]"
      ]
     },
     "metadata": {},
     "output_type": "display_data"
    }
   ],
   "source": [
    "display(df[pd.isnull(df['year_of_release'])])   "
   ]
  },
  {
   "cell_type": "markdown",
   "metadata": {},
   "source": [
    "<span style='color:blue '> \n",
    "269 строк, 1.6% от всех данных содержат пустое значение в годе. Столбец year_of_release является критичным для анализа, по нему будут производиться все группировки и строки с пустыми значениями соберуться в неинформативную группу. Поэтому я их удалю сразу. В реальности, при необходимости, имея наименование игр, в принципе можно восстановить даты выхода.\n",
    "    </span>"
   ]
  },
  {
   "cell_type": "code",
   "execution_count": 15,
   "metadata": {},
   "outputs": [
    {
     "name": "stdout",
     "output_type": "stream",
     "text": [
      "<class 'pandas.core.frame.DataFrame'>\n",
      "Int64Index: 16446 entries, 0 to 16714\n",
      "Data columns (total 12 columns):\n",
      "name               16444 non-null object\n",
      "platform           16446 non-null object\n",
      "year_of_release    16446 non-null float64\n",
      "genre              16444 non-null object\n",
      "na_sales           16446 non-null float64\n",
      "eu_sales           16446 non-null float64\n",
      "jp_sales           16446 non-null float64\n",
      "other_sales        16446 non-null float64\n",
      "critic_score       7983 non-null float64\n",
      "user_score         7463 non-null float64\n",
      "rating             9768 non-null object\n",
      "total_sales        16446 non-null float64\n",
      "dtypes: float64(8), object(4)\n",
      "memory usage: 1.6+ MB\n"
     ]
    }
   ],
   "source": [
    "df.drop(df[df['year_of_release'].isnull()].index, inplace=True)\n",
    "df.info()"
   ]
  },
  {
   "cell_type": "markdown",
   "metadata": {},
   "source": [
    "<span style='color:blue '> \n",
    "    Поля critic_score, user_score, rating содержат пустые значения, но тут ничего не поделаешь, если информации нет, то ее нет. Нечего фантазировать.\n",
    "    </span>"
   ]
  },
  {
   "cell_type": "markdown",
   "metadata": {},
   "source": [
    "## Анализ"
   ]
  },
  {
   "cell_type": "markdown",
   "metadata": {},
   "source": [
    "### количество игр по годам"
   ]
  },
  {
   "cell_type": "code",
   "execution_count": 16,
   "metadata": {},
   "outputs": [
    {
     "name": "stdout",
     "output_type": "stream",
     "text": [
      "37\n"
     ]
    }
   ],
   "source": [
    "print(len(df.groupby('year_of_release')['name'].count())) "
   ]
  },
  {
   "cell_type": "markdown",
   "metadata": {},
   "source": [
    "<span style='color:blue '> в столбце year_of_release, 37 значений, это нам нужно, что-бы адекватно нарисовать гистограмму\n",
    "    </span>"
   ]
  },
  {
   "cell_type": "code",
   "execution_count": 17,
   "metadata": {},
   "outputs": [
    {
     "data": {
      "image/png": "[encoded data removed]",
      "text/plain": [
       "<Figure size 1440x360 with 1 Axes>"
      ]
     },
     "metadata": {
      "needs_background": "light"
     },
     "output_type": "display_data"
    }
   ],
   "source": [
    "df.year_of_release.hist(bins=37,figsize=(20,5))\n",
    "plt.title('Количество игр по годам')\n",
    "plt.xlabel('Год')\n",
    "plt.ylabel('Количество')\n",
    "plt.show()"
   ]
  },
  {
   "cell_type": "markdown",
   "metadata": {},
   "source": [
    "<span style='color:blue '>\n",
    "    Судя по нашим данным, с 2007 по 2011 был золотой век, хотя точнее пятилетка, игровой индустрии.Хотя я думаю, это было скорее связанно с общей экономической ситуацией. Прилив поднимает все лодки, а в 2008 начался отлив. к 2011, похоже были законченны, так или иначе все проекты, начатые до 2008 года, и новые запускаются намного аккуратнее.\n",
    "     </span>"
   ]
  },
  {
   "cell_type": "code",
   "execution_count": 18,
   "metadata": {},
   "outputs": [
    {
     "data": {
      "image/png": "[encoded data removed]",
      "text/plain": [
       "<Figure size 1440x432 with 1 Axes>"
      ]
     },
     "metadata": {
      "needs_background": "light"
     },
     "output_type": "display_data"
    }
   ],
   "source": [
    "testdf=df.groupby('year_of_release')['total_sales'].sum()\n",
    "fig, ax = plt.subplots()\n",
    "ax.bar(testdf.index,height=testdf)\n",
    "fig.set_figwidth(20)  \n",
    "fig.set_figheight(6)\n",
    "plt.title('Распределение продаж по годам')\n",
    "plt.xlabel('год')\n",
    "plt.ylabel('Продаж')\n",
    "plt.show()"
   ]
  },
  {
   "cell_type": "markdown",
   "metadata": {},
   "source": [
    "<span style='color:blue '>\n",
    "    Собственно ситуация с выручкой показывает то-же самое. Можно только обратить внимание на 2016 год, который по количеству провалился не сильно, а по сумме вдвое отличается от 2015. Это связанно с тем, что данные за 2016 год не полные, т.е. в выходе игра уже отметилась, а продажи только пошли.\n",
    "     </span>"
   ]
  },
  {
   "cell_type": "code",
   "execution_count": 19,
   "metadata": {},
   "outputs": [
    {
     "data": {
      "image/png": "[encoded data removed]",
      "text/plain": [
       "<Figure size 1080x720 with 1 Axes>"
      ]
     },
     "metadata": {
      "needs_background": "light"
     },
     "output_type": "display_data"
    }
   ],
   "source": [
    "fig, ax = plt.subplots(figsize=(15,10))\n",
    "testdf=df.groupby('year_of_release')['na_sales'].sum()\n",
    "ax.plot(testdf.index, testdf, label='NA', linewidth=2)\n",
    "testdf=df.groupby('year_of_release')['eu_sales'].sum()\n",
    "ax.plot(testdf.index, testdf, label='EU', linewidth=2)\n",
    "testdf=df.groupby('year_of_release')['jp_sales'].sum()\n",
    "ax.plot(testdf.index, testdf, label='JP', linewidth=2)\n",
    "testdf=df.groupby('year_of_release')['other_sales'].sum()\n",
    "ax.plot(testdf.index, testdf, label='Other', linewidth=2)\n",
    "ax.legend()\n",
    "plt.show()"
   ]
  },
  {
   "cell_type": "markdown",
   "metadata": {},
   "source": [
    "<span style='color:blue '>\n",
    "    Северная америка самая играющая страна, или самая богатая. Или там люди совсем не знаю про торренты. В Японии наиболее равномерный спрос, стабильность как она есть. Странно что остальной мир дает так мало, я так понимаю что данных по китаю нет совсем. Потому что очень странно, что 1.5 млрд китайцев совсем не играют? Возможно они дали больший вклад в мобильных платформах.\n",
    "     </span>"
   ]
  },
  {
   "cell_type": "markdown",
   "metadata": {},
   "source": [
    "### определение популярности в прошлом"
   ]
  },
  {
   "cell_type": "code",
   "execution_count": 20,
   "metadata": {},
   "outputs": [
    {
     "data": {
      "image/png": "[encoded data removed]",
      "text/plain": [
       "<Figure size 1440x432 with 1 Axes>"
      ]
     },
     "metadata": {
      "needs_background": "light"
     },
     "output_type": "display_data"
    }
   ],
   "source": [
    "testdf=df.groupby('platform')['total_sales'].sum().sort_values(ascending=False)\n",
    "fig, ax = plt.subplots()\n",
    "ax.bar(testdf.index,height=testdf)\n",
    "fig.set_figwidth(20)  \n",
    "fig.set_figheight(6)\n",
    "plt.title('Распределение продаж по платформам')\n",
    "plt.xlabel('Наименование платформы')\n",
    "plt.ylabel('Количество')\n",
    "plt.show()"
   ]
  },
  {
   "cell_type": "markdown",
   "metadata": {},
   "source": [
    "<span style='color:blue '>\n",
    "    PS2 - легенда. Вот что значит выйти в нужное время, с нужными характеристиками и по адекватной цене. Компьютеры тогда совсем не тянули, и рынок был пуст - иди и захватывай. \n",
    "     </span>"
   ]
  },
  {
   "cell_type": "code",
   "execution_count": 21,
   "metadata": {},
   "outputs": [
    {
     "data": {
      "image/png": "[encoded data removed]",
      "text/plain": [
       "<Figure size 1080x720 with 6 Axes>"
      ]
     },
     "metadata": {
      "needs_background": "light"
     },
     "output_type": "display_data"
    }
   ],
   "source": [
    "platform={'PS2','X360','PS3','Wii','DS','PS'}\n",
    "fig, ax = plt.subplots(ncols=2,nrows=3,figsize=(15,10) )\n",
    "plt.subplots_adjust(hspace=0.5)\n",
    "i=0\n",
    "j=0\n",
    "for nm in platform:\n",
    "    testdf=df[df.platform==nm].groupby('year_of_release')['total_sales'].sum()\n",
    "    ax[i][j].bar(testdf.index,height=testdf)\n",
    "    ax[i][j].set_xlabel('Год')\n",
    "    ax[i][j].set_ylabel('Продаж всего')\n",
    "    ax[i][j].set_title(nm)\n",
    "    if j==0:\n",
    "        j=j+1\n",
    "    else:\n",
    "        j=0\n",
    "        i=i+1        \n",
    "plt.show()"
   ]
  },
  {
   "cell_type": "markdown",
   "metadata": {},
   "source": [
    "<span style='color:blue '>\n",
    "    Среднее время жизни платформы - 10 лет. Выделяются только Nintendo Ds. Срок жизни составил 5 лет. Видимо нишевый продукт, карманная консоль, очень большая конкуренция в том числе и сотовыми телефонами. Да и экран небольшой. В 2004/2005 году вышла Sony PSP, с невероятными для того времени характеристиками, хотя по продажам игр DS впереди.\n",
    "     </span>"
   ]
  },
  {
   "cell_type": "code",
   "execution_count": 22,
   "metadata": {},
   "outputs": [
    {
     "data": {
      "image/png": "[encoded data removed]",
      "text/plain": [
       "<Figure size 1080x720 with 1 Axes>"
      ]
     },
     "metadata": {
      "needs_background": "light"
     },
     "output_type": "display_data"
    }
   ],
   "source": [
    "fig, ax = plt.subplots(figsize=(15,10))\n",
    "for nm in platform:\n",
    "    testdf=df[df.platform==nm].groupby('year_of_release')['total_sales'].sum()\n",
    "    ax.plot(testdf.index, testdf, label=nm, linewidth=2)\n",
    "ax.legend()\n",
    "plt.show()\n",
    "    "
   ]
  },
  {
   "cell_type": "markdown",
   "metadata": {},
   "source": [
    "<span style='color:blue '>\n",
    "    Те же самые данные, только в виде линейных графиков на одном холсте.\n",
    "     </span>"
   ]
  },
  {
   "cell_type": "markdown",
   "metadata": {},
   "source": [
    "### определение перспективных платформ"
   ]
  },
  {
   "cell_type": "markdown",
   "metadata": {},
   "source": [
    "<span style='color:blue '>\n",
    "    <div>\n",
    "    Нам нужно определить актуальный период, за который мы будем в дальнейшем рассматривать данные. И на основании которого мы будем делать рекомендации на будущее.\n",
    "    </div>\n",
    "    <div>\n",
    "        На основании распределения выхода игр по годам и распределения выручки по годам (пункт 4.1) я принял решение взять данные с 2013 по 2015 годы включительно. Не хочу брать 2016, он не полный и до 2013 данные слишком оптимистичны. А за это период приемлимо плато.\n",
    "    </div>\n",
    "     </span>"
   ]
  },
  {
   "cell_type": "code",
   "execution_count": 23,
   "metadata": {},
   "outputs": [],
   "source": [
    "ndf=df[(df.year_of_release>=2013) & (df.year_of_release<=2015)]\n",
    "ndf=ndf.reset_index()"
   ]
  },
  {
   "cell_type": "markdown",
   "metadata": {},
   "source": [
    "<span style='color:blue '>\n",
    "Везде в дальнейшем используется датафрейм ndf, содержащий данные только с 2013 по 2015 годы, включительно\n",
    "</span>"
   ]
  },
  {
   "cell_type": "code",
   "execution_count": 24,
   "metadata": {},
   "outputs": [
    {
     "data": {
      "image/png": "[encoded data removed]",
      "text/plain": [
       "<Figure size 1080x720 with 1 Axes>"
      ]
     },
     "metadata": {
      "needs_background": "light"
     },
     "output_type": "display_data"
    }
   ],
   "source": [
    "fig, ax = plt.subplots(figsize=(15,10))\n",
    "platform=ndf.platform.unique()\n",
    "for nm in platform:\n",
    "    testdf=ndf[ndf.platform==nm].groupby('year_of_release')['total_sales'].sum()\n",
    "    ax.plot(testdf.index, testdf, label=nm, linewidth=2)\n",
    "ax.legend()\n",
    "plt.show()"
   ]
  },
  {
   "cell_type": "markdown",
   "metadata": {},
   "source": [
    "<span style='color:blue '>\n",
    "    Понятно, новые платформы PS4 и XboxOne идут вверх, остальные либо тянут лямку либо стагнируют. \n",
    "     </span>"
   ]
  },
  {
   "cell_type": "markdown",
   "metadata": {},
   "source": [
    "### box plot"
   ]
  },
  {
   "cell_type": "code",
   "execution_count": 25,
   "metadata": {},
   "outputs": [
    {
     "name": "stderr",
     "output_type": "stream",
     "text": [
      "/opt/conda/lib/python3.7/site-packages/numpy/core/_asarray.py:83: VisibleDeprecationWarning: Creating an ndarray from ragged nested sequences (which is a list-or-tuple of lists-or-tuples-or ndarrays with different lengths or shapes) is deprecated. If you meant to do this, you must specify 'dtype=object' when creating the ndarray\n",
      "  return array(a, dtype, copy=False, order=order)\n"
     ]
    },
    {
     "data": {
      "image/png": "[encoded data removed]",
      "text/plain": [
       "<Figure size 1440x720 with 1 Axes>"
      ]
     },
     "metadata": {
      "needs_background": "light"
     },
     "output_type": "display_data"
    }
   ],
   "source": [
    "#testdf=ndf.groupby('platform')['total_sales']\n",
    "data=[]\n",
    "\n",
    "for nm in platform:\n",
    "    testdf=ndf[ndf.platform==nm]['total_sales']\n",
    "    #print(len(testdf))\n",
    "    data.append(testdf)\n",
    "    \n",
    "data=np.asarray(data)\n",
    "\n",
    "fig, ax = plt.subplots()\n",
    "fig.set_figwidth(20)\n",
    "fig.set_figheight(10)\n",
    "plt.boxplot(data,labels=platform)\n",
    "plt.title('Диапазоны распределения выручки')\n",
    "plt.xlabel('Платформа')\n",
    "plt.ylabel('Выручка')\n",
    "plt.show()\n"
   ]
  },
  {
   "cell_type": "markdown",
   "metadata": {},
   "source": [
    "<span style='color:blue '>\n",
    "    Интересная картина, PSP и DS практически не имеют разброса, зарабатывают немного, но стабильно. Зато для консолей диапазон широчайший, от полного провала до невероятных взлетов. Интересно, что PC тоже довольно стабильная платформа.\n",
    "     </span>"
   ]
  },
  {
   "cell_type": "markdown",
   "metadata": {},
   "source": [
    "### корреляции"
   ]
  },
  {
   "cell_type": "code",
   "execution_count": 26,
   "metadata": {},
   "outputs": [
    {
     "data": {
      "text/plain": [
       "array([[<matplotlib.axes._subplots.AxesSubplot object at 0x7fa96efdb190>,\n",
       "        <matplotlib.axes._subplots.AxesSubplot object at 0x7fa96f858190>,\n",
       "        <matplotlib.axes._subplots.AxesSubplot object at 0x7fa96f905410>],\n",
       "       [<matplotlib.axes._subplots.AxesSubplot object at 0x7fa96efb7390>,\n",
       "        <matplotlib.axes._subplots.AxesSubplot object at 0x7fa96f12f450>,\n",
       "        <matplotlib.axes._subplots.AxesSubplot object at 0x7fa96f081c50>],\n",
       "       [<matplotlib.axes._subplots.AxesSubplot object at 0x7fa96d6d0490>,\n",
       "        <matplotlib.axes._subplots.AxesSubplot object at 0x7fa96d6fdc90>,\n",
       "        <matplotlib.axes._subplots.AxesSubplot object at 0x7fa96f8d8e50>]],\n",
       "      dtype=object)"
      ]
     },
     "execution_count": 26,
     "metadata": {},
     "output_type": "execute_result"
    },
    {
     "data": {
      "image/png": "[encoded data removed]",
      "text/plain": [
       "<Figure size 720x720 with 9 Axes>"
      ]
     },
     "metadata": {
      "needs_background": "light"
     },
     "output_type": "display_data"
    }
   ],
   "source": [
    "#testdf=ndf[ndf.platform=='PS4']\n",
    "testdf=ndf.loc[:,['name','genre','critic_score','user_score','total_sales']]\n",
    "pd.plotting.scatter_matrix(testdf, figsize=(10,10))"
   ]
  },
  {
   "cell_type": "markdown",
   "metadata": {},
   "source": [
    "<span style='color:blue '>\n",
    "    Как мы можем видеть, отзывы пользователей и критиков обладают большой корреляцией.\n",
    "    Так же четко скоррелированны продажи с отзывами критиков. Причем все высокие продажи расположенны исключительно в области высоких оценок. Дорого игру, не получившую высокие отзывы не продаш.\n",
    "    С пользовательскими оценками все чуть более размыто. Больше пользователей - больше мнений.\n",
    "     </span>"
   ]
  },
  {
   "cell_type": "code",
   "execution_count": 27,
   "metadata": {},
   "outputs": [
    {
     "data": {
      "image/png": "[encoded data removed]",
      "text/plain": [
       "<Figure size 1080x360 with 2 Axes>"
      ]
     },
     "metadata": {
      "needs_background": "light"
     },
     "output_type": "display_data"
    },
    {
     "name": "stdout",
     "output_type": "stream",
     "text": [
      "Коэффициент корреляции PS4 : 0.4318482049982005\n",
      "Коэффициент корреляции PS3 : 0.3342853393371919\n"
     ]
    }
   ],
   "source": [
    "testdf1=ndf[ndf.platform=='PS4'].loc[:,['name','genre','critic_score','user_score','total_sales']]\n",
    "testdf2=ndf[ndf.platform=='PS3'].loc[:,['name','genre','critic_score','user_score','total_sales']]\n",
    "\n",
    "fig, ax = plt.subplots(ncols=2,nrows=1,figsize=(15,5) )\n",
    "ax[0].scatter(x=testdf1.total_sales,y=testdf1.critic_score)\n",
    "ax[0].set_title('PS4')\n",
    "ax[0].set_xlabel('Сумма продаж')\n",
    "ax[0].set_ylabel('Рейтинг критиков')\n",
    "ax[1].scatter(x=testdf2.total_sales,y=testdf2.critic_score)\n",
    "ax[1].set_title('PS3')\n",
    "ax[1].set_xlabel('Сумма продаж')\n",
    "ax[1].set_ylabel('Рейтинг критиков')\n",
    "plt.show()\n",
    "print('Коэффициент корреляции PS4 : {}'.format(testdf1.total_sales.corr(testdf1.critic_score)))\n",
    "print('Коэффициент корреляции PS3 : {}'.format(testdf2.total_sales.corr(testdf2.critic_score)))"
   ]
  },
  {
   "cell_type": "markdown",
   "metadata": {},
   "source": [
    "<span style='color:blue '>\n",
    "    Как я и говорил, хорошие отзывы - хорошие продажи. 43% процента корреляция.\n",
    "     </span>"
   ]
  },
  {
   "cell_type": "code",
   "execution_count": 28,
   "metadata": {},
   "outputs": [
    {
     "data": {
      "image/png": "[encoded data removed]",
      "text/plain": [
       "<Figure size 1080x360 with 2 Axes>"
      ]
     },
     "metadata": {
      "needs_background": "light"
     },
     "output_type": "display_data"
    },
    {
     "name": "stdout",
     "output_type": "stream",
     "text": [
      "Коэффициент корреляции PS4 : 0.024230832360622553\n",
      "Коэффициент корреляции PS3 : -0.01633272834351343\n"
     ]
    }
   ],
   "source": [
    "testdf1=ndf[ndf.platform=='PS4'].loc[:,['name','genre','critic_score','user_score','total_sales']]\n",
    "testdf2=ndf[ndf.platform=='PS3'].loc[:,['name','genre','critic_score','user_score','total_sales']]\n",
    "\n",
    "fig, ax = plt.subplots(ncols=2,nrows=1,figsize=(15,5) )\n",
    "ax[0].scatter(x=testdf1.total_sales,y=testdf1.user_score)\n",
    "ax[0].set_title('PS4')\n",
    "ax[0].set_xlabel('Сумма продаж')\n",
    "ax[0].set_ylabel('Рейтинг пользователей')\n",
    "ax[1].scatter(x=testdf2.total_sales,y=testdf2.user_score)\n",
    "ax[1].set_title('PS3')\n",
    "ax[1].set_xlabel('Сумма продаж')\n",
    "ax[1].set_ylabel('Рейтинг пользователей')\n",
    "plt.show()\n",
    "print('Коэффициент корреляции PS4 : {}'.format(testdf1.total_sales.corr(testdf1.user_score)))\n",
    "print('Коэффициент корреляции PS3 : {}'.format(testdf2.total_sales.corr(testdf2.user_score)))"
   ]
  },
  {
   "cell_type": "markdown",
   "metadata": {},
   "source": [
    "<span style='color:blue '>\n",
    "    А вот пользователи не так единодушны. Видимо они не учитывают мнение других пользователей, когда высказывают свое. В отличии от профессиональных критиков, которые никогда не пойдут против мнения сообщества критиков. Неплохие продажи имели игры даже с рейтингом 3. Видимо у пользователей свои критерии оценки.\n",
    "     </span>"
   ]
  },
  {
   "cell_type": "markdown",
   "metadata": {},
   "source": [
    "### продажи по жанрам"
   ]
  },
  {
   "cell_type": "code",
   "execution_count": 29,
   "metadata": {},
   "outputs": [
    {
     "data": {
      "image/png": "[encoded data removed]",
      "text/plain": [
       "<Figure size 1080x360 with 1 Axes>"
      ]
     },
     "metadata": {
      "needs_background": "light"
     },
     "output_type": "display_data"
    }
   ],
   "source": [
    "\n",
    "testdf=ndf.groupby('genre').total_sales.sum().sort_values(ascending=False)\n",
    "fig, ax = plt.subplots(figsize=(15,5))\n",
    "ax.bar(testdf.index, testdf)   \n",
    "plt.show()"
   ]
  },
  {
   "cell_type": "markdown",
   "metadata": {},
   "source": [
    "<span style='color:blue '>\n",
    "    Если сложить Action и Shooter (категории близкие) то на их фоне все остальные жанры просто потеряются. Вот и доказывай после этого, что компьютерные игры развивают, а не тупые стрелялки. \n",
    "     </span>"
   ]
  },
  {
   "cell_type": "markdown",
   "metadata": {},
   "source": [
    "## портрет пользователя"
   ]
  },
  {
   "cell_type": "markdown",
   "metadata": {},
   "source": [
    "### популярные платформы"
   ]
  },
  {
   "cell_type": "code",
   "execution_count": 30,
   "metadata": {},
   "outputs": [
    {
     "data": {
      "image/png": "[encoded data removed]",
      "text/plain": [
       "<Figure size 1080x504 with 4 Axes>"
      ]
     },
     "metadata": {
      "needs_background": "light"
     },
     "output_type": "display_data"
    }
   ],
   "source": [
    "fig, ax = plt.subplots(ncols=2,nrows=2,figsize=(15,7) )\n",
    "plt.subplots_adjust(hspace=0.5)\n",
    "\n",
    "testdf=ndf.groupby('platform')['na_sales'].sum().sort_values(ascending=False)\n",
    "ax[0][0].bar(testdf.index,height=testdf)\n",
    "ax[0][0].set_title('Популярность платформ в северной америке')\n",
    "ax[0][0].set_xlabel('Наименование платформы')\n",
    "ax[0][0].set_ylabel('Выручка')\n",
    "\n",
    "\n",
    "testdf=ndf.groupby('platform')['jp_sales'].sum().sort_values(ascending=False)\n",
    "ax[0][1].bar(testdf.index,height=testdf)\n",
    "ax[0][1].set_title('Популярность платформ в японии')\n",
    "ax[0][1].set_xlabel('Наименование платформы')\n",
    "ax[0][1].set_ylabel('Выручка')\n",
    "\n",
    "\n",
    "testdf=ndf.groupby('platform')['eu_sales'].sum().sort_values(ascending=False)\n",
    "ax[1][0].bar(testdf.index,height=testdf)\n",
    "ax[1][0].set_title('Популярность платформ в европе')\n",
    "ax[1][0].set_xlabel('Наименование платформы')\n",
    "ax[1][0].set_ylabel('Выручка')\n",
    "\n",
    "\n",
    "\n",
    "testdf=ndf.groupby('platform')['other_sales'].sum().sort_values(ascending=False)\n",
    "ax[1][1].bar(testdf.index,height=testdf)\n",
    "ax[1][1].set_title('Популярность платформ в остальном мире')\n",
    "ax[1][1].set_xlabel('Наименование платформы')\n",
    "ax[1][1].set_ylabel('Выручка')\n",
    "\n",
    "plt.show()"
   ]
  },
  {
   "cell_type": "markdown",
   "metadata": {},
   "source": [
    "<span style='color:blue '>\n",
    "    Честно сказать, для меня стало шоком, что рынок PC игр в такой, скажем так, далеко от топовых позиций. Видимо пиратство делает свое благородное дело. В то время как на консолях запускать не лицензионные игры сопряженно с некоторыми сложностями. И японцы похоже дома не живут. 3DS кроет всех остальных вместе взятых.\n",
    "     </span>"
   ]
  },
  {
   "cell_type": "markdown",
   "metadata": {},
   "source": [
    "### популярные жанры"
   ]
  },
  {
   "cell_type": "code",
   "execution_count": 31,
   "metadata": {},
   "outputs": [
    {
     "data": {
      "image/png": "[encoded data removed]",
      "text/plain": [
       "<Figure size 1080x1080 with 4 Axes>"
      ]
     },
     "metadata": {
      "needs_background": "light"
     },
     "output_type": "display_data"
    }
   ],
   "source": [
    "fig, ax = plt.subplots(ncols=1,nrows=4,figsize=(15,15) )\n",
    "plt.subplots_adjust(hspace=0.6)\n",
    "\n",
    "testdf=ndf.groupby('genre')['na_sales'].sum().sort_values(ascending=False)\n",
    "ax[0].bar(testdf.index,height=testdf)\n",
    "ax[0].set_title('Популярность жанров в северной америке')\n",
    "ax[0].set_xlabel('Наименование жанров')\n",
    "ax[0].set_ylabel('Выручка')\n",
    "\n",
    "\n",
    "testdf=ndf.groupby('genre')['jp_sales'].sum().sort_values(ascending=False)\n",
    "ax[1].bar(testdf.index,height=testdf)\n",
    "ax[1].set_title('Популярность жанров в японии')\n",
    "ax[1].set_xlabel('Наименование жанров')\n",
    "ax[1].set_ylabel('Выручка')\n",
    "\n",
    "\n",
    "testdf=ndf.groupby('genre')['eu_sales'].sum().sort_values(ascending=False)\n",
    "ax[2].bar(testdf.index,height=testdf)\n",
    "ax[2].set_title('Популярность жанров в европе')\n",
    "ax[2].set_xlabel('Наименование жанров')\n",
    "ax[2].set_ylabel('Выручка')\n",
    "\n",
    "\n",
    "\n",
    "testdf=ndf.groupby('genre')['other_sales'].sum().sort_values(ascending=False)\n",
    "ax[3].bar(testdf.index,height=testdf)\n",
    "ax[3].set_title('Популярность жанров в остальном мире')\n",
    "ax[3].set_xlabel('Наименование жанров')\n",
    "ax[3].set_ylabel('Выручка')\n",
    "\n",
    "plt.show()"
   ]
  },
  {
   "cell_type": "markdown",
   "metadata": {},
   "source": [
    "<span style='color:blue '>\n",
    "    Тут тоже ничего необычного. Северная америка, европа и остальной  мир, дома на дорогих консолях играют в стрелялки. Японцы на карманных 3DS играют в пошаговые RPG. Может даже 18+\n",
    "     </span>"
   ]
  },
  {
   "cell_type": "markdown",
   "metadata": {},
   "source": [
    "### влияние рейтинга"
   ]
  },
  {
   "cell_type": "code",
   "execution_count": 32,
   "metadata": {},
   "outputs": [
    {
     "data": {
      "image/png": "[encoded data removed]",
      "text/plain": [
       "<Figure size 1080x720 with 4 Axes>"
      ]
     },
     "metadata": {
      "needs_background": "light"
     },
     "output_type": "display_data"
    }
   ],
   "source": [
    "# заменить nan на tbd\n",
    "\n",
    "fig, ax = plt.subplots(ncols=2,nrows=2,figsize=(15,10) )\n",
    "plt.subplots_adjust(hspace=0.6)\n",
    "\n",
    "testdf=ndf.loc[:,['name','genre','na_sales','rating','eu_sales','jp_sales','other_sales']]\n",
    "testdf.rating=testdf.rating.fillna('tbd')\n",
    "\n",
    "\n",
    "\n",
    "ax[0][0].scatter(y=testdf.na_sales,x=testdf.rating)\n",
    "ax[0][0].set_title('Северная америка')\n",
    "ax[0][0].set_xlabel('Рейтинг ESRB')\n",
    "ax[0][0].set_ylabel('Сумма продаж')\n",
    "\n",
    "ax[0][1].scatter(y=testdf.eu_sales,x=testdf.rating)\n",
    "ax[0][1].set_title('Европа')\n",
    "ax[0][1].set_xlabel('Рейтинг ESRB')\n",
    "ax[0][1].set_ylabel('Сумма продаж')\n",
    "\n",
    "ax[1][0].scatter(y=testdf.jp_sales,x=testdf.rating)\n",
    "ax[1][0].set_title('Япония')\n",
    "ax[1][0].set_xlabel('Рейтинг ESRB')\n",
    "ax[1][0].set_ylabel('Сумма продаж')\n",
    "\n",
    "ax[1][1].scatter(y=testdf.other_sales,x=testdf.rating)\n",
    "ax[1][1].set_title('Прочий')\n",
    "ax[1][1].set_xlabel('Рейтинг ESRB')\n",
    "ax[1][1].set_ylabel('Сумма продаж')\n",
    "plt.show()\n",
    "\n",
    "\n"
   ]
  },
  {
   "cell_type": "markdown",
   "metadata": {},
   "source": [
    "<span style='color:blue '>\n",
    "    Для северной америки, европы и прочих основной рейтинг М. Потому что основной жанр Action и Shooter, а там нифига не цветочки собирают. Судя по рейтингам японии, на своих карманных консолях играют в симуляторы свиданий для подростков, совсем мало М и большой Т. А вот европейцы явно играю в развивающие игры для детей, большой Е.\n",
    "     </span>"
   ]
  },
  {
   "cell_type": "markdown",
   "metadata": {},
   "source": [
    "## Проверка гипотез"
   ]
  },
  {
   "cell_type": "markdown",
   "metadata": {},
   "source": [
    "### гипотеза 1"
   ]
  },
  {
   "cell_type": "markdown",
   "metadata": {},
   "source": [
    "Нулевая гипотеза:\n",
    " Средние пользовательские рейтинги платформ XboX One и PC одинаковые\n",
    " \n",
    "Альтернативная гипотеза:\n",
    " Средние пользовательские рейтинги платформ XboX One и PC не одинаковые"
   ]
  },
  {
   "cell_type": "code",
   "execution_count": 33,
   "metadata": {},
   "outputs": [
    {
     "name": "stdout",
     "output_type": "stream",
     "text": [
      "Ttest_indResult(statistic=1.076751678005444, pvalue=0.2827494983260732)\n"
     ]
    }
   ],
   "source": [
    "dfX=ndf[ndf.platform=='XOne'].user_score\n",
    "dfX=dfX.dropna()\n",
    "dfP=ndf[ndf.platform=='PC'].user_score\n",
    "dfP=dfP.dropna()\n",
    "result=st.ttest_ind(dfX,dfP)\n",
    "print(result)"
   ]
  },
  {
   "cell_type": "markdown",
   "metadata": {},
   "source": [
    "<span style='color:blue '>\n",
    "    С вероятностью 28% нулевая гипотеза подтверждена. Рейтинги платформ XboX One и PC одинаковые.\n",
    "     </span>"
   ]
  },
  {
   "cell_type": "markdown",
   "metadata": {},
   "source": [
    "### гипотеза 2"
   ]
  },
  {
   "cell_type": "markdown",
   "metadata": {},
   "source": [
    "Нулевая гипотеза:\n",
    " Средние пользовательские рейтинги жанров Action и Sports одинаковые\n",
    "\n",
    "Альтернативная гипотеза:\n",
    " Средние пользовательские рейтинги жанров Action и Sports не одинаковые"
   ]
  },
  {
   "cell_type": "code",
   "execution_count": 34,
   "metadata": {},
   "outputs": [
    {
     "name": "stdout",
     "output_type": "stream",
     "text": [
      "Ttest_indResult(statistic=11.31018859674032, pvalue=4.157989291674154e-26)\n"
     ]
    }
   ],
   "source": [
    "dfX=ndf[ndf.genre=='Action'].user_score\n",
    "dfX=dfX.dropna()\n",
    "dfP=ndf[ndf.genre=='Sports'].user_score\n",
    "dfP=dfP.dropna()\n",
    "result=st.ttest_ind(dfX,dfP)\n",
    "print(result)"
   ]
  },
  {
   "cell_type": "markdown",
   "metadata": {},
   "source": [
    "<span style='color:blue '>\n",
    "    Тут нулевая гипотеза однозначно отвергается. Что собственно и не удивительно, жанры Action и Sports сильно разные.\n",
    "     </span>"
   ]
  },
  {
   "cell_type": "markdown",
   "metadata": {},
   "source": [
    "## заключение"
   ]
  },
  {
   "cell_type": "markdown",
   "metadata": {},
   "source": [
    "<span style='color:blue '>\n",
    "    В качестве рекомендаций на будущий период можно сказать следующее:\n",
    "    \n",
    "    Для рынков северной америки, европы и остального мира\n",
    "    1. Очевидно, что будет возрастать спрос на игры для новых консолей, недавно вышедших на рынок: PS4 и Xbox.\n",
    "    2. Жанры Action и Shooter - вне конкуренции.\n",
    "    3. Основная категория игроков М по спецификации ESRB.\n",
    "    \n",
    "    Для рынков японии\n",
    "    1. наиболее популярной платформой остается 3DS\n",
    "    2. основной жанр - RPG\n",
    "    3. возрастные группы Т и Е10\n",
    "    \n",
    "    Но в то-же время рынок игр для PC демонстрирует неплохую стабильность. Хотя в целом он меньше, чем рынок игр для консолей, но на нем нет и особых провалов. Успех на консоли будет иметь либо какой-то эксклюзив, либо что-то, что получит высокие рейтинги критиков. В то время как PC бояре жрут практически все, только благодаря пиратству платить не хотят.\n",
    "    \n",
    "    Так же необходимо отметить нарастающую популярность сотовых платформ, хотя они и предоставленны в нащих данных. Но их основная сложность,что продавец игр один и монопольный. Большинство игр бесплатны и монетизация осуществляется внутри игры, т.е. мы с этого денег не получим.\n",
    "   "
   ]
  },
  {
   "cell_type": "code",
   "execution_count": null,
   "metadata": {},
   "outputs": [],
   "source": []
  }
 ],
 "metadata": {
  "ExecuteTimeLog": [
   {
    "duration": 219,
    "start_time": "2021-09-23T13:54:45.519Z"
   },
   {
    "duration": 63,
    "start_time": "2021-09-23T13:54:52.161Z"
   },
   {
    "duration": 189,
    "start_time": "2021-09-23T13:54:53.138Z"
   },
   {
    "duration": 611,
    "start_time": "2021-09-23T13:55:17.393Z"
   },
   {
    "duration": 24,
    "start_time": "2021-09-23T13:55:19.552Z"
   },
   {
    "duration": 1016,
    "start_time": "2021-09-25T03:37:18.219Z"
   },
   {
    "duration": 818,
    "start_time": "2021-09-25T03:37:22.250Z"
   },
   {
    "duration": 42,
    "start_time": "2021-09-25T03:37:23.426Z"
   },
   {
    "duration": 1434,
    "start_time": "2021-09-25T03:54:17.426Z"
   },
   {
    "duration": 41,
    "start_time": "2021-09-25T03:54:18.863Z"
   },
   {
    "duration": 7,
    "start_time": "2021-09-25T03:54:18.906Z"
   },
   {
    "duration": 1340,
    "start_time": "2021-09-25T04:32:52.717Z"
   },
   {
    "duration": 40,
    "start_time": "2021-09-25T04:32:54.059Z"
   },
   {
    "duration": 6,
    "start_time": "2021-09-25T04:32:54.102Z"
   },
   {
    "duration": 9,
    "start_time": "2021-09-25T04:32:54.112Z"
   },
   {
    "duration": 42,
    "start_time": "2021-09-25T04:32:54.123Z"
   },
   {
    "duration": 21,
    "start_time": "2021-09-25T04:32:54.168Z"
   },
   {
    "duration": 6,
    "start_time": "2021-09-25T04:32:54.192Z"
   },
   {
    "duration": 9,
    "start_time": "2021-09-25T04:32:54.202Z"
   },
   {
    "duration": 391,
    "start_time": "2021-09-25T04:35:56.846Z"
   },
   {
    "duration": 5,
    "start_time": "2021-09-25T04:37:05.767Z"
   },
   {
    "duration": 6,
    "start_time": "2021-09-25T04:37:13.554Z"
   },
   {
    "duration": 6,
    "start_time": "2021-09-25T04:38:06.837Z"
   },
   {
    "duration": 1411,
    "start_time": "2021-09-25T04:39:17.955Z"
   },
   {
    "duration": 42,
    "start_time": "2021-09-25T04:39:19.369Z"
   },
   {
    "duration": 6,
    "start_time": "2021-09-25T04:39:19.414Z"
   },
   {
    "duration": 8,
    "start_time": "2021-09-25T04:39:19.423Z"
   },
   {
    "duration": 647,
    "start_time": "2021-09-25T04:39:19.433Z"
   },
   {
    "duration": -86,
    "start_time": "2021-09-25T04:39:20.169Z"
   },
   {
    "duration": -86,
    "start_time": "2021-09-25T04:39:20.170Z"
   },
   {
    "duration": -125,
    "start_time": "2021-09-25T04:39:20.211Z"
   },
   {
    "duration": 6,
    "start_time": "2021-09-25T04:39:53.305Z"
   },
   {
    "duration": 7,
    "start_time": "2021-09-25T04:39:59.566Z"
   },
   {
    "duration": 417,
    "start_time": "2021-09-25T04:40:05.603Z"
   },
   {
    "duration": 6,
    "start_time": "2021-09-25T04:40:15.690Z"
   },
   {
    "duration": 509,
    "start_time": "2021-09-25T04:40:21.778Z"
   },
   {
    "duration": 6,
    "start_time": "2021-09-25T04:40:30.198Z"
   },
   {
    "duration": 1397,
    "start_time": "2021-09-25T04:41:43.335Z"
   },
   {
    "duration": 46,
    "start_time": "2021-09-25T04:41:44.735Z"
   },
   {
    "duration": 7,
    "start_time": "2021-09-25T04:41:44.785Z"
   },
   {
    "duration": 7,
    "start_time": "2021-09-25T04:41:44.795Z"
   },
   {
    "duration": 7,
    "start_time": "2021-09-25T04:41:44.805Z"
   },
   {
    "duration": 47,
    "start_time": "2021-09-25T04:41:44.815Z"
   },
   {
    "duration": 8,
    "start_time": "2021-09-25T04:41:44.865Z"
   },
   {
    "duration": 9,
    "start_time": "2021-09-25T04:41:44.878Z"
   },
   {
    "duration": 6,
    "start_time": "2021-09-25T04:44:10.211Z"
   },
   {
    "duration": 15,
    "start_time": "2021-09-25T04:47:54.580Z"
   },
   {
    "duration": 437,
    "start_time": "2021-09-25T04:49:17.946Z"
   },
   {
    "duration": 13,
    "start_time": "2021-09-25T04:49:30.417Z"
   },
   {
    "duration": 42,
    "start_time": "2021-09-25T04:50:18.922Z"
   },
   {
    "duration": 42,
    "start_time": "2021-09-25T04:50:32.869Z"
   },
   {
    "duration": 42,
    "start_time": "2021-09-25T04:50:40.002Z"
   },
   {
    "duration": 11288,
    "start_time": "2021-09-25T04:53:57.739Z"
   },
   {
    "duration": 27,
    "start_time": "2021-09-25T04:54:27.057Z"
   },
   {
    "duration": 34,
    "start_time": "2021-09-25T04:54:38.130Z"
   },
   {
    "duration": 20,
    "start_time": "2021-09-25T04:55:03.123Z"
   },
   {
    "duration": 34,
    "start_time": "2021-09-25T04:57:25.107Z"
   },
   {
    "duration": 27,
    "start_time": "2021-09-25T05:00:04.187Z"
   },
   {
    "duration": 293,
    "start_time": "2021-09-25T05:13:57.215Z"
   },
   {
    "duration": 32,
    "start_time": "2021-09-25T05:14:46.415Z"
   },
   {
    "duration": 1386,
    "start_time": "2021-09-25T05:18:31.681Z"
   },
   {
    "duration": 41,
    "start_time": "2021-09-25T05:18:33.069Z"
   },
   {
    "duration": 7,
    "start_time": "2021-09-25T05:18:33.112Z"
   },
   {
    "duration": 26,
    "start_time": "2021-09-25T05:18:33.121Z"
   },
   {
    "duration": 26,
    "start_time": "2021-09-25T05:18:33.149Z"
   },
   {
    "duration": 28,
    "start_time": "2021-09-25T05:18:33.177Z"
   },
   {
    "duration": 30,
    "start_time": "2021-09-25T05:18:33.207Z"
   },
   {
    "duration": 28,
    "start_time": "2021-09-25T05:18:33.240Z"
   },
   {
    "duration": 35,
    "start_time": "2021-09-25T05:18:33.271Z"
   },
   {
    "duration": 38,
    "start_time": "2021-09-25T05:18:33.309Z"
   },
   {
    "duration": 24,
    "start_time": "2021-09-25T05:18:33.350Z"
   },
   {
    "duration": 25,
    "start_time": "2021-09-25T05:18:33.376Z"
   },
   {
    "duration": 44,
    "start_time": "2021-09-25T05:18:33.404Z"
   },
   {
    "duration": 404,
    "start_time": "2021-09-25T05:19:17.326Z"
   },
   {
    "duration": 7,
    "start_time": "2021-09-25T05:19:27.960Z"
   },
   {
    "duration": 9,
    "start_time": "2021-09-25T05:24:38.101Z"
   },
   {
    "duration": 13,
    "start_time": "2021-09-25T05:24:38.995Z"
   },
   {
    "duration": 286,
    "start_time": "2021-09-25T05:32:23.582Z"
   },
   {
    "duration": 13,
    "start_time": "2021-09-25T05:32:49.666Z"
   },
   {
    "duration": 15,
    "start_time": "2021-09-25T05:33:00.597Z"
   },
   {
    "duration": 286,
    "start_time": "2021-09-25T08:18:55.581Z"
   },
   {
    "duration": 306,
    "start_time": "2021-09-25T08:20:17.902Z"
   },
   {
    "duration": 284,
    "start_time": "2021-09-25T08:20:38.664Z"
   },
   {
    "duration": 491,
    "start_time": "2021-09-25T08:21:43.642Z"
   },
   {
    "duration": 488,
    "start_time": "2021-09-25T08:22:14.153Z"
   },
   {
    "duration": 497,
    "start_time": "2021-09-25T08:22:21.913Z"
   },
   {
    "duration": 525,
    "start_time": "2021-09-25T08:22:59.157Z"
   },
   {
    "duration": 510,
    "start_time": "2021-09-25T08:23:08.767Z"
   },
   {
    "duration": 497,
    "start_time": "2021-09-25T08:23:16.552Z"
   },
   {
    "duration": 607,
    "start_time": "2021-09-25T08:24:53.577Z"
   },
   {
    "duration": 278,
    "start_time": "2021-09-25T08:27:54.895Z"
   },
   {
    "duration": 11,
    "start_time": "2021-09-25T08:28:24.267Z"
   },
   {
    "duration": 649,
    "start_time": "2021-09-25T08:30:06.282Z"
   },
   {
    "duration": 314,
    "start_time": "2021-09-25T08:30:43.369Z"
   },
   {
    "duration": 632,
    "start_time": "2021-09-25T08:31:26.440Z"
   },
   {
    "duration": 678,
    "start_time": "2021-09-25T08:31:45.811Z"
   },
   {
    "duration": 603,
    "start_time": "2021-09-25T08:32:47.824Z"
   },
   {
    "duration": 8222,
    "start_time": "2021-09-25T08:38:00.825Z"
   },
   {
    "duration": 1752,
    "start_time": "2021-09-25T08:38:26.928Z"
   },
   {
    "duration": 1715,
    "start_time": "2021-09-25T08:39:37.837Z"
   },
   {
    "duration": 47,
    "start_time": "2021-09-25T08:40:09.703Z"
   },
   {
    "duration": 2814,
    "start_time": "2021-09-25T08:41:34.006Z"
   },
   {
    "duration": 2059,
    "start_time": "2021-09-25T08:42:11.769Z"
   },
   {
    "duration": 106,
    "start_time": "2021-09-25T08:44:14.283Z"
   },
   {
    "duration": 1793,
    "start_time": "2021-09-25T08:44:37.562Z"
   },
   {
    "duration": 2841,
    "start_time": "2021-09-25T08:46:39.968Z"
   },
   {
    "duration": 1917,
    "start_time": "2021-09-25T08:48:02.714Z"
   },
   {
    "duration": 1918,
    "start_time": "2021-09-25T08:50:51.761Z"
   },
   {
    "duration": 1709,
    "start_time": "2021-09-25T08:51:00.277Z"
   },
   {
    "duration": 2021,
    "start_time": "2021-09-25T08:54:41.591Z"
   },
   {
    "duration": 2031,
    "start_time": "2021-09-25T08:56:15.358Z"
   },
   {
    "duration": 1935,
    "start_time": "2021-09-25T08:56:30.614Z"
   },
   {
    "duration": 1970,
    "start_time": "2021-09-25T08:58:37.792Z"
   },
   {
    "duration": 3223,
    "start_time": "2021-09-25T08:59:23.879Z"
   },
   {
    "duration": 86,
    "start_time": "2021-09-25T09:00:58.668Z"
   },
   {
    "duration": 1915,
    "start_time": "2021-09-25T09:01:06.280Z"
   },
   {
    "duration": 1866,
    "start_time": "2021-09-25T09:01:44.254Z"
   },
   {
    "duration": 2044,
    "start_time": "2021-09-25T09:02:00.457Z"
   },
   {
    "duration": 1877,
    "start_time": "2021-09-25T09:09:45.232Z"
   },
   {
    "duration": 1838,
    "start_time": "2021-09-25T09:10:38.920Z"
   },
   {
    "duration": 96,
    "start_time": "2021-09-25T09:12:06.716Z"
   },
   {
    "duration": 85,
    "start_time": "2021-09-25T09:12:28.414Z"
   },
   {
    "duration": 1723,
    "start_time": "2021-09-25T09:12:42.743Z"
   },
   {
    "duration": 1687,
    "start_time": "2021-09-25T09:13:00.227Z"
   },
   {
    "duration": 1787,
    "start_time": "2021-09-25T09:13:55.194Z"
   },
   {
    "duration": 1837,
    "start_time": "2021-09-25T09:14:29.197Z"
   },
   {
    "duration": 1520,
    "start_time": "2021-09-25T09:14:44.323Z"
   },
   {
    "duration": 1892,
    "start_time": "2021-09-25T09:15:43.212Z"
   },
   {
    "duration": 1534,
    "start_time": "2021-09-25T09:17:22.813Z"
   },
   {
    "duration": 1615,
    "start_time": "2021-09-25T09:22:57.270Z"
   },
   {
    "duration": 1661,
    "start_time": "2021-09-25T09:24:38.815Z"
   },
   {
    "duration": 1685,
    "start_time": "2021-09-25T09:24:50.929Z"
   },
   {
    "duration": 1644,
    "start_time": "2021-09-25T09:26:01.285Z"
   },
   {
    "duration": 1693,
    "start_time": "2021-09-25T09:26:14.864Z"
   },
   {
    "duration": 1538,
    "start_time": "2021-09-25T09:26:29.331Z"
   },
   {
    "duration": 695,
    "start_time": "2021-09-25T09:28:48.407Z"
   },
   {
    "duration": 728,
    "start_time": "2021-09-25T09:29:21.687Z"
   },
   {
    "duration": 694,
    "start_time": "2021-09-25T09:35:35.186Z"
   },
   {
    "duration": 793,
    "start_time": "2021-09-25T09:36:04.506Z"
   },
   {
    "duration": 747,
    "start_time": "2021-09-25T09:44:51.048Z"
   },
   {
    "duration": 1715,
    "start_time": "2021-09-25T09:45:01.263Z"
   },
   {
    "duration": 856,
    "start_time": "2021-09-25T09:45:19.212Z"
   },
   {
    "duration": 506,
    "start_time": "2021-09-25T09:46:17.028Z"
   },
   {
    "duration": 707,
    "start_time": "2021-09-25T09:47:48.384Z"
   },
   {
    "duration": 688,
    "start_time": "2021-09-25T09:48:19.801Z"
   },
   {
    "duration": 841,
    "start_time": "2021-09-25T09:48:27.085Z"
   },
   {
    "duration": 687,
    "start_time": "2021-09-25T09:49:17.167Z"
   },
   {
    "duration": 131,
    "start_time": "2021-09-25T09:50:08.057Z"
   },
   {
    "duration": 707,
    "start_time": "2021-09-25T09:50:14.478Z"
   },
   {
    "duration": 709,
    "start_time": "2021-09-25T09:50:28.071Z"
   },
   {
    "duration": 717,
    "start_time": "2021-09-25T09:50:41.811Z"
   },
   {
    "duration": 683,
    "start_time": "2021-09-25T09:50:50.218Z"
   },
   {
    "duration": 603,
    "start_time": "2021-09-25T09:52:57.633Z"
   },
   {
    "duration": 564,
    "start_time": "2021-09-25T09:53:37.001Z"
   },
   {
    "duration": 95,
    "start_time": "2021-09-25T09:54:27.290Z"
   },
   {
    "duration": 36,
    "start_time": "2021-09-25T09:54:33.243Z"
   },
   {
    "duration": 22,
    "start_time": "2021-09-25T09:55:04.105Z"
   },
   {
    "duration": 558,
    "start_time": "2021-09-25T09:56:50.259Z"
   },
   {
    "duration": 555,
    "start_time": "2021-09-25T09:57:05.610Z"
   },
   {
    "duration": 574,
    "start_time": "2021-09-25T09:57:13.446Z"
   },
   {
    "duration": 1406,
    "start_time": "2021-09-25T09:58:51.849Z"
   },
   {
    "duration": 40,
    "start_time": "2021-09-25T09:58:53.258Z"
   },
   {
    "duration": 6,
    "start_time": "2021-09-25T09:58:53.301Z"
   },
   {
    "duration": 8,
    "start_time": "2021-09-25T09:58:53.310Z"
   },
   {
    "duration": 11,
    "start_time": "2021-09-25T09:58:53.321Z"
   },
   {
    "duration": 32,
    "start_time": "2021-09-25T09:58:53.334Z"
   },
   {
    "duration": 8,
    "start_time": "2021-09-25T09:58:53.368Z"
   },
   {
    "duration": 8,
    "start_time": "2021-09-25T09:58:53.378Z"
   },
   {
    "duration": 15,
    "start_time": "2021-09-25T09:58:53.390Z"
   },
   {
    "duration": 10,
    "start_time": "2021-09-25T09:58:53.407Z"
   },
   {
    "duration": 53,
    "start_time": "2021-09-25T09:58:53.419Z"
   },
   {
    "duration": 12,
    "start_time": "2021-09-25T09:58:53.474Z"
   },
   {
    "duration": 8,
    "start_time": "2021-09-25T09:58:53.489Z"
   },
   {
    "duration": 66,
    "start_time": "2021-09-25T09:58:53.499Z"
   },
   {
    "duration": 18,
    "start_time": "2021-09-25T09:58:53.567Z"
   },
   {
    "duration": 578,
    "start_time": "2021-09-25T09:58:53.587Z"
   },
   {
    "duration": 652,
    "start_time": "2021-09-25T09:58:54.167Z"
   },
   {
    "duration": 1718,
    "start_time": "2021-09-25T09:58:54.821Z"
   },
   {
    "duration": 569,
    "start_time": "2021-09-25T09:58:56.542Z"
   },
   {
    "duration": 1633,
    "start_time": "2021-09-26T05:15:29.767Z"
   },
   {
    "duration": 44,
    "start_time": "2021-09-26T05:15:31.404Z"
   },
   {
    "duration": 20,
    "start_time": "2021-09-26T05:15:31.452Z"
   },
   {
    "duration": 10,
    "start_time": "2021-09-26T05:15:31.475Z"
   },
   {
    "duration": 10,
    "start_time": "2021-09-26T05:15:31.488Z"
   },
   {
    "duration": 15,
    "start_time": "2021-09-26T05:15:31.501Z"
   },
   {
    "duration": 10,
    "start_time": "2021-09-26T05:15:31.519Z"
   },
   {
    "duration": 8,
    "start_time": "2021-09-26T05:15:31.572Z"
   },
   {
    "duration": 8,
    "start_time": "2021-09-26T05:15:31.584Z"
   },
   {
    "duration": 15,
    "start_time": "2021-09-26T05:15:31.594Z"
   },
   {
    "duration": 57,
    "start_time": "2021-09-26T05:15:31.612Z"
   },
   {
    "duration": 12,
    "start_time": "2021-09-26T05:15:31.672Z"
   },
   {
    "duration": 9,
    "start_time": "2021-09-26T05:15:31.687Z"
   },
   {
    "duration": 41,
    "start_time": "2021-09-26T05:15:31.699Z"
   },
   {
    "duration": 19,
    "start_time": "2021-09-26T05:15:31.768Z"
   },
   {
    "duration": 584,
    "start_time": "2021-09-26T05:15:31.789Z"
   },
   {
    "duration": 548,
    "start_time": "2021-09-26T05:15:32.375Z"
   },
   {
    "duration": 742,
    "start_time": "2021-09-26T05:15:32.925Z"
   },
   {
    "duration": 1621,
    "start_time": "2021-09-26T05:15:33.669Z"
   },
   {
    "duration": 712,
    "start_time": "2021-09-26T05:15:35.292Z"
   },
   {
    "duration": 574,
    "start_time": "2021-09-26T05:16:43.587Z"
   },
   {
    "duration": 622,
    "start_time": "2021-09-26T05:20:51.430Z"
   },
   {
    "duration": 570,
    "start_time": "2021-09-26T05:21:31.821Z"
   },
   {
    "duration": 587,
    "start_time": "2021-09-26T05:22:17.358Z"
   },
   {
    "duration": 8,
    "start_time": "2021-09-26T05:25:05.768Z"
   },
   {
    "duration": 10,
    "start_time": "2021-09-26T05:25:15.607Z"
   },
   {
    "duration": 38,
    "start_time": "2021-09-26T05:25:44.787Z"
   },
   {
    "duration": 9,
    "start_time": "2021-09-26T05:27:10.921Z"
   },
   {
    "duration": 10,
    "start_time": "2021-09-26T05:27:13.306Z"
   },
   {
    "duration": 578,
    "start_time": "2021-09-26T05:28:17.426Z"
   },
   {
    "duration": 557,
    "start_time": "2021-09-26T05:28:31.838Z"
   },
   {
    "duration": 669,
    "start_time": "2021-09-26T05:29:19.405Z"
   },
   {
    "duration": 496,
    "start_time": "2021-09-26T05:37:59.464Z"
   },
   {
    "duration": 7,
    "start_time": "2021-09-26T05:38:18.765Z"
   },
   {
    "duration": 653,
    "start_time": "2021-09-26T05:40:07.294Z"
   },
   {
    "duration": 1119,
    "start_time": "2021-09-26T05:42:18.083Z"
   },
   {
    "duration": 533,
    "start_time": "2021-09-26T05:43:28.104Z"
   },
   {
    "duration": 283,
    "start_time": "2021-09-26T05:47:18.522Z"
   },
   {
    "duration": 251,
    "start_time": "2021-09-26T05:47:53.754Z"
   },
   {
    "duration": 563,
    "start_time": "2021-09-26T05:49:49.404Z"
   },
   {
    "duration": 552,
    "start_time": "2021-09-26T05:50:58.333Z"
   },
   {
    "duration": 337,
    "start_time": "2021-09-26T05:51:12.504Z"
   },
   {
    "duration": 567,
    "start_time": "2021-09-26T05:51:34.591Z"
   },
   {
    "duration": 567,
    "start_time": "2021-09-26T05:56:26.832Z"
   },
   {
    "duration": 556,
    "start_time": "2021-09-26T05:57:49.398Z"
   },
   {
    "duration": 281,
    "start_time": "2021-09-26T05:58:32.516Z"
   },
   {
    "duration": 304,
    "start_time": "2021-09-26T05:58:54.736Z"
   },
   {
    "duration": 762,
    "start_time": "2021-09-26T05:59:18.830Z"
   },
   {
    "duration": 810,
    "start_time": "2021-09-26T06:05:07.223Z"
   },
   {
    "duration": 795,
    "start_time": "2021-09-26T06:06:20.435Z"
   },
   {
    "duration": 769,
    "start_time": "2021-09-26T06:07:25.982Z"
   },
   {
    "duration": 9,
    "start_time": "2021-09-26T06:07:59.198Z"
   },
   {
    "duration": 285,
    "start_time": "2021-09-26T06:09:11.391Z"
   },
   {
    "duration": 776,
    "start_time": "2021-09-26T06:10:02.465Z"
   },
   {
    "duration": 2327,
    "start_time": "2021-09-26T06:18:07.273Z"
   },
   {
    "duration": 2350,
    "start_time": "2021-09-26T06:18:31.976Z"
   },
   {
    "duration": 2085,
    "start_time": "2021-09-26T06:19:18.815Z"
   },
   {
    "duration": 1719,
    "start_time": "2021-09-26T06:19:57.565Z"
   },
   {
    "duration": 558,
    "start_time": "2021-09-26T06:21:23.555Z"
   },
   {
    "duration": 538,
    "start_time": "2021-09-26T06:24:59.337Z"
   },
   {
    "duration": 850,
    "start_time": "2021-09-26T06:27:20.417Z"
   },
   {
    "duration": 762,
    "start_time": "2021-09-26T06:29:10.109Z"
   },
   {
    "duration": 800,
    "start_time": "2021-09-26T06:29:29.451Z"
   },
   {
    "duration": 694,
    "start_time": "2021-09-26T06:29:37.055Z"
   },
   {
    "duration": 724,
    "start_time": "2021-09-26T06:32:24.739Z"
   },
   {
    "duration": 738,
    "start_time": "2021-09-26T06:32:27.772Z"
   },
   {
    "duration": 700,
    "start_time": "2021-09-26T06:34:34.379Z"
   },
   {
    "duration": 725,
    "start_time": "2021-09-26T06:34:37.444Z"
   },
   {
    "duration": 226,
    "start_time": "2021-09-27T03:12:55.795Z"
   },
   {
    "duration": 1195,
    "start_time": "2021-09-27T03:13:04.718Z"
   },
   {
    "duration": 26,
    "start_time": "2021-09-27T03:13:05.915Z"
   },
   {
    "duration": 4,
    "start_time": "2021-09-27T03:13:05.943Z"
   },
   {
    "duration": 9,
    "start_time": "2021-09-27T03:13:05.948Z"
   },
   {
    "duration": 13,
    "start_time": "2021-09-27T03:13:05.958Z"
   },
   {
    "duration": 13,
    "start_time": "2021-09-27T03:13:05.973Z"
   },
   {
    "duration": 13,
    "start_time": "2021-09-27T03:13:05.987Z"
   },
   {
    "duration": 8,
    "start_time": "2021-09-27T03:13:06.002Z"
   },
   {
    "duration": 8,
    "start_time": "2021-09-27T03:13:06.012Z"
   },
   {
    "duration": 19,
    "start_time": "2021-09-27T03:13:06.021Z"
   },
   {
    "duration": 24,
    "start_time": "2021-09-27T03:13:06.042Z"
   },
   {
    "duration": 7,
    "start_time": "2021-09-27T03:13:06.067Z"
   },
   {
    "duration": 10,
    "start_time": "2021-09-27T03:13:06.076Z"
   },
   {
    "duration": 27,
    "start_time": "2021-09-27T03:13:06.088Z"
   },
   {
    "duration": 10,
    "start_time": "2021-09-27T03:13:06.117Z"
   },
   {
    "duration": 332,
    "start_time": "2021-09-27T03:13:06.129Z"
   },
   {
    "duration": 333,
    "start_time": "2021-09-27T03:13:06.463Z"
   },
   {
    "duration": 344,
    "start_time": "2021-09-27T03:13:06.797Z"
   },
   {
    "duration": 381,
    "start_time": "2021-09-27T03:13:07.143Z"
   },
   {
    "duration": 949,
    "start_time": "2021-09-27T03:13:07.525Z"
   },
   {
    "duration": 342,
    "start_time": "2021-09-27T03:13:08.476Z"
   },
   {
    "duration": 7,
    "start_time": "2021-09-27T03:13:08.820Z"
   },
   {
    "duration": 459,
    "start_time": "2021-09-27T03:13:08.829Z"
   },
   {
    "duration": 14,
    "start_time": "2021-09-27T03:13:09.289Z"
   },
   {
    "duration": 461,
    "start_time": "2021-09-27T03:13:09.304Z"
   },
   {
    "duration": 964,
    "start_time": "2021-09-27T03:13:09.767Z"
   },
   {
    "duration": 442,
    "start_time": "2021-09-27T03:13:10.733Z"
   },
   {
    "duration": 477,
    "start_time": "2021-09-27T03:13:11.176Z"
   },
   {
    "duration": 33515,
    "start_time": "2021-09-27T03:13:43.436Z"
   },
   {
    "duration": 177,
    "start_time": "2021-09-27T03:15:43.951Z"
   },
   {
    "duration": 272,
    "start_time": "2021-09-27T03:17:35.511Z"
   },
   {
    "duration": 515,
    "start_time": "2021-09-27T03:17:48.707Z"
   },
   {
    "duration": 294,
    "start_time": "2021-09-27T03:18:09.531Z"
   },
   {
    "duration": 2299,
    "start_time": "2021-09-27T03:18:34.922Z"
   },
   {
    "duration": 245,
    "start_time": "2021-09-27T03:18:51.592Z"
   },
   {
    "duration": 215,
    "start_time": "2021-09-27T03:18:59.250Z"
   },
   {
    "duration": 187,
    "start_time": "2021-09-27T03:19:26.116Z"
   },
   {
    "duration": 231,
    "start_time": "2021-09-27T03:19:52.568Z"
   },
   {
    "duration": 251,
    "start_time": "2021-09-27T03:20:03.145Z"
   },
   {
    "duration": 377,
    "start_time": "2021-09-27T03:22:00.180Z"
   },
   {
    "duration": 383,
    "start_time": "2021-09-27T03:23:59.816Z"
   },
   {
    "duration": 389,
    "start_time": "2021-09-27T03:24:01.413Z"
   },
   {
    "duration": 362,
    "start_time": "2021-09-27T03:24:03.350Z"
   },
   {
    "duration": 259,
    "start_time": "2021-09-27T03:24:38.558Z"
   },
   {
    "duration": 264,
    "start_time": "2021-09-27T03:24:40.338Z"
   },
   {
    "duration": 357,
    "start_time": "2021-09-27T03:24:41.785Z"
   },
   {
    "duration": 269,
    "start_time": "2021-09-27T03:24:43.083Z"
   },
   {
    "duration": 218,
    "start_time": "2021-09-27T03:25:27.831Z"
   },
   {
    "duration": 229,
    "start_time": "2021-09-27T03:25:30.445Z"
   },
   {
    "duration": 229,
    "start_time": "2021-09-27T03:25:31.520Z"
   },
   {
    "duration": 235,
    "start_time": "2021-09-27T03:25:32.392Z"
   },
   {
    "duration": 580,
    "start_time": "2021-09-27T03:30:26.094Z"
   },
   {
    "duration": 591,
    "start_time": "2021-09-27T03:30:58.317Z"
   },
   {
    "duration": 727,
    "start_time": "2021-09-27T03:31:08.372Z"
   },
   {
    "duration": 1040,
    "start_time": "2021-09-27T03:31:50.971Z"
   },
   {
    "duration": 26,
    "start_time": "2021-09-27T03:31:52.013Z"
   },
   {
    "duration": 4,
    "start_time": "2021-09-27T03:31:52.041Z"
   },
   {
    "duration": 5,
    "start_time": "2021-09-27T03:31:52.046Z"
   },
   {
    "duration": 4,
    "start_time": "2021-09-27T03:31:52.052Z"
   },
   {
    "duration": 5,
    "start_time": "2021-09-27T03:31:52.058Z"
   },
   {
    "duration": 5,
    "start_time": "2021-09-27T03:31:52.064Z"
   },
   {
    "duration": 29,
    "start_time": "2021-09-27T03:31:52.071Z"
   },
   {
    "duration": 3,
    "start_time": "2021-09-27T03:31:52.102Z"
   },
   {
    "duration": 7,
    "start_time": "2021-09-27T03:31:52.106Z"
   },
   {
    "duration": 16,
    "start_time": "2021-09-27T03:31:52.114Z"
   },
   {
    "duration": 7,
    "start_time": "2021-09-27T03:31:52.132Z"
   },
   {
    "duration": 6,
    "start_time": "2021-09-27T03:31:52.140Z"
   },
   {
    "duration": 53,
    "start_time": "2021-09-27T03:31:52.147Z"
   },
   {
    "duration": 11,
    "start_time": "2021-09-27T03:31:52.202Z"
   },
   {
    "duration": 336,
    "start_time": "2021-09-27T03:31:52.215Z"
   },
   {
    "duration": 337,
    "start_time": "2021-09-27T03:31:52.552Z"
   },
   {
    "duration": 338,
    "start_time": "2021-09-27T03:31:52.891Z"
   },
   {
    "duration": 373,
    "start_time": "2021-09-27T03:31:53.231Z"
   },
   {
    "duration": 934,
    "start_time": "2021-09-27T03:31:53.606Z"
   },
   {
    "duration": 348,
    "start_time": "2021-09-27T03:31:54.541Z"
   },
   {
    "duration": 12,
    "start_time": "2021-09-27T03:31:54.890Z"
   },
   {
    "duration": 466,
    "start_time": "2021-09-27T03:31:54.905Z"
   },
   {
    "duration": 7,
    "start_time": "2021-09-27T03:31:55.373Z"
   },
   {
    "duration": 464,
    "start_time": "2021-09-27T03:31:55.382Z"
   },
   {
    "duration": 1009,
    "start_time": "2021-09-27T03:31:55.848Z"
   },
   {
    "duration": 495,
    "start_time": "2021-09-27T03:31:56.859Z"
   },
   {
    "duration": 509,
    "start_time": "2021-09-27T03:31:57.356Z"
   },
   {
    "duration": 234,
    "start_time": "2021-09-27T03:31:57.867Z"
   },
   {
    "duration": 703,
    "start_time": "2021-09-27T03:31:58.103Z"
   },
   {
    "duration": 675,
    "start_time": "2021-09-27T03:33:34.410Z"
   },
   {
    "duration": 686,
    "start_time": "2021-09-27T03:35:02.499Z"
   },
   {
    "duration": 719,
    "start_time": "2021-09-27T03:35:17.387Z"
   },
   {
    "duration": 788,
    "start_time": "2021-09-27T03:35:27.791Z"
   },
   {
    "duration": 742,
    "start_time": "2021-09-27T03:35:53.251Z"
   },
   {
    "duration": 67,
    "start_time": "2021-09-27T03:38:16.257Z"
   },
   {
    "duration": 718,
    "start_time": "2021-09-27T03:39:08.022Z"
   },
   {
    "duration": 681,
    "start_time": "2021-09-27T03:39:17.218Z"
   },
   {
    "duration": 879,
    "start_time": "2021-09-27T03:39:28.076Z"
   },
   {
    "duration": 771,
    "start_time": "2021-09-27T03:45:19.434Z"
   },
   {
    "duration": 18,
    "start_time": "2021-09-27T03:57:14.972Z"
   },
   {
    "duration": 7,
    "start_time": "2021-09-27T03:58:15.577Z"
   },
   {
    "duration": 741,
    "start_time": "2021-09-27T05:54:56.470Z"
   },
   {
    "duration": 641,
    "start_time": "2021-09-27T05:56:00.464Z"
   },
   {
    "duration": 659,
    "start_time": "2021-09-27T05:56:20.111Z"
   },
   {
    "duration": 785,
    "start_time": "2021-09-27T05:57:47.184Z"
   },
   {
    "duration": 718,
    "start_time": "2021-09-27T05:58:54.537Z"
   },
   {
    "duration": 10,
    "start_time": "2021-09-27T06:13:07.922Z"
   },
   {
    "duration": 7,
    "start_time": "2021-09-27T06:13:25.841Z"
   },
   {
    "duration": 5,
    "start_time": "2021-09-27T06:13:37.691Z"
   },
   {
    "duration": 7,
    "start_time": "2021-09-27T06:14:29.744Z"
   },
   {
    "duration": 2598,
    "start_time": "2021-09-27T06:16:06.809Z"
   },
   {
    "duration": 9,
    "start_time": "2021-09-27T06:16:36.568Z"
   },
   {
    "duration": 9,
    "start_time": "2021-09-27T06:17:36.541Z"
   },
   {
    "duration": 1029,
    "start_time": "2021-09-27T06:18:28.778Z"
   },
   {
    "duration": 25,
    "start_time": "2021-09-27T06:18:29.809Z"
   },
   {
    "duration": 4,
    "start_time": "2021-09-27T06:18:29.836Z"
   },
   {
    "duration": 19,
    "start_time": "2021-09-27T06:18:29.842Z"
   },
   {
    "duration": 12,
    "start_time": "2021-09-27T06:18:29.863Z"
   },
   {
    "duration": 5,
    "start_time": "2021-09-27T06:18:29.876Z"
   },
   {
    "duration": 4,
    "start_time": "2021-09-27T06:18:29.883Z"
   },
   {
    "duration": 3,
    "start_time": "2021-09-27T06:18:29.900Z"
   },
   {
    "duration": 4,
    "start_time": "2021-09-27T06:18:29.905Z"
   },
   {
    "duration": 7,
    "start_time": "2021-09-27T06:18:29.911Z"
   },
   {
    "duration": 13,
    "start_time": "2021-09-27T06:18:29.920Z"
   },
   {
    "duration": 8,
    "start_time": "2021-09-27T06:18:29.935Z"
   },
   {
    "duration": 7,
    "start_time": "2021-09-27T06:18:29.944Z"
   },
   {
    "duration": 46,
    "start_time": "2021-09-27T06:18:29.953Z"
   },
   {
    "duration": 13,
    "start_time": "2021-09-27T06:18:30.001Z"
   },
   {
    "duration": 354,
    "start_time": "2021-09-27T06:18:30.016Z"
   },
   {
    "duration": 338,
    "start_time": "2021-09-27T06:18:30.372Z"
   },
   {
    "duration": 344,
    "start_time": "2021-09-27T06:18:30.712Z"
   },
   {
    "duration": 381,
    "start_time": "2021-09-27T06:18:31.057Z"
   },
   {
    "duration": 934,
    "start_time": "2021-09-27T06:18:31.440Z"
   },
   {
    "duration": 342,
    "start_time": "2021-09-27T06:18:32.376Z"
   },
   {
    "duration": 6,
    "start_time": "2021-09-27T06:18:32.720Z"
   },
   {
    "duration": 454,
    "start_time": "2021-09-27T06:18:32.729Z"
   },
   {
    "duration": 15,
    "start_time": "2021-09-27T06:18:33.185Z"
   },
   {
    "duration": 476,
    "start_time": "2021-09-27T06:18:33.202Z"
   },
   {
    "duration": 940,
    "start_time": "2021-09-27T06:18:33.680Z"
   },
   {
    "duration": 443,
    "start_time": "2021-09-27T06:18:34.622Z"
   },
   {
    "duration": 496,
    "start_time": "2021-09-27T06:18:35.067Z"
   },
   {
    "duration": 237,
    "start_time": "2021-09-27T06:18:35.565Z"
   },
   {
    "duration": 707,
    "start_time": "2021-09-27T06:18:35.804Z"
   },
   {
    "duration": 777,
    "start_time": "2021-09-27T06:18:36.512Z"
   },
   {
    "duration": 753,
    "start_time": "2021-09-27T06:18:37.291Z"
   },
   {
    "duration": 8,
    "start_time": "2021-09-27T06:18:38.045Z"
   },
   {
    "duration": 9,
    "start_time": "2021-09-27T06:18:38.055Z"
   },
   {
    "duration": 5,
    "start_time": "2021-09-27T06:30:31.998Z"
   },
   {
    "duration": 1030,
    "start_time": "2021-09-27T06:46:25.363Z"
   },
   {
    "duration": 25,
    "start_time": "2021-09-27T06:46:26.395Z"
   },
   {
    "duration": 4,
    "start_time": "2021-09-27T06:46:26.424Z"
   },
   {
    "duration": 6,
    "start_time": "2021-09-27T06:46:26.429Z"
   },
   {
    "duration": 6,
    "start_time": "2021-09-27T06:46:26.436Z"
   },
   {
    "duration": 6,
    "start_time": "2021-09-27T06:46:26.443Z"
   },
   {
    "duration": 4,
    "start_time": "2021-09-27T06:46:26.451Z"
   },
   {
    "duration": 7,
    "start_time": "2021-09-27T06:46:26.456Z"
   },
   {
    "duration": 35,
    "start_time": "2021-09-27T06:46:26.465Z"
   },
   {
    "duration": 7,
    "start_time": "2021-09-27T06:46:26.501Z"
   },
   {
    "duration": 13,
    "start_time": "2021-09-27T06:46:26.509Z"
   },
   {
    "duration": 6,
    "start_time": "2021-09-27T06:46:26.524Z"
   },
   {
    "duration": 6,
    "start_time": "2021-09-27T06:46:26.531Z"
   },
   {
    "duration": 22,
    "start_time": "2021-09-27T06:46:26.539Z"
   },
   {
    "duration": 43,
    "start_time": "2021-09-27T06:46:26.563Z"
   },
   {
    "duration": 5,
    "start_time": "2021-09-27T06:46:26.607Z"
   },
   {
    "duration": 331,
    "start_time": "2021-09-27T06:46:26.614Z"
   },
   {
    "duration": 336,
    "start_time": "2021-09-27T06:46:26.947Z"
   },
   {
    "duration": 350,
    "start_time": "2021-09-27T06:46:27.284Z"
   },
   {
    "duration": 375,
    "start_time": "2021-09-27T06:46:27.636Z"
   },
   {
    "duration": 933,
    "start_time": "2021-09-27T06:46:28.012Z"
   },
   {
    "duration": 352,
    "start_time": "2021-09-27T06:46:28.948Z"
   },
   {
    "duration": 6,
    "start_time": "2021-09-27T06:46:29.302Z"
   },
   {
    "duration": 455,
    "start_time": "2021-09-27T06:46:29.309Z"
   },
   {
    "duration": 469,
    "start_time": "2021-09-27T06:46:29.765Z"
   },
   {
    "duration": 1011,
    "start_time": "2021-09-27T06:46:30.236Z"
   },
   {
    "duration": 487,
    "start_time": "2021-09-27T06:46:31.249Z"
   },
   {
    "duration": 452,
    "start_time": "2021-09-27T06:46:31.737Z"
   },
   {
    "duration": 223,
    "start_time": "2021-09-27T06:46:32.190Z"
   },
   {
    "duration": 706,
    "start_time": "2021-09-27T06:46:32.414Z"
   },
   {
    "duration": 802,
    "start_time": "2021-09-27T06:46:33.121Z"
   },
   {
    "duration": 740,
    "start_time": "2021-09-27T06:46:33.924Z"
   },
   {
    "duration": 8,
    "start_time": "2021-09-27T06:46:34.665Z"
   },
   {
    "duration": 11,
    "start_time": "2021-09-27T06:46:34.674Z"
   },
   {
    "duration": 1052,
    "start_time": "2021-09-27T07:45:45.866Z"
   },
   {
    "duration": 26,
    "start_time": "2021-09-27T07:45:46.920Z"
   },
   {
    "duration": 4,
    "start_time": "2021-09-27T07:45:46.948Z"
   },
   {
    "duration": 8,
    "start_time": "2021-09-27T07:45:46.954Z"
   },
   {
    "duration": 11,
    "start_time": "2021-09-27T07:45:46.963Z"
   },
   {
    "duration": 7,
    "start_time": "2021-09-27T07:45:46.976Z"
   },
   {
    "duration": 4,
    "start_time": "2021-09-27T07:45:46.999Z"
   },
   {
    "duration": 18,
    "start_time": "2021-09-27T07:45:47.004Z"
   },
   {
    "duration": 10,
    "start_time": "2021-09-27T07:45:47.025Z"
   },
   {
    "duration": 8,
    "start_time": "2021-09-27T07:45:47.037Z"
   },
   {
    "duration": 23,
    "start_time": "2021-09-27T07:45:47.047Z"
   },
   {
    "duration": 10,
    "start_time": "2021-09-27T07:45:47.072Z"
   },
   {
    "duration": 13,
    "start_time": "2021-09-27T07:45:47.083Z"
   },
   {
    "duration": 22,
    "start_time": "2021-09-27T07:45:47.097Z"
   },
   {
    "duration": 11,
    "start_time": "2021-09-27T07:45:47.120Z"
   },
   {
    "duration": 5,
    "start_time": "2021-09-27T07:45:47.133Z"
   },
   {
    "duration": 353,
    "start_time": "2021-09-27T07:45:47.139Z"
   },
   {
    "duration": 337,
    "start_time": "2021-09-27T07:45:47.494Z"
   },
   {
    "duration": 335,
    "start_time": "2021-09-27T07:45:47.833Z"
   },
   {
    "duration": 402,
    "start_time": "2021-09-27T07:45:48.170Z"
   },
   {
    "duration": 929,
    "start_time": "2021-09-27T07:45:48.574Z"
   },
   {
    "duration": 351,
    "start_time": "2021-09-27T07:45:49.504Z"
   },
   {
    "duration": 6,
    "start_time": "2021-09-27T07:45:49.857Z"
   },
   {
    "duration": 456,
    "start_time": "2021-09-27T07:45:49.864Z"
   },
   {
    "duration": 458,
    "start_time": "2021-09-27T07:45:50.321Z"
   },
   {
    "duration": 1029,
    "start_time": "2021-09-27T07:45:50.781Z"
   },
   {
    "duration": 446,
    "start_time": "2021-09-27T07:45:51.813Z"
   },
   {
    "duration": 493,
    "start_time": "2021-09-27T07:45:52.261Z"
   },
   {
    "duration": 228,
    "start_time": "2021-09-27T07:45:52.755Z"
   },
   {
    "duration": 707,
    "start_time": "2021-09-27T07:45:52.985Z"
   },
   {
    "duration": 783,
    "start_time": "2021-09-27T07:45:53.694Z"
   },
   {
    "duration": 769,
    "start_time": "2021-09-27T07:45:54.479Z"
   },
   {
    "duration": 9,
    "start_time": "2021-09-27T07:45:55.250Z"
   },
   {
    "duration": 10,
    "start_time": "2021-09-27T07:45:55.261Z"
   },
   {
    "duration": 1475,
    "start_time": "2021-09-27T19:55:28.516Z"
   },
   {
    "duration": 42,
    "start_time": "2021-09-27T19:55:29.994Z"
   },
   {
    "duration": 6,
    "start_time": "2021-09-27T19:55:30.039Z"
   },
   {
    "duration": 35,
    "start_time": "2021-09-27T19:55:30.048Z"
   },
   {
    "duration": 17,
    "start_time": "2021-09-27T19:55:30.086Z"
   },
   {
    "duration": 13,
    "start_time": "2021-09-27T19:55:30.106Z"
   },
   {
    "duration": 13,
    "start_time": "2021-09-27T19:55:30.122Z"
   },
   {
    "duration": 19,
    "start_time": "2021-09-27T19:55:30.139Z"
   },
   {
    "duration": 16,
    "start_time": "2021-09-27T19:55:30.161Z"
   },
   {
    "duration": 11,
    "start_time": "2021-09-27T19:55:30.183Z"
   },
   {
    "duration": 38,
    "start_time": "2021-09-27T19:55:30.196Z"
   },
   {
    "duration": 11,
    "start_time": "2021-09-27T19:55:30.237Z"
   },
   {
    "duration": 32,
    "start_time": "2021-09-27T19:55:30.250Z"
   },
   {
    "duration": 34,
    "start_time": "2021-09-27T19:55:30.285Z"
   },
   {
    "duration": 18,
    "start_time": "2021-09-27T19:55:30.321Z"
   },
   {
    "duration": 19,
    "start_time": "2021-09-27T19:55:30.342Z"
   },
   {
    "duration": 599,
    "start_time": "2021-09-27T19:55:30.384Z"
   },
   {
    "duration": 951,
    "start_time": "2021-09-27T19:55:30.986Z"
   },
   {
    "duration": 544,
    "start_time": "2021-09-27T19:55:31.939Z"
   },
   {
    "duration": 603,
    "start_time": "2021-09-27T19:55:32.486Z"
   },
   {
    "duration": 1462,
    "start_time": "2021-09-27T19:55:33.092Z"
   },
   {
    "duration": 566,
    "start_time": "2021-09-27T19:55:34.556Z"
   },
   {
    "duration": 9,
    "start_time": "2021-09-27T19:55:35.126Z"
   },
   {
    "duration": 700,
    "start_time": "2021-09-27T19:55:35.137Z"
   },
   {
    "duration": 749,
    "start_time": "2021-09-27T19:55:35.840Z"
   },
   {
    "duration": 1581,
    "start_time": "2021-09-27T19:55:36.592Z"
   },
   {
    "duration": 692,
    "start_time": "2021-09-27T19:55:38.176Z"
   },
   {
    "duration": 676,
    "start_time": "2021-09-27T19:55:38.870Z"
   },
   {
    "duration": 366,
    "start_time": "2021-09-27T19:55:39.549Z"
   },
   {
    "duration": 1095,
    "start_time": "2021-09-27T19:55:39.917Z"
   },
   {
    "duration": 1236,
    "start_time": "2021-09-27T19:55:41.015Z"
   },
   {
    "duration": 1105,
    "start_time": "2021-09-27T19:55:42.253Z"
   },
   {
    "duration": 22,
    "start_time": "2021-09-27T19:55:43.361Z"
   },
   {
    "duration": 59,
    "start_time": "2021-09-27T19:55:43.385Z"
   },
   {
    "duration": 1502,
    "start_time": "2021-12-17T08:23:31.339Z"
   }
  ],
  "kernelspec": {
   "display_name": "Python 3",
   "language": "python",
   "name": "python3"
  },
  "language_info": {
   "codemirror_mode": {
    "name": "ipython",
    "version": 3
   },
   "file_extension": ".py",
   "mimetype": "text/x-python",
   "name": "python",
   "nbconvert_exporter": "python",
   "pygments_lexer": "ipython3",
   "version": "3.8.8"
  },
  "toc": {
   "base_numbering": 1,
   "nav_menu": {},
   "number_sections": true,
   "sideBar": true,
   "skip_h1_title": true,
   "title_cell": "Table of Contents",
   "title_sidebar": "Contents",
   "toc_cell": false,
   "toc_position": {
    "height": "calc(100% - 180px)",
    "left": "10px",
    "top": "150px",
    "width": "314.391px"
   },
   "toc_section_display": true,
   "toc_window_display": true
  }
 },
 "nbformat": 4,
 "nbformat_minor": 2
}
