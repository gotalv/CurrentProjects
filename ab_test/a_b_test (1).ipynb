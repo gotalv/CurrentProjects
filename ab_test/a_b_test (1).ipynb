{
 "cells": [
  {
   "cell_type": "markdown",
   "metadata": {}
   ]
  },
  {
   "cell_type": "markdown",
   "metadata": {},
   "source": [
    "---"
   ]
  },
  {
   "cell_type": "markdown",
   "metadata": {},
   "source": [
    "## Содержание"
   ]
  },
  {
   "cell_type": "markdown",
   "metadata": {},
   "source": [
    "В этом исследовании нам необходимо проанализировать предложенные гипотезы в терминах ICE и RICE фреймворков,выбрать наилучьшие и определить есть ли разница между используемыми фреймворками. Во второй части работы необходимо проанализировать результаты А/В теста и сделать выводы."
   ]
  },
  {
   "cell_type": "markdown",
   "metadata": {},
   "source": [
    "### импорт и анализ данных"
   ]
  },
  {
   "cell_type": "code",
   "execution_count": 2,
   "metadata": {},
   "outputs": [],
   "source": [
    "import pandas as pd\n",
    "import matplotlib.pyplot as plt\n",
    "import numpy as np\n",
    "import datetime as dt\n",
    "from pandas.plotting import register_matplotlib_converters\n",
    "register_matplotlib_converters()\n",
    "import seaborn as sns\n",
    "import scipy.stats as stats\n"
   ]
  },
  {
   "cell_type": "code",
   "execution_count": 3,
   "metadata": {},
   "outputs": [],
   "source": [
    "hypos=pd.read_csv('/datasets/hypothesis.csv')\n",
    "orders=pd.read_csv('/datasets/orders.csv')\n",
    "visits=pd.read_csv('/datasets/visitors.csv')"
   ]
  },
  {
   "cell_type": "markdown",
   "metadata": {},
   "source": [
    "####  анализ hypothesis"
   ]
  },
  {
   "cell_type": "code",
   "execution_count": 4,
   "metadata": {},
   "outputs": [
    {
     "name": "stdout",
     "output_type": "stream",
     "text": [
      "<class 'pandas.core.frame.DataFrame'>\n",
      "RangeIndex: 9 entries, 0 to 8\n",
      "Data columns (total 5 columns):\n",
      "Hypothesis    9 non-null object\n",
      "Reach         9 non-null int64\n",
      "Impact        9 non-null int64\n",
      "Confidence    9 non-null int64\n",
      "Efforts       9 non-null int64\n",
      "dtypes: int64(4), object(1)\n",
      "memory usage: 488.0+ bytes\n"
     ]
    },
    {
     "data": {
      "text/html": [
       "<div>\n",
       "<style scoped>\n",
       "    .dataframe tbody tr th:only-of-type {\n",
       "        vertical-align: middle;\n",
       "    }\n",
       "\n",
       "    .dataframe tbody tr th {\n",
       "        vertical-align: top;\n",
       "    }\n",
       "\n",
       "    .dataframe thead th {\n",
       "        text-align: right;\n",
       "    }\n",
       "</style>\n",
       "<table border=\"1\" class=\"dataframe\">\n",
       "  <thead>\n",
       "    <tr style=\"text-align: right;\">\n",
       "      <th></th>\n",
       "      <th>Hypothesis</th>\n",
       "      <th>Reach</th>\n",
       "      <th>Impact</th>\n",
       "      <th>Confidence</th>\n",
       "      <th>Efforts</th>\n",
       "    </tr>\n",
       "  </thead>\n",
       "  <tbody>\n",
       "    <tr>\n",
       "      <td>0</td>\n",
       "      <td>Добавить два новых канала привлечения трафика, что позволит привлекать на 30% больше пользователей</td>\n",
       "      <td>3</td>\n",
       "      <td>10</td>\n",
       "      <td>8</td>\n",
       "      <td>6</td>\n",
       "    </tr>\n",
       "    <tr>\n",
       "      <td>1</td>\n",
       "      <td>Запустить собственную службу доставки, что сократит срок доставки заказов</td>\n",
       "      <td>2</td>\n",
       "      <td>5</td>\n",
       "      <td>4</td>\n",
       "      <td>10</td>\n",
       "    </tr>\n",
       "    <tr>\n",
       "      <td>2</td>\n",
       "      <td>Добавить блоки рекомендаций товаров на сайт интернет магазина, чтобы повысить конверсию и средний чек заказа</td>\n",
       "      <td>8</td>\n",
       "      <td>3</td>\n",
       "      <td>7</td>\n",
       "      <td>3</td>\n",
       "    </tr>\n",
       "    <tr>\n",
       "      <td>3</td>\n",
       "      <td>Изменить структура категорий, что увеличит конверсию, т.к. пользователи быстрее найдут нужный товар</td>\n",
       "      <td>8</td>\n",
       "      <td>3</td>\n",
       "      <td>3</td>\n",
       "      <td>8</td>\n",
       "    </tr>\n",
       "    <tr>\n",
       "      <td>4</td>\n",
       "      <td>Изменить цвет фона главной страницы, чтобы увеличить вовлеченность пользователей</td>\n",
       "      <td>3</td>\n",
       "      <td>1</td>\n",
       "      <td>1</td>\n",
       "      <td>1</td>\n",
       "    </tr>\n",
       "    <tr>\n",
       "      <td>5</td>\n",
       "      <td>Добавить страницу отзывов клиентов о магазине, что позволит увеличить количество заказов</td>\n",
       "      <td>3</td>\n",
       "      <td>2</td>\n",
       "      <td>2</td>\n",
       "      <td>3</td>\n",
       "    </tr>\n",
       "    <tr>\n",
       "      <td>6</td>\n",
       "      <td>Показать на главной странице баннеры с актуальными акциями и распродажами, чтобы увеличить конверсию</td>\n",
       "      <td>5</td>\n",
       "      <td>3</td>\n",
       "      <td>8</td>\n",
       "      <td>3</td>\n",
       "    </tr>\n",
       "    <tr>\n",
       "      <td>7</td>\n",
       "      <td>Добавить форму подписки на все основные страницы, чтобы собрать базу клиентов для email-рассылок</td>\n",
       "      <td>10</td>\n",
       "      <td>7</td>\n",
       "      <td>8</td>\n",
       "      <td>5</td>\n",
       "    </tr>\n",
       "    <tr>\n",
       "      <td>8</td>\n",
       "      <td>Запустить акцию, дающую скидку на товар в день рождения</td>\n",
       "      <td>1</td>\n",
       "      <td>9</td>\n",
       "      <td>9</td>\n",
       "      <td>5</td>\n",
       "    </tr>\n",
       "  </tbody>\n",
       "</table>\n",
       "</div>"
      ],
      "text/plain": [
       "                                                                                                     Hypothesis  \\\n",
       "0            Добавить два новых канала привлечения трафика, что позволит привлекать на 30% больше пользователей   \n",
       "1                                     Запустить собственную службу доставки, что сократит срок доставки заказов   \n",
       "2  Добавить блоки рекомендаций товаров на сайт интернет магазина, чтобы повысить конверсию и средний чек заказа   \n",
       "3           Изменить структура категорий, что увеличит конверсию, т.к. пользователи быстрее найдут нужный товар   \n",
       "4                              Изменить цвет фона главной страницы, чтобы увеличить вовлеченность пользователей   \n",
       "5                      Добавить страницу отзывов клиентов о магазине, что позволит увеличить количество заказов   \n",
       "6          Показать на главной странице баннеры с актуальными акциями и распродажами, чтобы увеличить конверсию   \n",
       "7              Добавить форму подписки на все основные страницы, чтобы собрать базу клиентов для email-рассылок   \n",
       "8                                                       Запустить акцию, дающую скидку на товар в день рождения   \n",
       "\n",
       "   Reach  Impact  Confidence  Efforts  \n",
       "0      3      10           8        6  \n",
       "1      2       5           4       10  \n",
       "2      8       3           7        3  \n",
       "3      8       3           3        8  \n",
       "4      3       1           1        1  \n",
       "5      3       2           2        3  \n",
       "6      5       3           8        3  \n",
       "7     10       7           8        5  \n",
       "8      1       9           9        5  "
      ]
     },
     "metadata": {},
     "output_type": "display_data"
    }
   ],
   "source": [
    "pd.set_option('max_colwidth', 400)\n",
    "hypos.info()\n",
    "display(hypos)"
   ]
  },
  {
   "cell_type": "markdown",
   "metadata": {},
   "source": [
    "Данные корректны."
   ]
  },
  {
   "cell_type": "markdown",
   "metadata": {},
   "source": [
    "#### анализ orders"
   ]
  },
  {
   "cell_type": "code",
   "execution_count": 5,
   "metadata": {},
   "outputs": [
    {
     "name": "stdout",
     "output_type": "stream",
     "text": [
      "<class 'pandas.core.frame.DataFrame'>\n",
      "RangeIndex: 1197 entries, 0 to 1196\n",
      "Data columns (total 5 columns):\n",
      "transactionId    1197 non-null int64\n",
      "visitorId        1197 non-null int64\n",
      "date             1197 non-null object\n",
      "revenue          1197 non-null int64\n",
      "group            1197 non-null object\n",
      "dtypes: int64(3), object(2)\n",
      "memory usage: 46.9+ KB\n"
     ]
    }
   ],
   "source": [
    "orders.info()"
   ]
  },
  {
   "cell_type": "code",
   "execution_count": 6,
   "metadata": {},
   "outputs": [
    {
     "data": {
      "text/html": [
       "<div>\n",
       "<style scoped>\n",
       "    .dataframe tbody tr th:only-of-type {\n",
       "        vertical-align: middle;\n",
       "    }\n",
       "\n",
       "    .dataframe tbody tr th {\n",
       "        vertical-align: top;\n",
       "    }\n",
       "\n",
       "    .dataframe thead th {\n",
       "        text-align: right;\n",
       "    }\n",
       "</style>\n",
       "<table border=\"1\" class=\"dataframe\">\n",
       "  <thead>\n",
       "    <tr style=\"text-align: right;\">\n",
       "      <th></th>\n",
       "      <th>transactionId</th>\n",
       "      <th>visitorId</th>\n",
       "      <th>date</th>\n",
       "      <th>revenue</th>\n",
       "      <th>group</th>\n",
       "    </tr>\n",
       "  </thead>\n",
       "  <tbody>\n",
       "    <tr>\n",
       "      <td>11</td>\n",
       "      <td>1919444843</td>\n",
       "      <td>927791387</td>\n",
       "      <td>2019-08-15</td>\n",
       "      <td>4499</td>\n",
       "      <td>B</td>\n",
       "    </tr>\n",
       "    <tr>\n",
       "      <td>609</td>\n",
       "      <td>332633624</td>\n",
       "      <td>3891541246</td>\n",
       "      <td>2019-08-04</td>\n",
       "      <td>5020</td>\n",
       "      <td>A</td>\n",
       "    </tr>\n",
       "    <tr>\n",
       "      <td>1005</td>\n",
       "      <td>2156491846</td>\n",
       "      <td>2592727107</td>\n",
       "      <td>2019-08-10</td>\n",
       "      <td>100</td>\n",
       "      <td>A</td>\n",
       "    </tr>\n",
       "    <tr>\n",
       "      <td>356</td>\n",
       "      <td>2476095168</td>\n",
       "      <td>1604176421</td>\n",
       "      <td>2019-08-28</td>\n",
       "      <td>5000</td>\n",
       "      <td>A</td>\n",
       "    </tr>\n",
       "    <tr>\n",
       "      <td>131</td>\n",
       "      <td>3163614039</td>\n",
       "      <td>2254586615</td>\n",
       "      <td>2019-08-22</td>\n",
       "      <td>53904</td>\n",
       "      <td>A</td>\n",
       "    </tr>\n",
       "    <tr>\n",
       "      <td>625</td>\n",
       "      <td>19446369</td>\n",
       "      <td>2666467773</td>\n",
       "      <td>2019-08-29</td>\n",
       "      <td>3261</td>\n",
       "      <td>B</td>\n",
       "    </tr>\n",
       "    <tr>\n",
       "      <td>983</td>\n",
       "      <td>1428722141</td>\n",
       "      <td>2261102418</td>\n",
       "      <td>2019-08-10</td>\n",
       "      <td>1950</td>\n",
       "      <td>B</td>\n",
       "    </tr>\n",
       "    <tr>\n",
       "      <td>889</td>\n",
       "      <td>3586326620</td>\n",
       "      <td>1630618580</td>\n",
       "      <td>2019-08-05</td>\n",
       "      <td>450</td>\n",
       "      <td>B</td>\n",
       "    </tr>\n",
       "    <tr>\n",
       "      <td>679</td>\n",
       "      <td>3879539725</td>\n",
       "      <td>3953983768</td>\n",
       "      <td>2019-08-20</td>\n",
       "      <td>2050</td>\n",
       "      <td>B</td>\n",
       "    </tr>\n",
       "    <tr>\n",
       "      <td>725</td>\n",
       "      <td>2309447140</td>\n",
       "      <td>2913441496</td>\n",
       "      <td>2019-08-07</td>\n",
       "      <td>1490</td>\n",
       "      <td>B</td>\n",
       "    </tr>\n",
       "  </tbody>\n",
       "</table>\n",
       "</div>"
      ],
      "text/plain": [
       "      transactionId   visitorId        date  revenue group\n",
       "11       1919444843   927791387  2019-08-15     4499     B\n",
       "609       332633624  3891541246  2019-08-04     5020     A\n",
       "1005     2156491846  2592727107  2019-08-10      100     A\n",
       "356      2476095168  1604176421  2019-08-28     5000     A\n",
       "131      3163614039  2254586615  2019-08-22    53904     A\n",
       "625        19446369  2666467773  2019-08-29     3261     B\n",
       "983      1428722141  2261102418  2019-08-10     1950     B\n",
       "889      3586326620  1630618580  2019-08-05      450     B\n",
       "679      3879539725  3953983768  2019-08-20     2050     B\n",
       "725      2309447140  2913441496  2019-08-07     1490     B"
      ]
     },
     "metadata": {},
     "output_type": "display_data"
    }
   ],
   "source": [
    "display(orders.sample(10))"
   ]
  },
  {
   "cell_type": "code",
   "execution_count": 7,
   "metadata": {},
   "outputs": [
    {
     "name": "stdout",
     "output_type": "stream",
     "text": [
      "       visitorId\n",
      "group           \n",
      "A            503\n",
      "B            586\n"
     ]
    }
   ],
   "source": [
    "print(orders.groupby('group').agg({'visitorId':'nunique'})) "
   ]
  },
  {
   "cell_type": "code",
   "execution_count": 8,
   "metadata": {},
   "outputs": [
    {
     "name": "stdout",
     "output_type": "stream",
     "text": [
      "count       1197.000\n",
      "mean        8348.006\n",
      "std        39191.132\n",
      "min           50.000\n",
      "25%         1220.000\n",
      "50%         2978.000\n",
      "75%         8290.000\n",
      "max      1294500.000\n",
      "Name: revenue, dtype: object\n"
     ]
    }
   ],
   "source": [
    "print(orders.revenue.describe().apply(\"{0:.3f}\".format))"
   ]
  },
  {
   "cell_type": "markdown",
   "metadata": {},
   "source": [
    "Пропусков нет, в столбце revenue явно есть выбросы. Количество заказов в группах разное. \n",
    "Сменю тип столбца с датой на datetime."
   ]
  },
  {
   "cell_type": "code",
   "execution_count": 9,
   "metadata": {},
   "outputs": [
    {
     "name": "stdout",
     "output_type": "stream",
     "text": [
      "count                    1197\n",
      "unique                     31\n",
      "top       2019-08-05 00:00:00\n",
      "freq                       48\n",
      "first     2019-08-01 00:00:00\n",
      "last      2019-08-31 00:00:00\n",
      "Name: date, dtype: object\n"
     ]
    }
   ],
   "source": [
    "orders.date=pd.to_datetime(orders.date)\n",
    "print(orders.date.describe())"
   ]
  },
  {
   "cell_type": "markdown",
   "metadata": {},
   "source": [
    "#### анализ visits"
   ]
  },
  {
   "cell_type": "code",
   "execution_count": 10,
   "metadata": {},
   "outputs": [
    {
     "name": "stdout",
     "output_type": "stream",
     "text": [
      "<class 'pandas.core.frame.DataFrame'>\n",
      "RangeIndex: 62 entries, 0 to 61\n",
      "Data columns (total 3 columns):\n",
      "date        62 non-null object\n",
      "group       62 non-null object\n",
      "visitors    62 non-null int64\n",
      "dtypes: int64(1), object(2)\n",
      "memory usage: 1.6+ KB\n"
     ]
    }
   ],
   "source": [
    "visits.info()"
   ]
  },
  {
   "cell_type": "code",
   "execution_count": 11,
   "metadata": {},
   "outputs": [
    {
     "data": {
      "text/html": [
       "<div>\n",
       "<style scoped>\n",
       "    .dataframe tbody tr th:only-of-type {\n",
       "        vertical-align: middle;\n",
       "    }\n",
       "\n",
       "    .dataframe tbody tr th {\n",
       "        vertical-align: top;\n",
       "    }\n",
       "\n",
       "    .dataframe thead th {\n",
       "        text-align: right;\n",
       "    }\n",
       "</style>\n",
       "<table border=\"1\" class=\"dataframe\">\n",
       "  <thead>\n",
       "    <tr style=\"text-align: right;\">\n",
       "      <th></th>\n",
       "      <th>date</th>\n",
       "      <th>group</th>\n",
       "      <th>visitors</th>\n",
       "    </tr>\n",
       "  </thead>\n",
       "  <tbody>\n",
       "    <tr>\n",
       "      <td>56</td>\n",
       "      <td>2019-08-26</td>\n",
       "      <td>B</td>\n",
       "      <td>676</td>\n",
       "    </tr>\n",
       "    <tr>\n",
       "      <td>54</td>\n",
       "      <td>2019-08-24</td>\n",
       "      <td>B</td>\n",
       "      <td>378</td>\n",
       "    </tr>\n",
       "    <tr>\n",
       "      <td>25</td>\n",
       "      <td>2019-08-26</td>\n",
       "      <td>A</td>\n",
       "      <td>722</td>\n",
       "    </tr>\n",
       "    <tr>\n",
       "      <td>53</td>\n",
       "      <td>2019-08-23</td>\n",
       "      <td>B</td>\n",
       "      <td>546</td>\n",
       "    </tr>\n",
       "    <tr>\n",
       "      <td>55</td>\n",
       "      <td>2019-08-25</td>\n",
       "      <td>B</td>\n",
       "      <td>679</td>\n",
       "    </tr>\n",
       "    <tr>\n",
       "      <td>58</td>\n",
       "      <td>2019-08-28</td>\n",
       "      <td>B</td>\n",
       "      <td>654</td>\n",
       "    </tr>\n",
       "    <tr>\n",
       "      <td>24</td>\n",
       "      <td>2019-08-25</td>\n",
       "      <td>A</td>\n",
       "      <td>621</td>\n",
       "    </tr>\n",
       "    <tr>\n",
       "      <td>9</td>\n",
       "      <td>2019-08-10</td>\n",
       "      <td>A</td>\n",
       "      <td>406</td>\n",
       "    </tr>\n",
       "    <tr>\n",
       "      <td>36</td>\n",
       "      <td>2019-08-06</td>\n",
       "      <td>B</td>\n",
       "      <td>655</td>\n",
       "    </tr>\n",
       "    <tr>\n",
       "      <td>19</td>\n",
       "      <td>2019-08-20</td>\n",
       "      <td>A</td>\n",
       "      <td>575</td>\n",
       "    </tr>\n",
       "  </tbody>\n",
       "</table>\n",
       "</div>"
      ],
      "text/plain": [
       "          date group  visitors\n",
       "56  2019-08-26     B       676\n",
       "54  2019-08-24     B       378\n",
       "25  2019-08-26     A       722\n",
       "53  2019-08-23     B       546\n",
       "55  2019-08-25     B       679\n",
       "58  2019-08-28     B       654\n",
       "24  2019-08-25     A       621\n",
       "9   2019-08-10     A       406\n",
       "36  2019-08-06     B       655\n",
       "19  2019-08-20     A       575"
      ]
     },
     "metadata": {},
     "output_type": "display_data"
    }
   ],
   "source": [
    "display(visits.sample(10))"
   ]
  },
  {
   "cell_type": "code",
   "execution_count": 12,
   "metadata": {},
   "outputs": [
    {
     "name": "stdout",
     "output_type": "stream",
     "text": [
      "group\n",
      "A    18736\n",
      "B    18916\n",
      "Name: visitors, dtype: int64\n"
     ]
    }
   ],
   "source": [
    "print(visits.groupby('group').visitors.sum())"
   ]
  },
  {
   "cell_type": "code",
   "execution_count": 13,
   "metadata": {},
   "outputs": [
    {
     "name": "stdout",
     "output_type": "stream",
     "text": [
      "count     62.000000\n",
      "mean     607.290323\n",
      "std      114.400560\n",
      "min      361.000000\n",
      "25%      534.000000\n",
      "50%      624.500000\n",
      "75%      710.500000\n",
      "max      770.000000\n",
      "Name: visitors, dtype: float64\n"
     ]
    }
   ],
   "source": [
    "print(visits.visitors.describe())"
   ]
  },
  {
   "cell_type": "markdown",
   "metadata": {},
   "source": [
    "Пропусков нет, выбросов в столбце visitors нет, количество пользователей в каждой группе с точностью до 0.1% одинаковое.  \n",
    "Сменю тип столбца с датой на datetime."
   ]
  },
  {
   "cell_type": "code",
   "execution_count": 14,
   "metadata": {},
   "outputs": [
    {
     "name": "stdout",
     "output_type": "stream",
     "text": [
      "count                      62\n",
      "unique                     31\n",
      "top       2019-08-02 00:00:00\n",
      "freq                        2\n",
      "first     2019-08-01 00:00:00\n",
      "last      2019-08-31 00:00:00\n",
      "Name: date, dtype: object\n"
     ]
    }
   ],
   "source": [
    "visits.date=pd.to_datetime(visits.date)\n",
    "print(visits.date.describe())"
   ]
  },
  {
   "cell_type": "markdown",
   "metadata": {},
   "source": [
    "Период даты, за который предоставленны сведенья, в обоих таблицах совпадает."
   ]
  },
  {
   "cell_type": "markdown",
   "metadata": {},
   "source": [
    "Проверим нет ли одинаковых пользователей в разных группах."
   ]
  },
  {
   "cell_type": "code",
   "execution_count": 15,
   "metadata": {},
   "outputs": [
    {
     "name": "stdout",
     "output_type": "stream",
     "text": [
      "<class 'pandas.core.frame.DataFrame'>\n",
      "Int64Index: 35 entries, 8300375 to 4266935830\n",
      "Data columns (total 2 columns):\n",
      "A    35 non-null int64\n",
      "B    35 non-null int64\n",
      "dtypes: int64(2)\n",
      "memory usage: 840.0 bytes\n"
     ]
    }
   ],
   "source": [
    "dft=pd.crosstab(orders.visitorId,orders.group)\n",
    "dftAll=dft[(dft.A==1) & (dft.B==1)]\n",
    "dftAll.info()       "
   ]
  },
  {
   "cell_type": "markdown",
   "metadata": {},
   "source": [
    "Имеется 35 пользователей, входящих в обе группы. Например пользователь с visitorId=8300375"
   ]
  },
  {
   "cell_type": "code",
   "execution_count": 15,
   "metadata": {},
   "outputs": [
    {
     "data": {
      "text/html": [
       "<div>\n",
       "<style scoped>\n",
       "    .dataframe tbody tr th:only-of-type {\n",
       "        vertical-align: middle;\n",
       "    }\n",
       "\n",
       "    .dataframe tbody tr th {\n",
       "        vertical-align: top;\n",
       "    }\n",
       "\n",
       "    .dataframe thead th {\n",
       "        text-align: right;\n",
       "    }\n",
       "</style>\n",
       "<table border=\"1\" class=\"dataframe\">\n",
       "  <thead>\n",
       "    <tr style=\"text-align: right;\">\n",
       "      <th></th>\n",
       "      <th>transactionId</th>\n",
       "      <th>visitorId</th>\n",
       "      <th>date</th>\n",
       "      <th>revenue</th>\n",
       "      <th>group</th>\n",
       "    </tr>\n",
       "  </thead>\n",
       "  <tbody>\n",
       "    <tr>\n",
       "      <td>71</td>\n",
       "      <td>3679129301</td>\n",
       "      <td>8300375</td>\n",
       "      <td>2019-08-01</td>\n",
       "      <td>10510</td>\n",
       "      <td>B</td>\n",
       "    </tr>\n",
       "    <tr>\n",
       "      <td>703</td>\n",
       "      <td>4293855558</td>\n",
       "      <td>8300375</td>\n",
       "      <td>2019-08-07</td>\n",
       "      <td>1790</td>\n",
       "      <td>A</td>\n",
       "    </tr>\n",
       "  </tbody>\n",
       "</table>\n",
       "</div>"
      ],
      "text/plain": [
       "     transactionId  visitorId       date  revenue group\n",
       "71      3679129301    8300375 2019-08-01    10510     B\n",
       "703     4293855558    8300375 2019-08-07     1790     A"
      ]
     },
     "metadata": {},
     "output_type": "display_data"
    }
   ],
   "source": [
    "display(orders[orders.visitorId==8300375])"
   ]
  },
  {
   "cell_type": "markdown",
   "metadata": {},
   "source": [
    "Удалим их полностью, т.к. мы не можем делать предположений, в какую группу они должны входить."
   ]
  },
  {
   "cell_type": "code",
   "execution_count": 16,
   "metadata": {},
   "outputs": [],
   "source": [
    "orders['del']=orders.visitorId.isin(dftAll.index)\n",
    "orders=orders.drop( orders[orders['del']==True].index )"
   ]
  },
  {
   "cell_type": "markdown",
   "metadata": {},
   "source": [
    "## Часть 1"
   ]
  },
  {
   "cell_type": "markdown",
   "metadata": {},
   "source": [
    "### ICE"
   ]
  },
  {
   "cell_type": "markdown",
   "metadata": {},
   "source": [
    "Анализ данных таблицы hypotesis с помощью фреймворка ICE"
   ]
  },
  {
   "cell_type": "code",
   "execution_count": 17,
   "metadata": {},
   "outputs": [
    {
     "data": {
      "text/html": [
       "<div>\n",
       "<style scoped>\n",
       "    .dataframe tbody tr th:only-of-type {\n",
       "        vertical-align: middle;\n",
       "    }\n",
       "\n",
       "    .dataframe tbody tr th {\n",
       "        vertical-align: top;\n",
       "    }\n",
       "\n",
       "    .dataframe thead th {\n",
       "        text-align: right;\n",
       "    }\n",
       "</style>\n",
       "<table border=\"1\" class=\"dataframe\">\n",
       "  <thead>\n",
       "    <tr style=\"text-align: right;\">\n",
       "      <th></th>\n",
       "      <th>Hypothesis</th>\n",
       "      <th>Reach</th>\n",
       "      <th>Impact</th>\n",
       "      <th>Confidence</th>\n",
       "      <th>Efforts</th>\n",
       "      <th>ICE</th>\n",
       "    </tr>\n",
       "  </thead>\n",
       "  <tbody>\n",
       "    <tr>\n",
       "      <td>8</td>\n",
       "      <td>Запустить акцию, дающую скидку на товар в день рождения</td>\n",
       "      <td>1</td>\n",
       "      <td>9</td>\n",
       "      <td>9</td>\n",
       "      <td>5</td>\n",
       "      <td>16.200000</td>\n",
       "    </tr>\n",
       "    <tr>\n",
       "      <td>0</td>\n",
       "      <td>Добавить два новых канала привлечения трафика, что позволит привлекать на 30% больше пользователей</td>\n",
       "      <td>3</td>\n",
       "      <td>10</td>\n",
       "      <td>8</td>\n",
       "      <td>6</td>\n",
       "      <td>13.333333</td>\n",
       "    </tr>\n",
       "    <tr>\n",
       "      <td>7</td>\n",
       "      <td>Добавить форму подписки на все основные страницы, чтобы собрать базу клиентов для email-рассылок</td>\n",
       "      <td>10</td>\n",
       "      <td>7</td>\n",
       "      <td>8</td>\n",
       "      <td>5</td>\n",
       "      <td>11.200000</td>\n",
       "    </tr>\n",
       "    <tr>\n",
       "      <td>6</td>\n",
       "      <td>Показать на главной странице баннеры с актуальными акциями и распродажами, чтобы увеличить конверсию</td>\n",
       "      <td>5</td>\n",
       "      <td>3</td>\n",
       "      <td>8</td>\n",
       "      <td>3</td>\n",
       "      <td>8.000000</td>\n",
       "    </tr>\n",
       "    <tr>\n",
       "      <td>2</td>\n",
       "      <td>Добавить блоки рекомендаций товаров на сайт интернет магазина, чтобы повысить конверсию и средний чек заказа</td>\n",
       "      <td>8</td>\n",
       "      <td>3</td>\n",
       "      <td>7</td>\n",
       "      <td>3</td>\n",
       "      <td>7.000000</td>\n",
       "    </tr>\n",
       "    <tr>\n",
       "      <td>1</td>\n",
       "      <td>Запустить собственную службу доставки, что сократит срок доставки заказов</td>\n",
       "      <td>2</td>\n",
       "      <td>5</td>\n",
       "      <td>4</td>\n",
       "      <td>10</td>\n",
       "      <td>2.000000</td>\n",
       "    </tr>\n",
       "    <tr>\n",
       "      <td>5</td>\n",
       "      <td>Добавить страницу отзывов клиентов о магазине, что позволит увеличить количество заказов</td>\n",
       "      <td>3</td>\n",
       "      <td>2</td>\n",
       "      <td>2</td>\n",
       "      <td>3</td>\n",
       "      <td>1.333333</td>\n",
       "    </tr>\n",
       "    <tr>\n",
       "      <td>3</td>\n",
       "      <td>Изменить структура категорий, что увеличит конверсию, т.к. пользователи быстрее найдут нужный товар</td>\n",
       "      <td>8</td>\n",
       "      <td>3</td>\n",
       "      <td>3</td>\n",
       "      <td>8</td>\n",
       "      <td>1.125000</td>\n",
       "    </tr>\n",
       "    <tr>\n",
       "      <td>4</td>\n",
       "      <td>Изменить цвет фона главной страницы, чтобы увеличить вовлеченность пользователей</td>\n",
       "      <td>3</td>\n",
       "      <td>1</td>\n",
       "      <td>1</td>\n",
       "      <td>1</td>\n",
       "      <td>1.000000</td>\n",
       "    </tr>\n",
       "  </tbody>\n",
       "</table>\n",
       "</div>"
      ],
      "text/plain": [
       "                                                                                                     Hypothesis  \\\n",
       "8                                                       Запустить акцию, дающую скидку на товар в день рождения   \n",
       "0            Добавить два новых канала привлечения трафика, что позволит привлекать на 30% больше пользователей   \n",
       "7              Добавить форму подписки на все основные страницы, чтобы собрать базу клиентов для email-рассылок   \n",
       "6          Показать на главной странице баннеры с актуальными акциями и распродажами, чтобы увеличить конверсию   \n",
       "2  Добавить блоки рекомендаций товаров на сайт интернет магазина, чтобы повысить конверсию и средний чек заказа   \n",
       "1                                     Запустить собственную службу доставки, что сократит срок доставки заказов   \n",
       "5                      Добавить страницу отзывов клиентов о магазине, что позволит увеличить количество заказов   \n",
       "3           Изменить структура категорий, что увеличит конверсию, т.к. пользователи быстрее найдут нужный товар   \n",
       "4                              Изменить цвет фона главной страницы, чтобы увеличить вовлеченность пользователей   \n",
       "\n",
       "   Reach  Impact  Confidence  Efforts        ICE  \n",
       "8      1       9           9        5  16.200000  \n",
       "0      3      10           8        6  13.333333  \n",
       "7     10       7           8        5  11.200000  \n",
       "6      5       3           8        3   8.000000  \n",
       "2      8       3           7        3   7.000000  \n",
       "1      2       5           4       10   2.000000  \n",
       "5      3       2           2        3   1.333333  \n",
       "3      8       3           3        8   1.125000  \n",
       "4      3       1           1        1   1.000000  "
      ]
     },
     "metadata": {},
     "output_type": "display_data"
    }
   ],
   "source": [
    "hypos['ICE']=(hypos.Impact*hypos.Confidence)/hypos.Efforts\n",
    "display(hypos.sort_values(by='ICE',ascending=False))"
   ]
  },
  {
   "cell_type": "markdown",
   "metadata": {},
   "source": [
    "Три первых строчки занимают предложения 8,0,7 имеющие очень высокий параметр влияния и высокую уверенность в оценке. Начиная с 4 строки параметр влияния падает больше чем в 2 раза, поэтому индекс ICE существенно падает, несмотря на высокую уверенность и низкие (для гипотез 6,2,5,4) затраты."
   ]
  },
  {
   "cell_type": "markdown",
   "metadata": {},
   "source": [
    "### RICE"
   ]
  },
  {
   "cell_type": "markdown",
   "metadata": {},
   "source": [
    "Анализ данных таблицы hypotesis с помощью фреймворка RICE"
   ]
  },
  {
   "cell_type": "code",
   "execution_count": 18,
   "metadata": {},
   "outputs": [
    {
     "data": {
      "text/html": [
       "<div>\n",
       "<style scoped>\n",
       "    .dataframe tbody tr th:only-of-type {\n",
       "        vertical-align: middle;\n",
       "    }\n",
       "\n",
       "    .dataframe tbody tr th {\n",
       "        vertical-align: top;\n",
       "    }\n",
       "\n",
       "    .dataframe thead th {\n",
       "        text-align: right;\n",
       "    }\n",
       "</style>\n",
       "<table border=\"1\" class=\"dataframe\">\n",
       "  <thead>\n",
       "    <tr style=\"text-align: right;\">\n",
       "      <th></th>\n",
       "      <th>Hypothesis</th>\n",
       "      <th>Reach</th>\n",
       "      <th>Impact</th>\n",
       "      <th>Confidence</th>\n",
       "      <th>Efforts</th>\n",
       "      <th>ICE</th>\n",
       "      <th>RICE</th>\n",
       "    </tr>\n",
       "  </thead>\n",
       "  <tbody>\n",
       "    <tr>\n",
       "      <td>7</td>\n",
       "      <td>Добавить форму подписки на все основные страницы, чтобы собрать базу клиентов для email-рассылок</td>\n",
       "      <td>10</td>\n",
       "      <td>7</td>\n",
       "      <td>8</td>\n",
       "      <td>5</td>\n",
       "      <td>11.200000</td>\n",
       "      <td>112.0</td>\n",
       "    </tr>\n",
       "    <tr>\n",
       "      <td>2</td>\n",
       "      <td>Добавить блоки рекомендаций товаров на сайт интернет магазина, чтобы повысить конверсию и средний чек заказа</td>\n",
       "      <td>8</td>\n",
       "      <td>3</td>\n",
       "      <td>7</td>\n",
       "      <td>3</td>\n",
       "      <td>7.000000</td>\n",
       "      <td>56.0</td>\n",
       "    </tr>\n",
       "    <tr>\n",
       "      <td>0</td>\n",
       "      <td>Добавить два новых канала привлечения трафика, что позволит привлекать на 30% больше пользователей</td>\n",
       "      <td>3</td>\n",
       "      <td>10</td>\n",
       "      <td>8</td>\n",
       "      <td>6</td>\n",
       "      <td>13.333333</td>\n",
       "      <td>40.0</td>\n",
       "    </tr>\n",
       "    <tr>\n",
       "      <td>6</td>\n",
       "      <td>Показать на главной странице баннеры с актуальными акциями и распродажами, чтобы увеличить конверсию</td>\n",
       "      <td>5</td>\n",
       "      <td>3</td>\n",
       "      <td>8</td>\n",
       "      <td>3</td>\n",
       "      <td>8.000000</td>\n",
       "      <td>40.0</td>\n",
       "    </tr>\n",
       "    <tr>\n",
       "      <td>8</td>\n",
       "      <td>Запустить акцию, дающую скидку на товар в день рождения</td>\n",
       "      <td>1</td>\n",
       "      <td>9</td>\n",
       "      <td>9</td>\n",
       "      <td>5</td>\n",
       "      <td>16.200000</td>\n",
       "      <td>16.2</td>\n",
       "    </tr>\n",
       "    <tr>\n",
       "      <td>3</td>\n",
       "      <td>Изменить структура категорий, что увеличит конверсию, т.к. пользователи быстрее найдут нужный товар</td>\n",
       "      <td>8</td>\n",
       "      <td>3</td>\n",
       "      <td>3</td>\n",
       "      <td>8</td>\n",
       "      <td>1.125000</td>\n",
       "      <td>9.0</td>\n",
       "    </tr>\n",
       "    <tr>\n",
       "      <td>1</td>\n",
       "      <td>Запустить собственную службу доставки, что сократит срок доставки заказов</td>\n",
       "      <td>2</td>\n",
       "      <td>5</td>\n",
       "      <td>4</td>\n",
       "      <td>10</td>\n",
       "      <td>2.000000</td>\n",
       "      <td>4.0</td>\n",
       "    </tr>\n",
       "    <tr>\n",
       "      <td>5</td>\n",
       "      <td>Добавить страницу отзывов клиентов о магазине, что позволит увеличить количество заказов</td>\n",
       "      <td>3</td>\n",
       "      <td>2</td>\n",
       "      <td>2</td>\n",
       "      <td>3</td>\n",
       "      <td>1.333333</td>\n",
       "      <td>4.0</td>\n",
       "    </tr>\n",
       "    <tr>\n",
       "      <td>4</td>\n",
       "      <td>Изменить цвет фона главной страницы, чтобы увеличить вовлеченность пользователей</td>\n",
       "      <td>3</td>\n",
       "      <td>1</td>\n",
       "      <td>1</td>\n",
       "      <td>1</td>\n",
       "      <td>1.000000</td>\n",
       "      <td>3.0</td>\n",
       "    </tr>\n",
       "  </tbody>\n",
       "</table>\n",
       "</div>"
      ],
      "text/plain": [
       "                                                                                                     Hypothesis  \\\n",
       "7              Добавить форму подписки на все основные страницы, чтобы собрать базу клиентов для email-рассылок   \n",
       "2  Добавить блоки рекомендаций товаров на сайт интернет магазина, чтобы повысить конверсию и средний чек заказа   \n",
       "0            Добавить два новых канала привлечения трафика, что позволит привлекать на 30% больше пользователей   \n",
       "6          Показать на главной странице баннеры с актуальными акциями и распродажами, чтобы увеличить конверсию   \n",
       "8                                                       Запустить акцию, дающую скидку на товар в день рождения   \n",
       "3           Изменить структура категорий, что увеличит конверсию, т.к. пользователи быстрее найдут нужный товар   \n",
       "1                                     Запустить собственную службу доставки, что сократит срок доставки заказов   \n",
       "5                      Добавить страницу отзывов клиентов о магазине, что позволит увеличить количество заказов   \n",
       "4                              Изменить цвет фона главной страницы, чтобы увеличить вовлеченность пользователей   \n",
       "\n",
       "   Reach  Impact  Confidence  Efforts        ICE   RICE  \n",
       "7     10       7           8        5  11.200000  112.0  \n",
       "2      8       3           7        3   7.000000   56.0  \n",
       "0      3      10           8        6  13.333333   40.0  \n",
       "6      5       3           8        3   8.000000   40.0  \n",
       "8      1       9           9        5  16.200000   16.2  \n",
       "3      8       3           3        8   1.125000    9.0  \n",
       "1      2       5           4       10   2.000000    4.0  \n",
       "5      3       2           2        3   1.333333    4.0  \n",
       "4      3       1           1        1   1.000000    3.0  "
      ]
     },
     "metadata": {},
     "output_type": "display_data"
    }
   ],
   "source": [
    "hypos['RICE']=(hypos.Reach*hypos.Impact*hypos.Confidence)/hypos.Efforts\n",
    "display(hypos.sort_values(by='RICE',ascending=False))"
   ]
  },
  {
   "cell_type": "markdown",
   "metadata": {},
   "source": [
    "На первой строке предложение 7, имеющее высокие значения всех трех параметров при среднем значении усилий, что обеспечивает двухкратное превосходство индекса RICE по отношению к следующей гипотезе. Следующие три предложения 2,0,6 образуют группу с сопостовимым значением индекса RICE, что обусловленно высоким значение хотя-бы одного праметра и низким (по крайней мере для гипотез 2 и 6) значением усилий на доработку. Для гипотез 8,3,1,5,4 значение индекса RICE мало в силу того что хотя-бы один из трех параметров (охват, влияние, уверенность) имеет низкое значение, либо большие затраты на доработку."
   ]
  },
  {
   "cell_type": "markdown",
   "metadata": {},
   "source": [
    "### Вывод"
   ]
  },
  {
   "cell_type": "markdown",
   "metadata": {},
   "source": [
    "При применении фреймворков ICE и RICE были полученны хоть и сопостовимые, но все-таки разные результать, что не удивительно, т.к. количество анализируемых входных параметров разное. \n",
    "\n",
    "Мероприятия в гипотезах 7 и 8 можно рекомендовать к исполнению в первую очередь. Гипотезы 2,0,6 можно рекомендовать к исполнения во вторую очередь."
   ]
  },
  {
   "cell_type": "code",
   "execution_count": 19,
   "metadata": {},
   "outputs": [
    {
     "data": {
      "image/png": "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\n",
      "text/plain": [
       "<Figure size 720x576 with 1 Axes>"
      ]
     },
     "metadata": {
      "needs_background": "light"
     },
     "output_type": "display_data"
    }
   ],
   "source": [
    "hypos['name']=hypos.index\n",
    "fig, ax = plt.subplots()\n",
    "fig.set_figwidth(10)\n",
    "fig.set_figheight(8)\n",
    "x=hypos.ICE.to_numpy()\n",
    "y=hypos.RICE.to_numpy()\n",
    "n=hypos.name.to_numpy()\n",
    "plt.scatter(x,y,s=50)\n",
    "for i in range(0,len(n)):\n",
    "    ax.annotate(n[i], xy=(x[i]+0.1,y[i]+1))\n",
    "plt.title('Распределение гипотез')\n",
    "plt.xlabel('ICE')\n",
    "plt.ylabel('RICE')\n",
    "plt.show()\n"
   ]
  },
  {
   "cell_type": "markdown",
   "metadata": {},
   "source": [
    "На этой диаграмме хорошо видны группы с низкими индексами - 1,3,4,5, средними - 2,6 и высокими - 0,7,8."
   ]
  },
  {
   "cell_type": "markdown",
   "metadata": {},
   "source": [
    "## Часть 2"
   ]
  },
  {
   "cell_type": "markdown",
   "metadata": {},
   "source": [
    "Анализ А/В теста."
   ]
  },
  {
   "cell_type": "markdown",
   "metadata": {},
   "source": [
    "Подготовим данные."
   ]
  },
  {
   "cell_type": "code",
   "execution_count": 20,
   "metadata": {},
   "outputs": [],
   "source": [
    "datesGroups = orders[[\"date\", \"group\"]].drop_duplicates()\n",
    "\n",
    "ordersAggregated = datesGroups.apply(\n",
    "    lambda x: orders[\n",
    "        np.logical_and(orders[\"date\"] <= x[\"date\"], orders[\"group\"] == x[\"group\"])\n",
    "    ].agg(\n",
    "        {\n",
    "            \"date\": \"max\",\n",
    "            \"group\": \"max\",\n",
    "            \"transactionId\": pd.Series.nunique,\n",
    "            \"visitorId\": pd.Series.nunique,\n",
    "            \"revenue\": \"sum\",\n",
    "        }\n",
    "    ),\n",
    "    axis=1,\n",
    ").sort_values(by=[\"date\", \"group\"])\n",
    "\n",
    "visitorsAggregated = datesGroups.apply(\n",
    "    lambda x: visits[\n",
    "        np.logical_and(visits[\"date\"] <= x[\"date\"], visits[\"group\"] == x[\"group\"])\n",
    "    ].agg({\"date\": \"max\", \"group\": \"max\", \"visitors\": \"sum\"}),\n",
    "    axis=1,\n",
    ").sort_values(by=[\"date\", \"group\"])\n",
    "\n",
    "cumulativeData = ordersAggregated.merge(\n",
    "    visitorsAggregated, left_on=[\"date\", \"group\"], right_on=[\"date\", \"group\"]\n",
    ")\n",
    "cumulativeData.columns = [\n",
    "    \"date\",\n",
    "    \"group\",\n",
    "    \"orders\",\n",
    "    \"buyers\",\n",
    "    \"revenue\",\n",
    "    \"visitors\",\n",
    "]\n",
    "\n",
    "cumulativeRevenueA = cumulativeData[cumulativeData[\"group\"] == \"A\"][\n",
    "    [\"date\", \"revenue\", \"orders\"]\n",
    "]\n",
    "cumulativeRevenueB = cumulativeData[cumulativeData[\"group\"] == \"B\"][\n",
    "    [\"date\", \"revenue\", \"orders\"]\n",
    "]\n"
   ]
  },
  {
   "cell_type": "markdown",
   "metadata": {},
   "source": [
    "### куммулят. выручка и средний чек"
   ]
  },
  {
   "cell_type": "code",
   "execution_count": 21,
   "metadata": {},
   "outputs": [
    {
     "data": {
      "image/png": "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\n",
      "text/plain": [
       "<Figure size 720x720 with 1 Axes>"
      ]
     },
     "metadata": {
      "needs_background": "light"
     },
     "output_type": "display_data"
    }
   ],
   "source": [
    "plt.rcParams[\"figure.figsize\"] = (10,10)\n",
    "plt.plot(cumulativeRevenueA['date'], cumulativeRevenueA['revenue'], label='A')\n",
    "plt.plot(cumulativeRevenueB['date'], cumulativeRevenueB['revenue'], label='B')\n",
    "plt.legend()\n",
    "plt.xticks(rotation=90)\n",
    "plt.title('Куммулятивная выручка')\n",
    "plt.xlabel('Дата')\n",
    "plt.ylabel('Сумма')\n",
    "plt.show()"
   ]
  },
  {
   "cell_type": "markdown",
   "metadata": {},
   "source": [
    "Как мы можем видеть, куммулятивная выручка группы В больше чем группы А на протяжении практически всего интервала наблюдения. Имеется резкий подъем в середине графика, явно обусловленный выбросом в данных."
   ]
  },
  {
   "cell_type": "code",
   "execution_count": 22,
   "metadata": {},
   "outputs": [
    {
     "data": {
      "image/png": "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\n",
      "text/plain": [
       "<Figure size 720x720 with 1 Axes>"
      ]
     },
     "metadata": {
      "needs_background": "light"
     },
     "output_type": "display_data"
    }
   ],
   "source": [
    "plt.rcParams[\"figure.figsize\"] = (10,10)\n",
    "plt.plot(cumulativeRevenueA['date'], cumulativeRevenueA['revenue']/cumulativeRevenueA['orders'], label='A')\n",
    "plt.plot(cumulativeRevenueB['date'], cumulativeRevenueB['revenue']/cumulativeRevenueB['orders'], label='B')\n",
    "plt.legend()\n",
    "plt.xticks(rotation=90)\n",
    "plt.title('средний чек')\n",
    "plt.xlabel('Дата')\n",
    "plt.ylabel('Сумма')\n",
    "plt.show()"
   ]
  },
  {
   "cell_type": "markdown",
   "metadata": {},
   "source": [
    "Средний чек группы В так-же как и куммулятивная выручка больше чем группы А на протяжении практически всего интервала наблюдения. И так-же мы видим резкий подъем графика, обусловленный выбросом в данных."
   ]
  },
  {
   "cell_type": "code",
   "execution_count": 23,
   "metadata": {},
   "outputs": [],
   "source": [
    "mergedCumulativeRevenue=cumulativeRevenueA.merge(cumulativeRevenueB,left_on='date',right_on='date',how='left',suffixes=['A','B'])"
   ]
  },
  {
   "cell_type": "code",
   "execution_count": 24,
   "metadata": {},
   "outputs": [
    {
     "data": {
      "image/png": "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\n",
      "text/plain": [
       "<Figure size 720x720 with 1 Axes>"
      ]
     },
     "metadata": {
      "needs_background": "light"
     },
     "output_type": "display_data"
    }
   ],
   "source": [
    "plt.rcParams[\"figure.figsize\"] = (10,10)\n",
    "plt.plot(mergedCumulativeRevenue['date'],(mergedCumulativeRevenue['revenueB']/mergedCumulativeRevenue['ordersB'])/\n",
    "        (mergedCumulativeRevenue['revenueA']/mergedCumulativeRevenue['ordersA'])-1)\n",
    "plt.axhline(y=0, color='black', linestyle='--')\n",
    "plt.xticks(rotation=90)\n",
    "plt.title('Относительное изменение куммулятивного среднего чека')\n",
    "plt.xlabel('Дата')\n",
    "plt.ylabel('изменение')\n",
    "plt.show()"
   ]
  },
  {
   "cell_type": "markdown",
   "metadata": {},
   "source": [
    "Этот график еще раз подтверждает превышение среднего чека группы В над группой А"
   ]
  },
  {
   "cell_type": "markdown",
   "metadata": {},
   "source": [
    "### конверсия"
   ]
  },
  {
   "cell_type": "code",
   "execution_count": 25,
   "metadata": {},
   "outputs": [],
   "source": [
    "cumulativeData['conversion'] = cumulativeData['orders']/cumulativeData['visitors']\n",
    "cumulativeDataA = cumulativeData[cumulativeData['group']=='A']\n",
    "cumulativeDataB = cumulativeData[cumulativeData['group']=='B']"
   ]
  },
  {
   "cell_type": "code",
   "execution_count": 26,
   "metadata": {},
   "outputs": [
    {
     "data": {
      "image/png": "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\n",
      "text/plain": [
       "<Figure size 720x720 with 1 Axes>"
      ]
     },
     "metadata": {
      "needs_background": "light"
     },
     "output_type": "display_data"
    }
   ],
   "source": [
    "plt.rcParams[\"figure.figsize\"] = (10,10)\n",
    "plt.plot(cumulativeDataA['date'], cumulativeDataA['conversion'], label='A')\n",
    "plt.plot(cumulativeDataB['date'], cumulativeDataB['conversion'], label='B')\n",
    "plt.legend()\n",
    "plt.xticks(rotation=90)\n",
    "plt.title('Конверсия')\n",
    "plt.xlabel('Дата')\n",
    "plt.ylabel('Значение')\n",
    "plt.show()\n",
    "#plt.axis([\"2019-03-10\", '2019-04-23', 0, 0.05])"
   ]
  },
  {
   "cell_type": "markdown",
   "metadata": {},
   "source": [
    "Конверсия группы В выше чем группы А и очень похоже, что они обе выходят на стабильное значение."
   ]
  },
  {
   "cell_type": "code",
   "execution_count": 27,
   "metadata": {},
   "outputs": [],
   "source": [
    "mergedCumulativeConversions = cumulativeDataA[['date','conversion']].merge(\n",
    "    cumulativeDataB[['date','conversion']], left_on='date', right_on='date', how='left', suffixes=['A', 'B'])"
   ]
  },
  {
   "cell_type": "code",
   "execution_count": 28,
   "metadata": {},
   "outputs": [
    {
     "data": {
      "image/png": "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\n",
      "text/plain": [
       "<Figure size 720x720 with 1 Axes>"
      ]
     },
     "metadata": {
      "needs_background": "light"
     },
     "output_type": "display_data"
    }
   ],
   "source": [
    "plt.rcParams[\"figure.figsize\"] = (10,10)\n",
    "plt.plot(mergedCumulativeConversions['date'], mergedCumulativeConversions['conversionB']/\n",
    "         mergedCumulativeConversions['conversionA']-1, label=\"Относительный прирост конверсии группы B относительно группы A\")\n",
    "plt.legend()\n",
    "plt.axhline(y=0, color='black', linestyle='-')\n",
    "plt.axhline(y=0.15, color='grey', linestyle='--')\n",
    "plt.xticks(rotation=90)\n",
    "plt.title('Относительное изменение конверсии')\n",
    "plt.xlabel('Дата')\n",
    "plt.ylabel('Значение')\n",
    "plt.show()"
   ]
  },
  {
   "cell_type": "markdown",
   "metadata": {},
   "source": [
    "Относительное значение конверсии явно стремиться к стабильному значению в районе 0.15"
   ]
  },
  {
   "cell_type": "markdown",
   "metadata": {},
   "source": [
    "### кол-во и сумма заказов и по пользователям"
   ]
  },
  {
   "cell_type": "markdown",
   "metadata": {},
   "source": [
    "Проанализируем количество заказов по пользователям."
   ]
  },
  {
   "cell_type": "code",
   "execution_count": 29,
   "metadata": {},
   "outputs": [],
   "source": [
    "ordersByUsers = orders.groupby('visitorId', as_index=False).agg({'transactionId': pd.Series.nunique})\n",
    "ordersByUsers.columns = ['userId', 'orders']"
   ]
  },
  {
   "cell_type": "code",
   "execution_count": 30,
   "metadata": {},
   "outputs": [
    {
     "data": {
      "image/png": "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\n",
      "text/plain": [
       "<Figure size 720x432 with 1 Axes>"
      ]
     },
     "metadata": {
      "needs_background": "light"
     },
     "output_type": "display_data"
    }
   ],
   "source": [
    "plt.rcParams[\"figure.figsize\"] = (10,6)\n",
    "plt.hist(ordersByUsers['orders'])\n",
    "plt.title('Количество заказов по пользователям')\n",
    "plt.xlabel('заказов на пользователя')\n",
    "plt.ylabel('количество')\n",
    "plt.show()"
   ]
  },
  {
   "cell_type": "markdown",
   "metadata": {},
   "source": [
    "подавляющее большинство пользователей делает 1 заказ."
   ]
  },
  {
   "cell_type": "code",
   "execution_count": 31,
   "metadata": {},
   "outputs": [
    {
     "data": {
      "image/png": "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\n",
      "text/plain": [
       "<Figure size 720x720 with 1 Axes>"
      ]
     },
     "metadata": {
      "needs_background": "light"
     },
     "output_type": "display_data"
    }
   ],
   "source": [
    "x_values = pd.Series(range(0, len(ordersByUsers)))\n",
    "plt.rcParams[\"figure.figsize\"] = (10,10)\n",
    "plt.scatter(x_values, ordersByUsers['orders'])\n",
    "plt.title('Количество заказов по пользователям')\n",
    "plt.xlabel('порядковый номер пользователя')\n",
    "plt.ylabel('заказов на пользователя')\n",
    "plt.show()"
   ]
  },
  {
   "cell_type": "code",
   "execution_count": 32,
   "metadata": {},
   "outputs": [
    {
     "name": "stdout",
     "output_type": "stream",
     "text": [
      "[2.   4.05]\n"
     ]
    }
   ],
   "source": [
    "print(np.percentile(ordersByUsers['orders'], [95, 99]))"
   ]
  },
  {
   "cell_type": "markdown",
   "metadata": {},
   "source": [
    "95% процентов пользователей делает 2 и менее заказов. Думаю это значение и взять как граничное для фильтрации в дальнейшем."
   ]
  },
  {
   "cell_type": "markdown",
   "metadata": {},
   "source": [
    "Проанализируем суммы заказов."
   ]
  },
  {
   "cell_type": "code",
   "execution_count": 33,
   "metadata": {},
   "outputs": [
    {
     "data": {
      "image/png": "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\n",
      "text/plain": [
       "<Figure size 1296x576 with 2 Axes>"
      ]
     },
     "metadata": {
      "needs_background": "light"
     },
     "output_type": "display_data"
    }
   ],
   "source": [
    "x_values = pd.Series(range(0, len(orders['revenue'])))\n",
    "fig, ax = plt.subplots(ncols=2,nrows=1,figsize=(18,8) )\n",
    "ax[0].scatter(x_values, orders['revenue'])\n",
    "ax[0].set_title('Сумма заказа')\n",
    "ax[0].set_xlabel('порядковый номер заказа')\n",
    "ax[0].set_ylabel('Сумма')\n",
    "dft=orders[orders.revenue<50000]['revenue']\n",
    "x_values = pd.Series(range(0, len(dft)))\n",
    "ax[1].scatter(x=x_values,y=dft)\n",
    "ax[1].set_title('Сумма заказа до 50000')\n",
    "ax[1].set_xlabel('порядковый номер заказа')\n",
    "ax[1].set_ylabel('Сумма')\n",
    "plt.show()\n"
   ]
  },
  {
   "cell_type": "code",
   "execution_count": 34,
   "metadata": {},
   "outputs": [
    {
     "name": "stdout",
     "output_type": "stream",
     "text": [
      "[27460.   55936.04]\n"
     ]
    }
   ],
   "source": [
    "print(np.percentile(orders['revenue'], [95, 99]))"
   ]
  },
  {
   "cell_type": "markdown",
   "metadata": {},
   "source": [
    "На левом графике хорошо видна аномалия, выброс в сумме заказа. 95% заказов меньше 28000. Думаю это значение и взять как граничное для фильтрации в дальнейшем. На правом графике показанно распределение заказов в диапазоне от 0 до 50000. Явно видно снижение плотности после 20000."
   ]
  },
  {
   "cell_type": "markdown",
   "metadata": {},
   "source": [
    "### статистическая значимость по исходным данным"
   ]
  },
  {
   "cell_type": "markdown",
   "metadata": {},
   "source": [
    "Посчитаем статистическую значимость разлиичй в конверсии и среднем чеке для групп А и В по исходным данным.\n",
    "\n",
    "Подготовим данные."
   ]
  },
  {
   "cell_type": "code",
   "execution_count": 35,
   "metadata": {},
   "outputs": [],
   "source": [
    "ordersByUsersA=(orders[orders['group']=='A'].groupby('visitorId',as_index=False).agg({'transactionId':pd.Series.nunique}))\n",
    "ordersByUsersA.columns=['userId', 'orders']\n",
    "\n",
    "ordersByUsersB=(orders[orders['group']=='B'].groupby('visitorId',as_index=False).agg({'transactionId':pd.Series.nunique}))\n",
    "ordersByUsersB.columns=['userId','orders'] "
   ]
  },
  {
   "cell_type": "code",
   "execution_count": 36,
   "metadata": {},
   "outputs": [],
   "source": [
    "visitorsADaily=visits[visits['group']=='A'][['date','visitors']]\n",
    "visitorsADaily.columns=['date','visitorsPerDateA']\n",
    "\n",
    "visitorsACummulative=visitorsADaily.apply(lambda x: visitorsADaily[visitorsADaily['date']<=x['date']].agg(\n",
    "        {'date':'max','visitorsPerDateA':'sum'}),axis=1)\n",
    "visitorsACummulative.columns=['date','visitorsCummulativeA']\n",
    "\n",
    "visitorsBDaily=visits[visits['group']=='B'][['date','visitors']]\n",
    "visitorsBDaily.columns=['date','visitorsPerDateB']\n",
    "\n",
    "visitorsBCummulative=visitorsBDaily.apply(lambda x: visitorsBDaily[visitorsBDaily['date']<=x['date']].agg(\n",
    "        {'date':'max','visitorsPerDateB':'sum'}),axis=1)\n",
    "visitorsBCummulative.columns=['date','visitorsCummulativeB']\n",
    "\n",
    "ordersADaily=(orders[orders['group']=='A'][['date','transactionId','visitorId','revenue']]\n",
    "    .groupby('date',as_index=False).agg({'transactionId':pd.Series.nunique,'revenue':'sum'}))\n",
    "ordersADaily.columns=['date','ordersPerDateA','revenuePerDateA']\n",
    "\n",
    "ordersACummulative=ordersADaily.apply(lambda x: ordersADaily[ordersADaily['date']<=x['date']].agg(\n",
    "        {'date':'max','ordersPerDateA':'sum','revenuePerDateA':'sum'}),axis=1).sort_values(by=['date'])\n",
    "ordersACummulative.columns=['date','ordersCummulativeA','revenueCummulativeA']\n",
    "\n",
    "ordersBDaily=(orders[orders['group']=='B'][['date','transactionId','visitorId','revenue']]\n",
    "    .groupby('date',as_index=False).agg({'transactionId':pd.Series.nunique,'revenue':'sum'}))\n",
    "ordersBDaily.columns=['date','ordersPerDateB','revenuePerDateB']\n",
    "\n",
    "ordersBCummulative=ordersBDaily.apply(lambda x: ordersBDaily[ordersBDaily['date']<= x['date']].agg(\n",
    "        {'date':'max','ordersPerDateB':'sum','revenuePerDateB':'sum'}),axis=1).sort_values(by=['date'])\n",
    "ordersBCummulative.columns=['date','ordersCummulativeB','revenueCummulativeB',]\n",
    "\n",
    "data = (\n",
    "    ordersADaily.merge(ordersBDaily, left_on='date', right_on='date', how='left')\n",
    "    .merge(ordersACummulative, left_on='date', right_on='date', how='left')\n",
    "    .merge(ordersBCummulative, left_on='date', right_on='date', how='left')\n",
    "    .merge(visitorsADaily, left_on='date', right_on='date', how='left')\n",
    "    .merge(visitorsBDaily, left_on='date', right_on='date', how='left')\n",
    "    .merge(visitorsACummulative, left_on='date', right_on='date', how='left')\n",
    "    .merge(visitorsBCummulative, left_on='date', right_on='date', how='left'))"
   ]
  },
  {
   "cell_type": "markdown",
   "metadata": {},
   "source": [
    "### формулировка гипотез"
   ]
  },
  {
   "cell_type": "markdown",
   "metadata": {},
   "source": [
    "Гипотеза 1:\n",
    "  - Вопрос: как соотносяться конверсии групп А и В.\n",
    "  - Нулевая гипотеза: конверсия групп А и В равны.\n",
    "  - Альтернативная гипотеза: конверсия групп А и В не равны.\n",
    "   \n",
    "   \n",
    "Гипотеза 2:\n",
    "  - Вопрос: как соотноситься средний чек груп А и В.\n",
    "  - Нулевая гипотеза: средние чеки групп А и В равны.\n",
    "  - Альтернативная гипотеза: средние чеки групп А и В не равны.\n",
    "\n",
    "Уровень статистической значимости для обеих гипотез примем равным 5%."
   ]
  },
  {
   "cell_type": "markdown",
   "metadata": {},
   "source": [
    "---"
   ]
  },
  {
   "cell_type": "markdown",
   "metadata": {},
   "source": [
    "### расчет стат. значимости по исходным данным"
   ]
  },
  {
   "cell_type": "code",
   "execution_count": 37,
   "metadata": {},
   "outputs": [
    {
     "name": "stdout",
     "output_type": "stream",
     "text": [
      "статистическая значимость различий в конверсии 0.00657\n"
     ]
    }
   ],
   "source": [
    "sampleA = pd.concat([ordersByUsersA['orders'],pd.Series(0,index=np.arange(data['visitorsPerDateA'].sum() - \n",
    "    len(ordersByUsersA['orders'])),name='orders')],axis=0)\n",
    "\n",
    "sampleB = pd.concat([ordersByUsersB['orders'],pd.Series(0,index=np.arange(data['visitorsPerDateB'].sum() - \n",
    "    len(ordersByUsersB['orders'])),name='orders')],axis=0)\n",
    "\n",
    "print(\"статистическая значимость различий в конверсии {0:.5f}\".format(stats.mannwhitneyu(sampleA, sampleB)[1]))"
   ]
  },
  {
   "cell_type": "markdown",
   "metadata": {},
   "source": [
    "Значение меньше 5%, значит нулевая гипотеза не верна. Конверсии групп не равны."
   ]
  },
  {
   "cell_type": "code",
   "execution_count": 38,
   "metadata": {},
   "outputs": [
    {
     "name": "stdout",
     "output_type": "stream",
     "text": [
      "статистическая значимость различий в среднем чеке 0.339\n"
     ]
    }
   ],
   "source": [
    "print('статистическая значимость различий в среднем чеке {0:.3f}'.format(\n",
    "    stats.mannwhitneyu(orders[orders['group']=='A']['revenue'], orders[orders['group']=='B']['revenue'])[1]))"
   ]
  },
  {
   "cell_type": "markdown",
   "metadata": {},
   "source": [
    "Значение больше 5%, значит нулевая гипотеза верна. Средние чеки групп А и Б статистически равны."
   ]
  },
  {
   "cell_type": "markdown",
   "metadata": {},
   "source": [
    "### очистка данных"
   ]
  },
  {
   "cell_type": "markdown",
   "metadata": {},
   "source": [
    "Очистим данные от аномальных значений и еще раз посчитаем  статистическую значимость разлиичй в конверсии и среднем чеке для групп А и В. "
   ]
  },
  {
   "cell_type": "code",
   "execution_count": 39,
   "metadata": {},
   "outputs": [],
   "source": [
    "usersWithManyOrders = pd.concat([\n",
    "        ordersByUsersA[ordersByUsersA['orders']>=2]['userId'],\n",
    "        ordersByUsersB[ordersByUsersB['orders']>=2]['userId']],axis=0)\n",
    "\n",
    "usersWithExpensiveOrders=orders[orders['revenue']>50000]['visitorId']\n",
    "usersWithExpensiveOrders.columns=['userId']\n",
    "\n",
    "abnormalUsers=(pd.concat([usersWithManyOrders, usersWithExpensiveOrders], axis=0).drop_duplicates().sort_values())"
   ]
  },
  {
   "cell_type": "markdown",
   "metadata": {},
   "source": [
    "###  расчет стат. значимости по очищенным данным"
   ]
  },
  {
   "cell_type": "code",
   "execution_count": 40,
   "metadata": {},
   "outputs": [
    {
     "name": "stdout",
     "output_type": "stream",
     "text": [
      "статистическая значимость различий в конверсии 0.00364\n"
     ]
    }
   ],
   "source": [
    "sampleAFiltered = pd.concat([ordersByUsersA[np.logical_not(ordersByUsersA['userId'].isin(abnormalUsers))]['orders'],\n",
    "        pd.Series(0,index=np.arange(data['visitorsPerDateA'].sum()-len(ordersByUsersA['orders'])),name='orders')],axis=0)\n",
    "\n",
    "sampleBFiltered = pd.concat([ordersByUsersB[np.logical_not(ordersByUsersB['userId'].isin(abnormalUsers))]['orders'],\n",
    "        pd.Series(0,index=np.arange(data['visitorsPerDateB'].sum()-len(ordersByUsersB['orders'])),name='orders')],axis=0) \n",
    "\n",
    "print('статистическая значимость различий в конверсии {0:.5f}'.format(stats.mannwhitneyu(sampleAFiltered, sampleBFiltered)[1]))\n"
   ]
  },
  {
   "cell_type": "markdown",
   "metadata": {},
   "source": [
    "Значение меньше 5%, значит нулевая гипотеза не верна. Конверсии групп по прежнему не равны."
   ]
  },
  {
   "cell_type": "code",
   "execution_count": 41,
   "metadata": {},
   "outputs": [
    {
     "name": "stdout",
     "output_type": "stream",
     "text": [
      "статистическая значимость различий в среднем чеке 0.482\n"
     ]
    }
   ],
   "source": [
    "print('статистическая значимость различий в среднем чеке {0:.3f}'.format(stats.mannwhitneyu(\n",
    "    orders[np.logical_and(orders['group'] == 'A',np.logical_not(orders['visitorId'].isin(abnormalUsers)))]['revenue'],\n",
    "    orders[np.logical_and(orders['group'] == 'B',np.logical_not(orders['visitorId'].isin(abnormalUsers)))]['revenue'])[1]))"
   ]
  },
  {
   "cell_type": "markdown",
   "metadata": {},
   "source": [
    "Значение больше 5%, значит нулевая гипотеза верна. Средние чеки групп А и Б статистически равны."
   ]
  },
  {
   "cell_type": "markdown",
   "metadata": {},
   "source": [
    "Исходя из анализа очищенных данных, можно предположить, что статистически значимая разница в конверсии есть, а статистически значимой разницы в среднем чеке нет. Т.е. пользователи стали покупать чаще, но на те-же суммы. Причем после очистки для конверсии значение стало еще меньше, а для среднего чека больше. Т.е. после очистки мы стали более уверенны, что в конверсии различия есть, а в среднем чеке нет."
   ]
  },
  {
   "cell_type": "markdown",
   "metadata": {},
   "source": [
    "## Вывод"
   ]
  },
  {
   "cell_type": "markdown",
   "metadata": {},
   "source": [
    "### Анализ гипотез"
   ]
  },
  {
   "cell_type": "markdown",
   "metadata": {},
   "source": [
    "Проанализировав предложенные гипотезы в рамках фреймворков ICE и RICE можно сделать следующие выводы:\n",
    "\n",
    " 1. Т.к. в фреймворке RICE задействованно больше параметров, то и результирующие индексы для этих двух фреймворков различны. И гипотеза получившая максимальные баллы в одном вовсе не обязательно получит их в другом.\n",
    " 2. Гипотезы 0 и 7 получили относительно большие очки по обеим фреймворкам, их можно рекомендовать к реализации в первую очередь.\n",
    " 3. Гипотезы 2,6 и 8 находяться в верхней части обеих таблиц. Их можно рекомендовать к реализации во вторую очередь."
   ]
  },
  {
   "cell_type": "markdown",
   "metadata": {},
   "source": [
    "### Анализ А/В теста"
   ]
  },
  {
   "cell_type": "markdown",
   "metadata": {},
   "source": [
    " 1. Анализ исходных данных выявил наличие аномалий в количестве и сумме заказов, что дает выбросы на графиках.\n",
    " 2. Анализ конверсии и среднего чека показали, что группа В превосходит по этим показателям группу А.\n",
    " 3. Расчет статистической значимости показал, что статистическая разница в конверсии есть, а статистической разницы в среднем чеке нет.\n",
    " 4. Внешний вид графиков конверсии и среднего чека показывает, что начальные колебания пройдены и начинается выход показателей на плато. Однако, с моей точки зрения колебания еще велики и окончательного выхода на плато нет.\n",
    "\n",
    " Таким образом, по результатам анализа А/В теста я бы рекомендовал следующее:\n",
    " \n",
    " Поскольку мы уже начали анализ результатов, имеем заметный выход показателей на плато, очень значительные цифры статистической значимости и что-бы избежать проблемы подглядывания, я бы рекомендовал прекратить тест и считать группу В победителем.\n",
    " "
   ]
  }
 ],
 "metadata": {
  "ExecuteTimeLog": [
   {
    "duration": 1414,
    "start_time": "2021-11-08T07:01:48.732Z"
   },
   {
    "duration": 2478,
    "start_time": "2021-11-08T07:01:50.148Z"
   },
   {
    "duration": -524,
    "start_time": "2021-11-08T07:01:53.152Z"
   },
   {
    "duration": -523,
    "start_time": "2021-11-08T07:01:53.153Z"
   },
   {
    "duration": -523,
    "start_time": "2021-11-08T07:01:53.154Z"
   },
   {
    "duration": 90,
    "start_time": "2021-11-08T07:02:05.318Z"
   },
   {
    "duration": 23,
    "start_time": "2021-11-08T07:02:06.390Z"
   },
   {
    "duration": 24,
    "start_time": "2021-11-08T07:02:09.635Z"
   },
   {
    "duration": 18,
    "start_time": "2021-11-08T07:02:12.966Z"
   },
   {
    "duration": 18,
    "start_time": "2021-11-08T07:03:32.658Z"
   },
   {
    "duration": 17,
    "start_time": "2021-11-08T07:03:49.060Z"
   },
   {
    "duration": 22,
    "start_time": "2021-11-08T07:04:35.678Z"
   },
   {
    "duration": 23,
    "start_time": "2021-11-08T07:04:56.346Z"
   },
   {
    "duration": 111,
    "start_time": "2021-11-08T07:06:30.533Z"
   },
   {
    "duration": 24,
    "start_time": "2021-11-08T07:06:34.616Z"
   },
   {
    "duration": 28,
    "start_time": "2021-11-08T07:06:42.150Z"
   },
   {
    "duration": 7,
    "start_time": "2021-11-08T07:09:13.752Z"
   },
   {
    "duration": 1476,
    "start_time": "2021-11-08T07:11:47.675Z"
   },
   {
    "duration": 67,
    "start_time": "2021-11-08T07:11:49.154Z"
   },
   {
    "duration": 20,
    "start_time": "2021-11-08T07:11:49.224Z"
   },
   {
    "duration": 10,
    "start_time": "2021-11-08T07:11:49.247Z"
   },
   {
    "duration": 20,
    "start_time": "2021-11-08T07:11:49.259Z"
   },
   {
    "duration": 10,
    "start_time": "2021-11-08T07:11:49.282Z"
   },
   {
    "duration": 11,
    "start_time": "2021-11-08T07:11:49.294Z"
   },
   {
    "duration": 9,
    "start_time": "2021-11-08T07:11:49.307Z"
   },
   {
    "duration": 9,
    "start_time": "2021-11-08T07:11:49.319Z"
   },
   {
    "duration": 12,
    "start_time": "2021-11-08T07:11:49.331Z"
   },
   {
    "duration": 36,
    "start_time": "2021-11-08T07:11:49.346Z"
   },
   {
    "duration": 13,
    "start_time": "2021-11-08T07:11:49.385Z"
   },
   {
    "duration": 7,
    "start_time": "2021-11-08T07:11:49.401Z"
   },
   {
    "duration": 5,
    "start_time": "2021-11-08T07:18:01.296Z"
   },
   {
    "duration": 81,
    "start_time": "2021-11-08T07:18:01.303Z"
   },
   {
    "duration": 18,
    "start_time": "2021-11-08T07:18:01.388Z"
   },
   {
    "duration": 11,
    "start_time": "2021-11-08T07:18:01.409Z"
   },
   {
    "duration": 16,
    "start_time": "2021-11-08T07:18:01.423Z"
   },
   {
    "duration": 43,
    "start_time": "2021-11-08T07:18:01.441Z"
   },
   {
    "duration": 11,
    "start_time": "2021-11-08T07:18:01.486Z"
   },
   {
    "duration": 10,
    "start_time": "2021-11-08T07:18:01.501Z"
   },
   {
    "duration": 24,
    "start_time": "2021-11-08T07:18:01.514Z"
   },
   {
    "duration": 42,
    "start_time": "2021-11-08T07:18:01.540Z"
   },
   {
    "duration": 33,
    "start_time": "2021-11-08T07:18:01.585Z"
   },
   {
    "duration": 29,
    "start_time": "2021-11-08T07:18:01.620Z"
   },
   {
    "duration": 31,
    "start_time": "2021-11-08T07:18:01.651Z"
   },
   {
    "duration": 444,
    "start_time": "2021-11-08T07:18:01.684Z"
   },
   {
    "duration": -528,
    "start_time": "2021-11-08T07:18:02.658Z"
   },
   {
    "duration": 1462,
    "start_time": "2021-11-08T07:18:52.469Z"
   },
   {
    "duration": 57,
    "start_time": "2021-11-08T07:18:53.934Z"
   },
   {
    "duration": 20,
    "start_time": "2021-11-08T07:18:53.994Z"
   },
   {
    "duration": 15,
    "start_time": "2021-11-08T07:18:54.017Z"
   },
   {
    "duration": 19,
    "start_time": "2021-11-08T07:18:54.034Z"
   },
   {
    "duration": 12,
    "start_time": "2021-11-08T07:18:54.056Z"
   },
   {
    "duration": 19,
    "start_time": "2021-11-08T07:18:54.070Z"
   },
   {
    "duration": 8,
    "start_time": "2021-11-08T07:18:54.091Z"
   },
   {
    "duration": 9,
    "start_time": "2021-11-08T07:18:54.104Z"
   },
   {
    "duration": 12,
    "start_time": "2021-11-08T07:18:54.116Z"
   },
   {
    "duration": 8,
    "start_time": "2021-11-08T07:18:54.130Z"
   },
   {
    "duration": 9,
    "start_time": "2021-11-08T07:18:54.182Z"
   },
   {
    "duration": 13,
    "start_time": "2021-11-08T07:18:54.193Z"
   },
   {
    "duration": 21,
    "start_time": "2021-11-08T07:18:54.208Z"
   },
   {
    "duration": 17,
    "start_time": "2021-11-08T07:18:54.232Z"
   },
   {
    "duration": 16,
    "start_time": "2021-11-08T07:19:21.788Z"
   },
   {
    "duration": 17,
    "start_time": "2021-11-08T07:19:23.733Z"
   },
   {
    "duration": 18,
    "start_time": "2021-11-08T07:20:19.045Z"
   },
   {
    "duration": 16,
    "start_time": "2021-11-08T07:20:22.364Z"
   },
   {
    "duration": 12,
    "start_time": "2021-11-08T07:38:42.881Z"
   },
   {
    "duration": 7,
    "start_time": "2021-11-08T07:39:12.252Z"
   },
   {
    "duration": 7,
    "start_time": "2021-11-08T07:39:56.355Z"
   },
   {
    "duration": 9,
    "start_time": "2021-11-08T07:42:25.793Z"
   },
   {
    "duration": 14,
    "start_time": "2021-11-08T07:44:47.560Z"
   },
   {
    "duration": 12,
    "start_time": "2021-11-08T07:45:16.024Z"
   },
   {
    "duration": 10,
    "start_time": "2021-11-08T07:49:16.361Z"
   },
   {
    "duration": 17,
    "start_time": "2021-11-08T07:49:18.100Z"
   },
   {
    "duration": 17,
    "start_time": "2021-11-08T07:49:37.844Z"
   },
   {
    "duration": 16,
    "start_time": "2021-11-08T07:55:57.232Z"
   },
   {
    "duration": 7563,
    "start_time": "2021-11-08T07:56:54.255Z"
   },
   {
    "duration": 1356,
    "start_time": "2021-11-08T07:57:17.632Z"
   },
   {
    "duration": 1497,
    "start_time": "2021-11-08T07:57:54.858Z"
   },
   {
    "duration": 58,
    "start_time": "2021-11-08T07:57:56.357Z"
   },
   {
    "duration": 21,
    "start_time": "2021-11-08T07:57:56.418Z"
   },
   {
    "duration": 9,
    "start_time": "2021-11-08T07:57:56.441Z"
   },
   {
    "duration": 15,
    "start_time": "2021-11-08T07:57:56.452Z"
   },
   {
    "duration": 17,
    "start_time": "2021-11-08T07:57:56.469Z"
   },
   {
    "duration": 12,
    "start_time": "2021-11-08T07:57:56.489Z"
   },
   {
    "duration": 9,
    "start_time": "2021-11-08T07:57:56.504Z"
   },
   {
    "duration": 11,
    "start_time": "2021-11-08T07:57:56.519Z"
   },
   {
    "duration": 61,
    "start_time": "2021-11-08T07:57:56.533Z"
   },
   {
    "duration": 12,
    "start_time": "2021-11-08T07:57:56.598Z"
   },
   {
    "duration": 9,
    "start_time": "2021-11-08T07:57:56.612Z"
   },
   {
    "duration": 13,
    "start_time": "2021-11-08T07:57:56.623Z"
   },
   {
    "duration": 47,
    "start_time": "2021-11-08T07:57:56.638Z"
   },
   {
    "duration": 19,
    "start_time": "2021-11-08T07:57:56.688Z"
   },
   {
    "duration": 17,
    "start_time": "2021-11-08T07:57:56.709Z"
   },
   {
    "duration": 1497,
    "start_time": "2021-11-08T07:57:56.728Z"
   },
   {
    "duration": -672,
    "start_time": "2021-11-08T07:57:58.899Z"
   },
   {
    "duration": 1393,
    "start_time": "2021-11-08T07:58:29.595Z"
   },
   {
    "duration": 7,
    "start_time": "2021-11-08T07:58:40.199Z"
   },
   {
    "duration": 13,
    "start_time": "2021-11-08T07:58:43.148Z"
   },
   {
    "duration": 1486,
    "start_time": "2021-11-08T07:59:20.662Z"
   },
   {
    "duration": 61,
    "start_time": "2021-11-08T07:59:22.151Z"
   },
   {
    "duration": 23,
    "start_time": "2021-11-08T07:59:22.219Z"
   },
   {
    "duration": 9,
    "start_time": "2021-11-08T07:59:22.245Z"
   },
   {
    "duration": 28,
    "start_time": "2021-11-08T07:59:22.256Z"
   },
   {
    "duration": 12,
    "start_time": "2021-11-08T07:59:22.286Z"
   },
   {
    "duration": 12,
    "start_time": "2021-11-08T07:59:22.300Z"
   },
   {
    "duration": 14,
    "start_time": "2021-11-08T07:59:22.317Z"
   },
   {
    "duration": 52,
    "start_time": "2021-11-08T07:59:22.335Z"
   },
   {
    "duration": 16,
    "start_time": "2021-11-08T07:59:22.390Z"
   },
   {
    "duration": 8,
    "start_time": "2021-11-08T07:59:22.409Z"
   },
   {
    "duration": 10,
    "start_time": "2021-11-08T07:59:22.419Z"
   },
   {
    "duration": 9,
    "start_time": "2021-11-08T07:59:22.431Z"
   },
   {
    "duration": 48,
    "start_time": "2021-11-08T07:59:22.443Z"
   },
   {
    "duration": 20,
    "start_time": "2021-11-08T07:59:22.494Z"
   },
   {
    "duration": 18,
    "start_time": "2021-11-08T07:59:22.517Z"
   },
   {
    "duration": 5,
    "start_time": "2021-11-08T07:59:22.537Z"
   },
   {
    "duration": 13,
    "start_time": "2021-11-08T07:59:22.583Z"
   },
   {
    "duration": 9,
    "start_time": "2021-11-08T08:13:31.505Z"
   },
   {
    "duration": 14,
    "start_time": "2021-11-08T08:13:46.238Z"
   },
   {
    "duration": 8152,
    "start_time": "2021-11-08T08:13:59.833Z"
   },
   {
    "duration": 342,
    "start_time": "2021-11-08T08:15:11.577Z"
   },
   {
    "duration": 16,
    "start_time": "2021-11-08T08:15:18.371Z"
   },
   {
    "duration": 126,
    "start_time": "2021-11-08T08:16:00.073Z"
   },
   {
    "duration": 20,
    "start_time": "2021-11-08T08:16:07.103Z"
   },
   {
    "duration": 11,
    "start_time": "2021-11-08T08:16:43.730Z"
   },
   {
    "duration": 9,
    "start_time": "2021-11-08T08:17:24.470Z"
   },
   {
    "duration": 353,
    "start_time": "2021-11-08T08:17:54.010Z"
   },
   {
    "duration": 11,
    "start_time": "2021-11-08T08:18:04.887Z"
   },
   {
    "duration": 519,
    "start_time": "2021-11-08T08:18:13.879Z"
   },
   {
    "duration": 277,
    "start_time": "2021-11-08T08:19:09.422Z"
   },
   {
    "duration": 16,
    "start_time": "2021-11-08T08:19:22.011Z"
   },
   {
    "duration": 10,
    "start_time": "2021-11-08T08:20:01.225Z"
   },
   {
    "duration": 19,
    "start_time": "2021-11-08T08:20:08.260Z"
   },
   {
    "duration": 334,
    "start_time": "2021-11-08T08:23:04.519Z"
   },
   {
    "duration": 309,
    "start_time": "2021-11-08T08:23:32.640Z"
   },
   {
    "duration": 368,
    "start_time": "2021-11-08T08:23:39.057Z"
   },
   {
    "duration": 316,
    "start_time": "2021-11-08T08:24:41.515Z"
   },
   {
    "duration": 312,
    "start_time": "2021-11-08T08:24:56.182Z"
   },
   {
    "duration": 634,
    "start_time": "2021-11-08T08:25:38.280Z"
   },
   {
    "duration": 585,
    "start_time": "2021-11-08T08:28:22.329Z"
   },
   {
    "duration": 569,
    "start_time": "2021-11-08T08:28:29.144Z"
   },
   {
    "duration": 926,
    "start_time": "2021-11-08T08:28:39.256Z"
   },
   {
    "duration": 955,
    "start_time": "2021-11-08T08:28:48.789Z"
   },
   {
    "duration": 951,
    "start_time": "2021-11-08T08:28:59.090Z"
   },
   {
    "duration": 434,
    "start_time": "2021-11-08T08:29:19.531Z"
   },
   {
    "duration": 314,
    "start_time": "2021-11-08T08:29:52.930Z"
   },
   {
    "duration": 681,
    "start_time": "2021-11-08T08:30:02.331Z"
   },
   {
    "duration": 973,
    "start_time": "2021-11-08T08:30:12.858Z"
   },
   {
    "duration": 770,
    "start_time": "2021-11-08T08:30:23.875Z"
   },
   {
    "duration": 674,
    "start_time": "2021-11-08T08:30:30.625Z"
   },
   {
    "duration": 813,
    "start_time": "2021-11-08T08:30:42.945Z"
   },
   {
    "duration": 8,
    "start_time": "2021-11-08T08:32:45.079Z"
   },
   {
    "duration": 369,
    "start_time": "2021-11-08T08:32:46.106Z"
   },
   {
    "duration": 1460,
    "start_time": "2021-11-08T08:36:15.087Z"
   },
   {
    "duration": 76,
    "start_time": "2021-11-08T08:36:16.549Z"
   },
   {
    "duration": 21,
    "start_time": "2021-11-08T08:36:16.628Z"
   },
   {
    "duration": 9,
    "start_time": "2021-11-08T08:36:16.652Z"
   },
   {
    "duration": 13,
    "start_time": "2021-11-08T08:36:16.663Z"
   },
   {
    "duration": 8,
    "start_time": "2021-11-08T08:36:16.679Z"
   },
   {
    "duration": 10,
    "start_time": "2021-11-08T08:36:16.689Z"
   },
   {
    "duration": 13,
    "start_time": "2021-11-08T08:36:16.702Z"
   },
   {
    "duration": 9,
    "start_time": "2021-11-08T08:36:16.721Z"
   },
   {
    "duration": 57,
    "start_time": "2021-11-08T08:36:16.734Z"
   },
   {
    "duration": 10,
    "start_time": "2021-11-08T08:36:16.794Z"
   },
   {
    "duration": 7,
    "start_time": "2021-11-08T08:36:16.806Z"
   },
   {
    "duration": 15,
    "start_time": "2021-11-08T08:36:16.815Z"
   },
   {
    "duration": 51,
    "start_time": "2021-11-08T08:36:16.833Z"
   },
   {
    "duration": 20,
    "start_time": "2021-11-08T08:36:16.887Z"
   },
   {
    "duration": 18,
    "start_time": "2021-11-08T08:36:16.909Z"
   },
   {
    "duration": 11,
    "start_time": "2021-11-08T08:36:16.930Z"
   },
   {
    "duration": 375,
    "start_time": "2021-11-08T08:36:16.944Z"
   },
   {
    "duration": 285,
    "start_time": "2021-11-08T08:36:17.322Z"
   },
   {
    "duration": 10,
    "start_time": "2021-11-08T08:36:17.609Z"
   },
   {
    "duration": 14,
    "start_time": "2021-11-08T08:36:17.621Z"
   },
   {
    "duration": 347,
    "start_time": "2021-11-08T08:36:17.637Z"
   },
   {
    "duration": 576,
    "start_time": "2021-11-08T08:36:17.986Z"
   },
   {
    "duration": 17,
    "start_time": "2021-11-08T08:36:18.565Z"
   },
   {
    "duration": 445,
    "start_time": "2021-11-08T08:36:18.585Z"
   },
   {
    "duration": 9,
    "start_time": "2021-11-08T08:36:19.033Z"
   },
   {
    "duration": 375,
    "start_time": "2021-11-08T08:36:19.046Z"
   },
   {
    "duration": 12,
    "start_time": "2021-11-08T08:36:19.423Z"
   },
   {
    "duration": 365,
    "start_time": "2021-11-08T08:36:19.437Z"
   },
   {
    "duration": 5,
    "start_time": "2021-11-08T08:36:19.805Z"
   },
   {
    "duration": 531,
    "start_time": "2021-11-08T08:37:45.918Z"
   },
   {
    "duration": 767,
    "start_time": "2021-11-08T08:38:10.933Z"
   },
   {
    "duration": 585,
    "start_time": "2021-11-08T08:38:22.380Z"
   },
   {
    "duration": 470,
    "start_time": "2021-11-08T08:39:11.412Z"
   },
   {
    "duration": 580,
    "start_time": "2021-11-08T08:39:29.047Z"
   },
   {
    "duration": 454,
    "start_time": "2021-11-08T08:40:03.546Z"
   },
   {
    "duration": 462,
    "start_time": "2021-11-08T08:40:34.925Z"
   },
   {
    "duration": 574,
    "start_time": "2021-11-08T08:41:51.600Z"
   },
   {
    "duration": 579,
    "start_time": "2021-11-08T08:42:04.227Z"
   },
   {
    "duration": 188,
    "start_time": "2021-11-08T08:46:36.432Z"
   },
   {
    "duration": 9,
    "start_time": "2021-11-08T08:46:37.954Z"
   },
   {
    "duration": 384,
    "start_time": "2021-11-08T08:46:51.147Z"
   },
   {
    "duration": 472,
    "start_time": "2021-11-08T08:47:08.120Z"
   },
   {
    "duration": 5,
    "start_time": "2021-11-08T08:47:20.644Z"
   },
   {
    "duration": 6,
    "start_time": "2021-11-08T08:47:38.321Z"
   },
   {
    "duration": 480,
    "start_time": "2021-11-08T08:47:50.033Z"
   },
   {
    "duration": 364,
    "start_time": "2021-11-08T08:48:30.242Z"
   },
   {
    "duration": 545,
    "start_time": "2021-11-08T08:48:36.769Z"
   },
   {
    "duration": 360,
    "start_time": "2021-11-08T08:48:50.111Z"
   },
   {
    "duration": 6,
    "start_time": "2021-11-08T08:48:54.523Z"
   },
   {
    "duration": 488,
    "start_time": "2021-11-08T08:50:20.240Z"
   },
   {
    "duration": 532,
    "start_time": "2021-11-08T08:51:00.088Z"
   },
   {
    "duration": 1454,
    "start_time": "2021-11-08T08:58:05.096Z"
   },
   {
    "duration": 68,
    "start_time": "2021-11-08T08:58:06.552Z"
   },
   {
    "duration": 21,
    "start_time": "2021-11-08T08:58:06.623Z"
   },
   {
    "duration": 9,
    "start_time": "2021-11-08T08:58:06.647Z"
   },
   {
    "duration": 13,
    "start_time": "2021-11-08T08:58:06.659Z"
   },
   {
    "duration": 11,
    "start_time": "2021-11-08T08:58:06.675Z"
   },
   {
    "duration": 10,
    "start_time": "2021-11-08T08:58:06.688Z"
   },
   {
    "duration": 13,
    "start_time": "2021-11-08T08:58:06.700Z"
   },
   {
    "duration": 8,
    "start_time": "2021-11-08T08:58:06.716Z"
   },
   {
    "duration": 55,
    "start_time": "2021-11-08T08:58:06.727Z"
   },
   {
    "duration": 8,
    "start_time": "2021-11-08T08:58:06.785Z"
   },
   {
    "duration": 8,
    "start_time": "2021-11-08T08:58:06.796Z"
   },
   {
    "duration": 12,
    "start_time": "2021-11-08T08:58:06.806Z"
   },
   {
    "duration": 14,
    "start_time": "2021-11-08T08:58:06.821Z"
   },
   {
    "duration": 55,
    "start_time": "2021-11-08T08:58:06.838Z"
   },
   {
    "duration": 17,
    "start_time": "2021-11-08T08:58:06.895Z"
   },
   {
    "duration": 9,
    "start_time": "2021-11-08T08:58:06.915Z"
   },
   {
    "duration": 362,
    "start_time": "2021-11-08T08:58:06.926Z"
   },
   {
    "duration": 270,
    "start_time": "2021-11-08T08:58:07.291Z"
   },
   {
    "duration": 19,
    "start_time": "2021-11-08T08:58:07.563Z"
   },
   {
    "duration": 13,
    "start_time": "2021-11-08T08:58:07.585Z"
   },
   {
    "duration": 487,
    "start_time": "2021-11-08T08:58:07.601Z"
   },
   {
    "duration": 458,
    "start_time": "2021-11-08T08:58:08.091Z"
   },
   {
    "duration": 9,
    "start_time": "2021-11-08T08:58:08.551Z"
   },
   {
    "duration": 572,
    "start_time": "2021-11-08T08:58:08.562Z"
   },
   {
    "duration": 9,
    "start_time": "2021-11-08T08:58:09.136Z"
   },
   {
    "duration": 472,
    "start_time": "2021-11-08T08:58:09.149Z"
   },
   {
    "duration": 12,
    "start_time": "2021-11-08T08:58:09.623Z"
   },
   {
    "duration": 603,
    "start_time": "2021-11-08T08:58:09.637Z"
   },
   {
    "duration": 195,
    "start_time": "2021-11-08T08:58:10.243Z"
   },
   {
    "duration": 399,
    "start_time": "2021-11-08T08:58:10.441Z"
   },
   {
    "duration": 588,
    "start_time": "2021-11-08T08:58:10.842Z"
   },
   {
    "duration": 5,
    "start_time": "2021-11-08T08:58:11.433Z"
   },
   {
    "duration": 558,
    "start_time": "2021-11-08T08:58:11.441Z"
   },
   {
    "duration": 5,
    "start_time": "2021-11-08T08:58:12.002Z"
   },
   {
    "duration": 6,
    "start_time": "2021-11-08T08:58:12.009Z"
   },
   {
    "duration": 1020,
    "start_time": "2021-11-09T05:51:12.722Z"
   },
   {
    "duration": 69,
    "start_time": "2021-11-09T05:51:13.744Z"
   },
   {
    "duration": 15,
    "start_time": "2021-11-09T05:51:13.816Z"
   },
   {
    "duration": 6,
    "start_time": "2021-11-09T05:51:13.834Z"
   },
   {
    "duration": 8,
    "start_time": "2021-11-09T05:51:13.842Z"
   },
   {
    "duration": 5,
    "start_time": "2021-11-09T05:51:13.852Z"
   },
   {
    "duration": 8,
    "start_time": "2021-11-09T05:51:13.859Z"
   },
   {
    "duration": 27,
    "start_time": "2021-11-09T05:51:13.869Z"
   },
   {
    "duration": 5,
    "start_time": "2021-11-09T05:51:13.898Z"
   },
   {
    "duration": 8,
    "start_time": "2021-11-09T05:51:13.905Z"
   },
   {
    "duration": 6,
    "start_time": "2021-11-09T05:51:13.915Z"
   },
   {
    "duration": 5,
    "start_time": "2021-11-09T05:51:13.923Z"
   },
   {
    "duration": 8,
    "start_time": "2021-11-09T05:51:13.929Z"
   },
   {
    "duration": 11,
    "start_time": "2021-11-09T05:51:13.938Z"
   },
   {
    "duration": 12,
    "start_time": "2021-11-09T05:51:13.950Z"
   },
   {
    "duration": 34,
    "start_time": "2021-11-09T05:51:13.963Z"
   },
   {
    "duration": 13,
    "start_time": "2021-11-09T05:51:13.998Z"
   },
   {
    "duration": 208,
    "start_time": "2021-11-09T05:51:14.012Z"
   },
   {
    "duration": 150,
    "start_time": "2021-11-09T05:51:14.222Z"
   },
   {
    "duration": 6,
    "start_time": "2021-11-09T05:51:14.373Z"
   },
   {
    "duration": 15,
    "start_time": "2021-11-09T05:51:14.381Z"
   },
   {
    "duration": 304,
    "start_time": "2021-11-09T05:51:14.398Z"
   },
   {
    "duration": 269,
    "start_time": "2021-11-09T05:51:14.704Z"
   },
   {
    "duration": 5,
    "start_time": "2021-11-09T05:51:14.975Z"
   },
   {
    "duration": 393,
    "start_time": "2021-11-09T05:51:14.982Z"
   },
   {
    "duration": 6,
    "start_time": "2021-11-09T05:51:15.377Z"
   },
   {
    "duration": 286,
    "start_time": "2021-11-09T05:51:15.393Z"
   },
   {
    "duration": 16,
    "start_time": "2021-11-09T05:51:15.680Z"
   },
   {
    "duration": 389,
    "start_time": "2021-11-09T05:51:15.698Z"
   },
   {
    "duration": 112,
    "start_time": "2021-11-09T05:51:16.089Z"
   },
   {
    "duration": 244,
    "start_time": "2021-11-09T05:51:16.203Z"
   },
   {
    "duration": 420,
    "start_time": "2021-11-09T05:51:16.449Z"
   },
   {
    "duration": 4,
    "start_time": "2021-11-09T05:51:16.871Z"
   },
   {
    "duration": 394,
    "start_time": "2021-11-09T05:51:16.876Z"
   },
   {
    "duration": 5,
    "start_time": "2021-11-09T05:51:17.271Z"
   },
   {
    "duration": 14,
    "start_time": "2021-11-09T05:51:17.278Z"
   },
   {
    "duration": 8,
    "start_time": "2021-11-09T05:51:44.928Z"
   },
   {
    "duration": 60,
    "start_time": "2021-11-09T05:52:26.062Z"
   },
   {
    "duration": 96,
    "start_time": "2021-11-09T05:52:32.831Z"
   },
   {
    "duration": 8,
    "start_time": "2021-11-09T05:52:33.683Z"
   },
   {
    "duration": 198,
    "start_time": "2021-11-09T05:52:52.775Z"
   },
   {
    "duration": 11,
    "start_time": "2021-11-09T05:52:54.604Z"
   },
   {
    "duration": 235,
    "start_time": "2021-11-09T05:53:11.065Z"
   },
   {
    "duration": 381,
    "start_time": "2021-11-09T05:53:13.400Z"
   },
   {
    "duration": 11,
    "start_time": "2021-11-09T05:55:40.388Z"
   },
   {
    "duration": 100,
    "start_time": "2021-11-09T05:56:16.404Z"
   },
   {
    "duration": 268,
    "start_time": "2021-11-09T05:56:17.244Z"
   },
   {
    "duration": 215,
    "start_time": "2021-11-09T05:58:00.491Z"
   },
   {
    "duration": 184,
    "start_time": "2021-11-09T06:08:41.381Z"
   },
   {
    "duration": 4813,
    "start_time": "2021-11-09T06:09:15.922Z"
   },
   {
    "duration": 252,
    "start_time": "2021-11-09T06:09:52.296Z"
   },
   {
    "duration": 177,
    "start_time": "2021-11-09T06:09:55.286Z"
   },
   {
    "duration": 1125,
    "start_time": "2021-11-09T06:10:21.678Z"
   },
   {
    "duration": 92,
    "start_time": "2021-11-09T06:10:22.806Z"
   },
   {
    "duration": 15,
    "start_time": "2021-11-09T06:10:22.900Z"
   },
   {
    "duration": 14,
    "start_time": "2021-11-09T06:10:22.917Z"
   },
   {
    "duration": 13,
    "start_time": "2021-11-09T06:10:22.932Z"
   },
   {
    "duration": 13,
    "start_time": "2021-11-09T06:10:22.946Z"
   },
   {
    "duration": 11,
    "start_time": "2021-11-09T06:10:22.960Z"
   },
   {
    "duration": 24,
    "start_time": "2021-11-09T06:10:22.974Z"
   },
   {
    "duration": 13,
    "start_time": "2021-11-09T06:10:23.000Z"
   },
   {
    "duration": 11,
    "start_time": "2021-11-09T06:10:23.015Z"
   },
   {
    "duration": 9,
    "start_time": "2021-11-09T06:10:23.028Z"
   },
   {
    "duration": 7,
    "start_time": "2021-11-09T06:10:23.039Z"
   },
   {
    "duration": 8,
    "start_time": "2021-11-09T06:10:23.048Z"
   },
   {
    "duration": 11,
    "start_time": "2021-11-09T06:10:23.058Z"
   },
   {
    "duration": 30,
    "start_time": "2021-11-09T06:10:23.071Z"
   },
   {
    "duration": 12,
    "start_time": "2021-11-09T06:10:23.103Z"
   },
   {
    "duration": 14,
    "start_time": "2021-11-09T06:10:23.117Z"
   },
   {
    "duration": 230,
    "start_time": "2021-11-09T06:10:23.133Z"
   },
   {
    "duration": 156,
    "start_time": "2021-11-09T06:10:23.365Z"
   },
   {
    "duration": 6,
    "start_time": "2021-11-09T06:10:23.523Z"
   },
   {
    "duration": 16,
    "start_time": "2021-11-09T06:10:23.530Z"
   },
   {
    "duration": 324,
    "start_time": "2021-11-09T06:10:23.548Z"
   },
   {
    "duration": 310,
    "start_time": "2021-11-09T06:10:23.876Z"
   },
   {
    "duration": 9,
    "start_time": "2021-11-09T06:10:24.188Z"
   },
   {
    "duration": 429,
    "start_time": "2021-11-09T06:10:24.199Z"
   },
   {
    "duration": 6,
    "start_time": "2021-11-09T06:10:24.629Z"
   },
   {
    "duration": 313,
    "start_time": "2021-11-09T06:10:24.637Z"
   },
   {
    "duration": 8,
    "start_time": "2021-11-09T06:10:24.951Z"
   },
   {
    "duration": 460,
    "start_time": "2021-11-09T06:10:24.960Z"
   },
   {
    "duration": 117,
    "start_time": "2021-11-09T06:10:25.422Z"
   },
   {
    "duration": 280,
    "start_time": "2021-11-09T06:10:25.541Z"
   },
   {
    "duration": 454,
    "start_time": "2021-11-09T06:10:25.822Z"
   },
   {
    "duration": 4,
    "start_time": "2021-11-09T06:10:26.278Z"
   },
   {
    "duration": 407,
    "start_time": "2021-11-09T06:10:26.284Z"
   },
   {
    "duration": 15,
    "start_time": "2021-11-09T06:10:26.693Z"
   },
   {
    "duration": 16,
    "start_time": "2021-11-09T06:10:26.709Z"
   },
   {
    "duration": 117,
    "start_time": "2021-11-09T06:10:26.727Z"
   },
   {
    "duration": 274,
    "start_time": "2021-11-09T06:10:26.846Z"
   },
   {
    "duration": 9,
    "start_time": "2021-11-09T06:10:27.122Z"
   },
   {
    "duration": 16,
    "start_time": "2021-11-09T06:10:27.132Z"
   },
   {
    "duration": 572,
    "start_time": "2021-11-09T06:10:38.296Z"
   },
   {
    "duration": 12,
    "start_time": "2021-11-09T06:11:00.170Z"
   },
   {
    "duration": 54,
    "start_time": "2021-11-09T06:13:09.119Z"
   },
   {
    "duration": 8,
    "start_time": "2021-11-09T06:13:29.541Z"
   },
   {
    "duration": 5,
    "start_time": "2021-11-09T06:14:31.225Z"
   },
   {
    "duration": 4940,
    "start_time": "2021-11-09T06:24:16.774Z"
   },
   {
    "duration": 8,
    "start_time": "2021-11-09T06:25:25.700Z"
   },
   {
    "duration": 16,
    "start_time": "2021-11-09T06:25:48.479Z"
   },
   {
    "duration": 11,
    "start_time": "2021-11-09T06:27:29.073Z"
   },
   {
    "duration": 5309,
    "start_time": "2021-11-09T06:29:55.250Z"
   },
   {
    "duration": 10,
    "start_time": "2021-11-09T06:30:21.917Z"
   },
   {
    "duration": 1195,
    "start_time": "2021-11-09T06:36:10.119Z"
   },
   {
    "duration": 7,
    "start_time": "2021-11-09T06:36:18.274Z"
   },
   {
    "duration": 5,
    "start_time": "2021-11-09T06:37:21.681Z"
   },
   {
    "duration": 7,
    "start_time": "2021-11-09T06:37:43.766Z"
   },
   {
    "duration": 1033,
    "start_time": "2021-11-09T07:11:15.158Z"
   },
   {
    "duration": 82,
    "start_time": "2021-11-09T07:11:16.193Z"
   },
   {
    "duration": 15,
    "start_time": "2021-11-09T07:11:16.277Z"
   },
   {
    "duration": 8,
    "start_time": "2021-11-09T07:11:16.293Z"
   },
   {
    "duration": 12,
    "start_time": "2021-11-09T07:11:16.303Z"
   },
   {
    "duration": 7,
    "start_time": "2021-11-09T07:11:16.317Z"
   },
   {
    "duration": 10,
    "start_time": "2021-11-09T07:11:16.326Z"
   },
   {
    "duration": 15,
    "start_time": "2021-11-09T07:11:16.339Z"
   },
   {
    "duration": 5,
    "start_time": "2021-11-09T07:11:16.356Z"
   },
   {
    "duration": 9,
    "start_time": "2021-11-09T07:11:16.363Z"
   },
   {
    "duration": 4,
    "start_time": "2021-11-09T07:11:16.392Z"
   },
   {
    "duration": 12,
    "start_time": "2021-11-09T07:11:16.398Z"
   },
   {
    "duration": 10,
    "start_time": "2021-11-09T07:11:16.412Z"
   },
   {
    "duration": 14,
    "start_time": "2021-11-09T07:11:16.423Z"
   },
   {
    "duration": 11,
    "start_time": "2021-11-09T07:11:16.438Z"
   },
   {
    "duration": 360,
    "start_time": "2021-11-09T07:11:16.450Z"
   },
   {
    "duration": 289,
    "start_time": "2021-11-09T07:11:16.812Z"
   },
   {
    "duration": 275,
    "start_time": "2021-11-09T07:11:17.103Z"
   },
   {
    "duration": 11,
    "start_time": "2021-11-09T07:11:17.380Z"
   },
   {
    "duration": 392,
    "start_time": "2021-11-09T07:11:17.393Z"
   },
   {
    "duration": 7,
    "start_time": "2021-11-09T07:11:17.786Z"
   },
   {
    "duration": 287,
    "start_time": "2021-11-09T07:11:17.794Z"
   },
   {
    "duration": 11,
    "start_time": "2021-11-09T07:11:18.084Z"
   },
   {
    "duration": 410,
    "start_time": "2021-11-09T07:11:18.097Z"
   },
   {
    "duration": 112,
    "start_time": "2021-11-09T07:11:18.509Z"
   },
   {
    "duration": 257,
    "start_time": "2021-11-09T07:11:18.623Z"
   },
   {
    "duration": 406,
    "start_time": "2021-11-09T07:11:18.882Z"
   },
   {
    "duration": 4,
    "start_time": "2021-11-09T07:11:19.291Z"
   },
   {
    "duration": 376,
    "start_time": "2021-11-09T07:11:19.297Z"
   },
   {
    "duration": 4,
    "start_time": "2021-11-09T07:11:19.675Z"
   },
   {
    "duration": 121,
    "start_time": "2021-11-09T07:11:19.680Z"
   },
   {
    "duration": 258,
    "start_time": "2021-11-09T07:11:19.803Z"
   },
   {
    "duration": 10,
    "start_time": "2021-11-09T07:11:20.067Z"
   },
   {
    "duration": 16,
    "start_time": "2021-11-09T07:11:20.079Z"
   },
   {
    "duration": 9,
    "start_time": "2021-11-09T07:11:20.097Z"
   },
   {
    "duration": 16,
    "start_time": "2021-11-09T07:11:20.108Z"
   },
   {
    "duration": 10,
    "start_time": "2021-11-09T07:11:20.126Z"
   },
   {
    "duration": 1100,
    "start_time": "2021-11-09T10:48:48.616Z"
   },
   {
    "duration": 71,
    "start_time": "2021-11-09T10:48:49.717Z"
   },
   {
    "duration": 14,
    "start_time": "2021-11-09T10:48:49.790Z"
   },
   {
    "duration": 15,
    "start_time": "2021-11-09T10:48:49.807Z"
   },
   {
    "duration": 18,
    "start_time": "2021-11-09T10:48:49.824Z"
   },
   {
    "duration": 12,
    "start_time": "2021-11-09T10:48:49.844Z"
   },
   {
    "duration": 13,
    "start_time": "2021-11-09T10:48:49.858Z"
   },
   {
    "duration": 23,
    "start_time": "2021-11-09T10:48:49.873Z"
   },
   {
    "duration": 5,
    "start_time": "2021-11-09T10:48:49.900Z"
   },
   {
    "duration": 14,
    "start_time": "2021-11-09T10:48:49.907Z"
   },
   {
    "duration": 8,
    "start_time": "2021-11-09T10:48:49.923Z"
   },
   {
    "duration": 10,
    "start_time": "2021-11-09T10:48:49.933Z"
   },
   {
    "duration": 19,
    "start_time": "2021-11-09T10:48:49.945Z"
   },
   {
    "duration": 37,
    "start_time": "2021-11-09T10:48:49.966Z"
   },
   {
    "duration": 12,
    "start_time": "2021-11-09T10:48:50.005Z"
   },
   {
    "duration": 374,
    "start_time": "2021-11-09T10:48:50.018Z"
   },
   {
    "duration": 305,
    "start_time": "2021-11-09T10:48:50.394Z"
   },
   {
    "duration": 287,
    "start_time": "2021-11-09T10:48:50.701Z"
   },
   {
    "duration": 7,
    "start_time": "2021-11-09T10:48:50.989Z"
   },
   {
    "duration": 401,
    "start_time": "2021-11-09T10:48:50.997Z"
   },
   {
    "duration": 6,
    "start_time": "2021-11-09T10:48:51.400Z"
   },
   {
    "duration": 309,
    "start_time": "2021-11-09T10:48:51.408Z"
   },
   {
    "duration": 8,
    "start_time": "2021-11-09T10:48:51.719Z"
   },
   {
    "duration": 398,
    "start_time": "2021-11-09T10:48:51.728Z"
   },
   {
    "duration": 104,
    "start_time": "2021-11-09T10:48:52.128Z"
   },
   {
    "duration": 258,
    "start_time": "2021-11-09T10:48:52.233Z"
   },
   {
    "duration": 446,
    "start_time": "2021-11-09T10:48:52.494Z"
   },
   {
    "duration": 5,
    "start_time": "2021-11-09T10:48:52.942Z"
   },
   {
    "duration": 371,
    "start_time": "2021-11-09T10:48:52.949Z"
   },
   {
    "duration": 4,
    "start_time": "2021-11-09T10:48:53.322Z"
   },
   {
    "duration": 133,
    "start_time": "2021-11-09T10:48:53.328Z"
   },
   {
    "duration": 278,
    "start_time": "2021-11-09T10:48:53.462Z"
   },
   {
    "duration": 9,
    "start_time": "2021-11-09T10:48:53.742Z"
   },
   {
    "duration": 11,
    "start_time": "2021-11-09T10:48:53.753Z"
   },
   {
    "duration": 12,
    "start_time": "2021-11-09T10:48:53.766Z"
   },
   {
    "duration": 22,
    "start_time": "2021-11-09T10:48:53.780Z"
   },
   {
    "duration": 8,
    "start_time": "2021-11-09T10:48:53.804Z"
   },
   {
    "duration": 10,
    "start_time": "2021-11-09T10:50:37.945Z"
   },
   {
    "duration": 7,
    "start_time": "2021-11-09T10:50:42.674Z"
   },
   {
    "duration": 9,
    "start_time": "2021-11-09T10:51:04.528Z"
   },
   {
    "duration": 8,
    "start_time": "2021-11-09T10:51:27.805Z"
   },
   {
    "duration": 438,
    "start_time": "2021-11-09T10:51:29.061Z"
   },
   {
    "duration": 1300,
    "start_time": "2021-11-09T11:03:05.086Z"
   },
   {
    "duration": 123,
    "start_time": "2021-11-09T11:03:06.388Z"
   },
   {
    "duration": 14,
    "start_time": "2021-11-09T11:03:06.513Z"
   },
   {
    "duration": 8,
    "start_time": "2021-11-09T11:03:06.529Z"
   },
   {
    "duration": 14,
    "start_time": "2021-11-09T11:03:06.539Z"
   },
   {
    "duration": 13,
    "start_time": "2021-11-09T11:03:06.555Z"
   },
   {
    "duration": 10,
    "start_time": "2021-11-09T11:03:06.569Z"
   },
   {
    "duration": 32,
    "start_time": "2021-11-09T11:03:06.580Z"
   },
   {
    "duration": 5,
    "start_time": "2021-11-09T11:03:06.615Z"
   },
   {
    "duration": 22,
    "start_time": "2021-11-09T11:03:06.622Z"
   },
   {
    "duration": 9,
    "start_time": "2021-11-09T11:03:06.646Z"
   },
   {
    "duration": 9,
    "start_time": "2021-11-09T11:03:06.657Z"
   },
   {
    "duration": 14,
    "start_time": "2021-11-09T11:03:06.668Z"
   },
   {
    "duration": 28,
    "start_time": "2021-11-09T11:03:06.684Z"
   },
   {
    "duration": 12,
    "start_time": "2021-11-09T11:03:06.713Z"
   },
   {
    "duration": 379,
    "start_time": "2021-11-09T11:03:06.727Z"
   },
   {
    "duration": 306,
    "start_time": "2021-11-09T11:03:07.108Z"
   },
   {
    "duration": 290,
    "start_time": "2021-11-09T11:03:07.416Z"
   },
   {
    "duration": 6,
    "start_time": "2021-11-09T11:03:07.708Z"
   },
   {
    "duration": 393,
    "start_time": "2021-11-09T11:03:07.716Z"
   },
   {
    "duration": 6,
    "start_time": "2021-11-09T11:03:08.111Z"
   },
   {
    "duration": 307,
    "start_time": "2021-11-09T11:03:08.118Z"
   },
   {
    "duration": 8,
    "start_time": "2021-11-09T11:03:08.427Z"
   },
   {
    "duration": 390,
    "start_time": "2021-11-09T11:03:08.437Z"
   },
   {
    "duration": 148,
    "start_time": "2021-11-09T11:03:08.829Z"
   },
   {
    "duration": 269,
    "start_time": "2021-11-09T11:03:08.979Z"
   },
   {
    "duration": 439,
    "start_time": "2021-11-09T11:03:09.252Z"
   },
   {
    "duration": 4,
    "start_time": "2021-11-09T11:03:09.693Z"
   },
   {
    "duration": 390,
    "start_time": "2021-11-09T11:03:09.699Z"
   },
   {
    "duration": 4,
    "start_time": "2021-11-09T11:03:10.090Z"
   },
   {
    "duration": 144,
    "start_time": "2021-11-09T11:03:10.096Z"
   },
   {
    "duration": 280,
    "start_time": "2021-11-09T11:03:10.242Z"
   },
   {
    "duration": 9,
    "start_time": "2021-11-09T11:03:10.524Z"
   },
   {
    "duration": 7,
    "start_time": "2021-11-09T11:03:10.535Z"
   },
   {
    "duration": 8,
    "start_time": "2021-11-09T11:03:10.544Z"
   },
   {
    "duration": 16,
    "start_time": "2021-11-09T11:03:10.554Z"
   },
   {
    "duration": 34,
    "start_time": "2021-11-09T11:03:10.572Z"
   },
   {
    "duration": 1171,
    "start_time": "2021-11-09T14:38:24.068Z"
   },
   {
    "duration": 66,
    "start_time": "2021-11-09T14:38:25.241Z"
   },
   {
    "duration": 13,
    "start_time": "2021-11-09T14:38:25.309Z"
   },
   {
    "duration": 5,
    "start_time": "2021-11-09T14:38:25.324Z"
   },
   {
    "duration": 13,
    "start_time": "2021-11-09T14:38:25.331Z"
   },
   {
    "duration": 7,
    "start_time": "2021-11-09T14:38:25.346Z"
   },
   {
    "duration": 19,
    "start_time": "2021-11-09T14:38:25.354Z"
   },
   {
    "duration": 8,
    "start_time": "2021-11-09T14:38:25.376Z"
   },
   {
    "duration": 5,
    "start_time": "2021-11-09T14:38:25.386Z"
   },
   {
    "duration": 11,
    "start_time": "2021-11-09T14:38:25.393Z"
   },
   {
    "duration": 7,
    "start_time": "2021-11-09T14:38:25.405Z"
   },
   {
    "duration": 9,
    "start_time": "2021-11-09T14:38:25.413Z"
   },
   {
    "duration": 10,
    "start_time": "2021-11-09T14:38:25.444Z"
   },
   {
    "duration": 12,
    "start_time": "2021-11-09T14:38:25.456Z"
   },
   {
    "duration": 12,
    "start_time": "2021-11-09T14:38:25.470Z"
   },
   {
    "duration": 379,
    "start_time": "2021-11-09T14:38:25.484Z"
   },
   {
    "duration": 311,
    "start_time": "2021-11-09T14:38:25.865Z"
   },
   {
    "duration": 295,
    "start_time": "2021-11-09T14:38:26.178Z"
   },
   {
    "duration": 6,
    "start_time": "2021-11-09T14:38:26.474Z"
   },
   {
    "duration": 373,
    "start_time": "2021-11-09T14:38:26.482Z"
   },
   {
    "duration": 8,
    "start_time": "2021-11-09T14:38:26.856Z"
   },
   {
    "duration": 310,
    "start_time": "2021-11-09T14:38:26.866Z"
   },
   {
    "duration": 8,
    "start_time": "2021-11-09T14:38:27.179Z"
   },
   {
    "duration": 417,
    "start_time": "2021-11-09T14:38:27.189Z"
   },
   {
    "duration": 115,
    "start_time": "2021-11-09T14:38:27.608Z"
   },
   {
    "duration": 256,
    "start_time": "2021-11-09T14:38:27.724Z"
   },
   {
    "duration": 456,
    "start_time": "2021-11-09T14:38:27.982Z"
   },
   {
    "duration": 6,
    "start_time": "2021-11-09T14:38:28.440Z"
   },
   {
    "duration": 401,
    "start_time": "2021-11-09T14:38:28.448Z"
   },
   {
    "duration": 4,
    "start_time": "2021-11-09T14:38:28.851Z"
   },
   {
    "duration": 126,
    "start_time": "2021-11-09T14:38:28.856Z"
   },
   {
    "duration": 262,
    "start_time": "2021-11-09T14:38:28.984Z"
   },
   {
    "duration": 10,
    "start_time": "2021-11-09T14:38:29.248Z"
   },
   {
    "duration": 7,
    "start_time": "2021-11-09T14:38:29.260Z"
   },
   {
    "duration": 8,
    "start_time": "2021-11-09T14:38:29.269Z"
   },
   {
    "duration": 14,
    "start_time": "2021-11-09T14:38:29.279Z"
   },
   {
    "duration": 8,
    "start_time": "2021-11-09T14:38:29.295Z"
   },
   {
    "duration": 1162,
    "start_time": "2021-11-10T05:57:42.981Z"
   },
   {
    "duration": 84,
    "start_time": "2021-11-10T05:57:44.146Z"
   },
   {
    "duration": 18,
    "start_time": "2021-11-10T05:57:46.069Z"
   },
   {
    "duration": 7,
    "start_time": "2021-11-10T05:57:53.321Z"
   },
   {
    "duration": 11,
    "start_time": "2021-11-10T05:57:53.758Z"
   },
   {
    "duration": 9,
    "start_time": "2021-11-10T05:57:54.242Z"
   },
   {
    "duration": 9,
    "start_time": "2021-11-10T05:57:56.692Z"
   },
   {
    "duration": 12,
    "start_time": "2021-11-10T05:57:57.595Z"
   },
   {
    "duration": 6,
    "start_time": "2021-11-10T05:57:58.697Z"
   },
   {
    "duration": 9,
    "start_time": "2021-11-10T05:58:00.173Z"
   },
   {
    "duration": 6,
    "start_time": "2021-11-10T05:58:00.623Z"
   },
   {
    "duration": 8,
    "start_time": "2021-11-10T05:58:02.717Z"
   },
   {
    "duration": 8,
    "start_time": "2021-11-10T05:58:16.423Z"
   },
   {
    "duration": 8,
    "start_time": "2021-11-10T06:00:33.102Z"
   },
   {
    "duration": 8,
    "start_time": "2021-11-10T06:00:57.720Z"
   },
   {
    "duration": 7,
    "start_time": "2021-11-10T06:01:10.494Z"
   },
   {
    "duration": 7,
    "start_time": "2021-11-10T06:05:24.325Z"
   },
   {
    "duration": 10,
    "start_time": "2021-11-10T06:05:42.836Z"
   },
   {
    "duration": 13,
    "start_time": "2021-11-10T06:06:00.203Z"
   },
   {
    "duration": 6,
    "start_time": "2021-11-10T06:06:45.373Z"
   },
   {
    "duration": 7,
    "start_time": "2021-11-10T06:06:52.354Z"
   },
   {
    "duration": 7,
    "start_time": "2021-11-10T06:07:21.637Z"
   },
   {
    "duration": 5,
    "start_time": "2021-11-10T06:07:56.214Z"
   },
   {
    "duration": 12,
    "start_time": "2021-11-10T06:08:43.553Z"
   },
   {
    "duration": 10,
    "start_time": "2021-11-10T06:09:00.769Z"
   },
   {
    "duration": 10,
    "start_time": "2021-11-10T06:09:08.134Z"
   },
   {
    "duration": 312,
    "start_time": "2021-11-10T06:09:23.975Z"
   },
   {
    "duration": 10,
    "start_time": "2021-11-10T06:13:45.682Z"
   },
   {
    "duration": 9,
    "start_time": "2021-11-10T06:13:58.613Z"
   },
   {
    "duration": 155,
    "start_time": "2021-11-10T06:16:08.471Z"
   },
   {
    "duration": 11,
    "start_time": "2021-11-10T06:16:26.424Z"
   },
   {
    "duration": 9,
    "start_time": "2021-11-10T06:17:07.318Z"
   },
   {
    "duration": 10,
    "start_time": "2021-11-10T06:17:39.965Z"
   },
   {
    "duration": 305,
    "start_time": "2021-11-10T06:18:50.018Z"
   },
   {
    "duration": 266,
    "start_time": "2021-11-10T06:19:02.317Z"
   },
   {
    "duration": 325,
    "start_time": "2021-11-10T06:20:53.110Z"
   },
   {
    "duration": 241,
    "start_time": "2021-11-10T06:21:17.456Z"
   },
   {
    "duration": 30,
    "start_time": "2021-11-10T06:21:30.845Z"
   },
   {
    "duration": 9,
    "start_time": "2021-11-10T06:22:05.357Z"
   },
   {
    "duration": 33,
    "start_time": "2021-11-10T06:23:22.873Z"
   },
   {
    "duration": 25,
    "start_time": "2021-11-10T06:24:06.485Z"
   },
   {
    "duration": 306,
    "start_time": "2021-11-10T06:25:32.781Z"
   },
   {
    "duration": 26,
    "start_time": "2021-11-10T06:25:39.220Z"
   },
   {
    "duration": 25,
    "start_time": "2021-11-10T06:25:54.535Z"
   },
   {
    "duration": 297,
    "start_time": "2021-11-10T06:33:28.675Z"
   },
   {
    "duration": 4,
    "start_time": "2021-11-10T06:38:00.052Z"
   },
   {
    "duration": 10,
    "start_time": "2021-11-10T06:38:04.640Z"
   },
   {
    "duration": 80,
    "start_time": "2021-11-10T06:38:37.502Z"
   },
   {
    "duration": 232,
    "start_time": "2021-11-10T06:39:06.511Z"
   },
   {
    "duration": 4,
    "start_time": "2021-11-10T06:39:37.796Z"
   },
   {
    "duration": 243,
    "start_time": "2021-11-10T06:39:39.991Z"
   },
   {
    "duration": 1181,
    "start_time": "2021-11-10T06:40:03.148Z"
   },
   {
    "duration": 63,
    "start_time": "2021-11-10T06:40:04.331Z"
   },
   {
    "duration": 15,
    "start_time": "2021-11-10T06:40:04.984Z"
   },
   {
    "duration": 8,
    "start_time": "2021-11-10T06:40:07.214Z"
   },
   {
    "duration": 8,
    "start_time": "2021-11-10T06:40:07.382Z"
   },
   {
    "duration": 7,
    "start_time": "2021-11-10T06:40:07.552Z"
   },
   {
    "duration": 8,
    "start_time": "2021-11-10T06:40:07.719Z"
   },
   {
    "duration": 10,
    "start_time": "2021-11-10T06:40:10.076Z"
   },
   {
    "duration": 7,
    "start_time": "2021-11-10T06:40:10.646Z"
   },
   {
    "duration": 8,
    "start_time": "2021-11-10T06:40:10.919Z"
   },
   {
    "duration": 6,
    "start_time": "2021-11-10T06:40:11.118Z"
   },
   {
    "duration": 7,
    "start_time": "2021-11-10T06:40:11.363Z"
   },
   {
    "duration": 8,
    "start_time": "2021-11-10T06:40:13.970Z"
   },
   {
    "duration": 28,
    "start_time": "2021-11-10T06:40:16.678Z"
   },
   {
    "duration": 4,
    "start_time": "2021-11-10T06:40:20.444Z"
   },
   {
    "duration": 10,
    "start_time": "2021-11-10T06:40:23.334Z"
   },
   {
    "duration": 346,
    "start_time": "2021-11-10T06:40:30.393Z"
   },
   {
    "duration": 6,
    "start_time": "2021-11-10T06:44:15.580Z"
   },
   {
    "duration": 9,
    "start_time": "2021-11-10T06:44:17.685Z"
   },
   {
    "duration": 7,
    "start_time": "2021-11-10T06:44:39.428Z"
   },
   {
    "duration": 1156,
    "start_time": "2021-11-10T06:49:13.987Z"
   },
   {
    "duration": 67,
    "start_time": "2021-11-10T06:49:15.961Z"
   },
   {
    "duration": 16,
    "start_time": "2021-11-10T06:49:16.303Z"
   },
   {
    "duration": 6,
    "start_time": "2021-11-10T06:49:18.729Z"
   },
   {
    "duration": 9,
    "start_time": "2021-11-10T06:49:18.935Z"
   },
   {
    "duration": 7,
    "start_time": "2021-11-10T06:49:19.173Z"
   },
   {
    "duration": 8,
    "start_time": "2021-11-10T06:49:21.498Z"
   },
   {
    "duration": 10,
    "start_time": "2021-11-10T06:49:23.546Z"
   },
   {
    "duration": 6,
    "start_time": "2021-11-10T06:49:26.178Z"
   },
   {
    "duration": 8,
    "start_time": "2021-11-10T06:49:26.358Z"
   },
   {
    "duration": 6,
    "start_time": "2021-11-10T06:49:26.578Z"
   },
   {
    "duration": 7,
    "start_time": "2021-11-10T06:49:28.350Z"
   },
   {
    "duration": 9,
    "start_time": "2021-11-10T06:49:29.497Z"
   },
   {
    "duration": 26,
    "start_time": "2021-11-10T06:49:34.295Z"
   },
   {
    "duration": 10,
    "start_time": "2021-11-10T06:49:40.741Z"
   },
   {
    "duration": 10,
    "start_time": "2021-11-10T06:50:14.569Z"
   },
   {
    "duration": 9,
    "start_time": "2021-11-10T06:50:18.431Z"
   },
   {
    "duration": 14,
    "start_time": "2021-11-10T06:50:22.211Z"
   },
   {
    "duration": 14,
    "start_time": "2021-11-10T06:50:24.506Z"
   },
   {
    "duration": 466,
    "start_time": "2021-11-10T06:50:57.132Z"
   },
   {
    "duration": 929,
    "start_time": "2021-11-10T06:54:36.046Z"
   },
   {
    "duration": 494,
    "start_time": "2021-11-10T06:54:46.969Z"
   },
   {
    "duration": 4,
    "start_time": "2021-11-10T06:55:20.613Z"
   },
   {
    "duration": 11,
    "start_time": "2021-11-10T06:55:56.933Z"
   },
   {
    "duration": 474,
    "start_time": "2021-11-10T06:56:05.939Z"
   },
   {
    "duration": 722,
    "start_time": "2021-11-10T07:00:48.900Z"
   },
   {
    "duration": 407,
    "start_time": "2021-11-10T07:02:10.110Z"
   },
   {
    "duration": 3901,
    "start_time": "2021-11-10T07:02:51.394Z"
   },
   {
    "duration": 582,
    "start_time": "2021-11-10T07:03:43.755Z"
   },
   {
    "duration": 651,
    "start_time": "2021-11-10T07:06:25.586Z"
   },
   {
    "duration": 91,
    "start_time": "2021-11-10T07:08:14.203Z"
   },
   {
    "duration": 583,
    "start_time": "2021-11-10T07:08:23.157Z"
   },
   {
    "duration": 599,
    "start_time": "2021-11-10T07:08:43.022Z"
   },
   {
    "duration": 610,
    "start_time": "2021-11-10T07:10:04.117Z"
   },
   {
    "duration": 1308,
    "start_time": "2021-11-10T07:10:52.401Z"
   },
   {
    "duration": 558,
    "start_time": "2021-11-10T07:11:00.621Z"
   },
   {
    "duration": 454,
    "start_time": "2021-11-10T07:11:28.267Z"
   },
   {
    "duration": 420,
    "start_time": "2021-11-10T07:12:04.700Z"
   },
   {
    "duration": 626,
    "start_time": "2021-11-10T07:12:14.735Z"
   },
   {
    "duration": 102,
    "start_time": "2021-11-10T07:12:48.299Z"
   },
   {
    "duration": 506,
    "start_time": "2021-11-10T07:12:57.739Z"
   },
   {
    "duration": 580,
    "start_time": "2021-11-10T07:13:39.294Z"
   },
   {
    "duration": 492,
    "start_time": "2021-11-10T07:13:51.736Z"
   },
   {
    "duration": 595,
    "start_time": "2021-11-10T07:13:58.272Z"
   },
   {
    "duration": 491,
    "start_time": "2021-11-10T07:14:11.538Z"
   },
   {
    "duration": 428,
    "start_time": "2021-11-10T07:14:16.035Z"
   },
   {
    "duration": 418,
    "start_time": "2021-11-10T07:14:56.480Z"
   },
   {
    "duration": 345,
    "start_time": "2021-11-10T07:15:02.504Z"
   },
   {
    "duration": 404,
    "start_time": "2021-11-10T07:17:57.872Z"
   },
   {
    "duration": 351,
    "start_time": "2021-11-10T07:21:54.648Z"
   },
   {
    "duration": 273,
    "start_time": "2021-11-10T07:23:23.935Z"
   },
   {
    "duration": 277,
    "start_time": "2021-11-10T07:23:38.264Z"
   },
   {
    "duration": 7,
    "start_time": "2021-11-10T07:23:44.076Z"
   },
   {
    "duration": 397,
    "start_time": "2021-11-10T07:23:47.929Z"
   },
   {
    "duration": 8,
    "start_time": "2021-11-10T07:23:52.892Z"
   },
   {
    "duration": 266,
    "start_time": "2021-11-10T07:23:53.965Z"
   },
   {
    "duration": 10,
    "start_time": "2021-11-10T07:24:02.021Z"
   },
   {
    "duration": 425,
    "start_time": "2021-11-10T07:24:03.288Z"
   },
   {
    "duration": 105,
    "start_time": "2021-11-10T07:24:13.617Z"
   },
   {
    "duration": 337,
    "start_time": "2021-11-10T07:24:14.562Z"
   },
   {
    "duration": 224,
    "start_time": "2021-11-10T07:24:22.702Z"
   },
   {
    "duration": 221,
    "start_time": "2021-11-10T07:24:30.077Z"
   },
   {
    "duration": 207,
    "start_time": "2021-11-10T07:24:35.420Z"
   },
   {
    "duration": 197,
    "start_time": "2021-11-10T07:24:41.311Z"
   },
   {
    "duration": 347,
    "start_time": "2021-11-10T07:24:46.583Z"
   },
   {
    "duration": 352,
    "start_time": "2021-11-10T07:26:37.176Z"
   },
   {
    "duration": 340,
    "start_time": "2021-11-10T07:26:42.630Z"
   },
   {
    "duration": 348,
    "start_time": "2021-11-10T07:26:47.473Z"
   },
   {
    "duration": 319,
    "start_time": "2021-11-10T07:26:52.412Z"
   },
   {
    "duration": 368,
    "start_time": "2021-11-10T07:26:57.344Z"
   },
   {
    "duration": 421,
    "start_time": "2021-11-10T07:27:02.433Z"
   },
   {
    "duration": 350,
    "start_time": "2021-11-10T07:27:09.482Z"
   },
   {
    "duration": 328,
    "start_time": "2021-11-10T07:27:19.515Z"
   },
   {
    "duration": 365,
    "start_time": "2021-11-10T07:27:24.643Z"
   },
   {
    "duration": 5,
    "start_time": "2021-11-10T07:28:04.559Z"
   },
   {
    "duration": 382,
    "start_time": "2021-11-10T07:28:12.137Z"
   },
   {
    "duration": 481,
    "start_time": "2021-11-10T07:30:33.591Z"
   },
   {
    "duration": 542,
    "start_time": "2021-11-10T07:30:45.764Z"
   },
   {
    "duration": 529,
    "start_time": "2021-11-10T07:30:52.826Z"
   },
   {
    "duration": 514,
    "start_time": "2021-11-10T07:30:57.990Z"
   },
   {
    "duration": 669,
    "start_time": "2021-11-10T07:32:13.953Z"
   },
   {
    "duration": 568,
    "start_time": "2021-11-10T07:32:46.474Z"
   },
   {
    "duration": 699,
    "start_time": "2021-11-10T07:36:00.309Z"
   },
   {
    "duration": 554,
    "start_time": "2021-11-10T07:36:46.077Z"
   },
   {
    "duration": 5,
    "start_time": "2021-11-10T07:36:53.945Z"
   },
   {
    "duration": 5,
    "start_time": "2021-11-10T07:38:24.169Z"
   },
   {
    "duration": 126,
    "start_time": "2021-11-10T07:38:57.277Z"
   },
   {
    "duration": 272,
    "start_time": "2021-11-10T07:38:58.892Z"
   },
   {
    "duration": 11,
    "start_time": "2021-11-10T07:42:15.780Z"
   },
   {
    "duration": 9,
    "start_time": "2021-11-10T07:42:24.067Z"
   },
   {
    "duration": 8,
    "start_time": "2021-11-10T07:53:58.403Z"
   },
   {
    "duration": 9,
    "start_time": "2021-11-10T07:54:06.445Z"
   },
   {
    "duration": 14,
    "start_time": "2021-11-10T07:54:08.603Z"
   },
   {
    "duration": 11,
    "start_time": "2021-11-10T07:54:30.961Z"
   },
   {
    "duration": 1128,
    "start_time": "2021-11-10T07:57:17.098Z"
   },
   {
    "duration": 65,
    "start_time": "2021-11-10T07:57:18.228Z"
   },
   {
    "duration": 17,
    "start_time": "2021-11-10T07:57:18.295Z"
   },
   {
    "duration": 17,
    "start_time": "2021-11-10T07:57:18.314Z"
   },
   {
    "duration": 16,
    "start_time": "2021-11-10T07:57:18.333Z"
   },
   {
    "duration": 10,
    "start_time": "2021-11-10T07:57:18.351Z"
   },
   {
    "duration": 9,
    "start_time": "2021-11-10T07:57:18.362Z"
   },
   {
    "duration": 10,
    "start_time": "2021-11-10T07:57:18.373Z"
   },
   {
    "duration": 8,
    "start_time": "2021-11-10T07:57:18.386Z"
   },
   {
    "duration": 13,
    "start_time": "2021-11-10T07:57:18.396Z"
   },
   {
    "duration": 10,
    "start_time": "2021-11-10T07:57:18.411Z"
   },
   {
    "duration": 12,
    "start_time": "2021-11-10T07:57:18.423Z"
   },
   {
    "duration": 38,
    "start_time": "2021-11-10T07:57:18.437Z"
   },
   {
    "duration": 30,
    "start_time": "2021-11-10T07:57:18.477Z"
   },
   {
    "duration": 8,
    "start_time": "2021-11-10T07:57:18.509Z"
   },
   {
    "duration": 8,
    "start_time": "2021-11-10T07:57:18.519Z"
   },
   {
    "duration": 36,
    "start_time": "2021-11-10T07:57:18.529Z"
   },
   {
    "duration": 12,
    "start_time": "2021-11-10T07:57:18.566Z"
   },
   {
    "duration": 376,
    "start_time": "2021-11-10T07:57:18.579Z"
   },
   {
    "duration": 360,
    "start_time": "2021-11-10T07:57:18.957Z"
   },
   {
    "duration": 325,
    "start_time": "2021-11-10T07:57:19.319Z"
   },
   {
    "duration": 278,
    "start_time": "2021-11-10T07:57:19.646Z"
   },
   {
    "duration": 6,
    "start_time": "2021-11-10T07:57:19.926Z"
   },
   {
    "duration": 449,
    "start_time": "2021-11-10T07:57:19.934Z"
   },
   {
    "duration": 7,
    "start_time": "2021-11-10T07:57:20.384Z"
   },
   {
    "duration": 273,
    "start_time": "2021-11-10T07:57:20.393Z"
   },
   {
    "duration": 9,
    "start_time": "2021-11-10T07:57:20.670Z"
   },
   {
    "duration": 433,
    "start_time": "2021-11-10T07:57:20.682Z"
   },
   {
    "duration": 103,
    "start_time": "2021-11-10T07:57:21.116Z"
   },
   {
    "duration": 299,
    "start_time": "2021-11-10T07:57:21.220Z"
   },
   {
    "duration": 348,
    "start_time": "2021-11-10T07:57:21.522Z"
   },
   {
    "duration": 5,
    "start_time": "2021-11-10T07:57:21.872Z"
   },
   {
    "duration": 535,
    "start_time": "2021-11-10T07:57:21.880Z"
   },
   {
    "duration": 5,
    "start_time": "2021-11-10T07:57:22.417Z"
   },
   {
    "duration": 121,
    "start_time": "2021-11-10T07:57:22.424Z"
   },
   {
    "duration": 269,
    "start_time": "2021-11-10T07:57:22.546Z"
   },
   {
    "duration": 10,
    "start_time": "2021-11-10T07:57:22.816Z"
   },
   {
    "duration": 10,
    "start_time": "2021-11-10T07:57:22.827Z"
   },
   {
    "duration": 24,
    "start_time": "2021-11-10T07:57:22.839Z"
   },
   {
    "duration": 10,
    "start_time": "2021-11-10T07:57:22.865Z"
   },
   {
    "duration": 13,
    "start_time": "2021-11-10T07:57:22.877Z"
   },
   {
    "duration": 348,
    "start_time": "2021-11-10T23:59:49.878Z"
   },
   {
    "duration": 1490,
    "start_time": "2021-11-10T23:59:53.728Z"
   },
   {
    "duration": 64,
    "start_time": "2021-11-10T23:59:55.221Z"
   },
   {
    "duration": 22,
    "start_time": "2021-11-10T23:59:55.289Z"
   },
   {
    "duration": 8,
    "start_time": "2021-11-10T23:59:55.314Z"
   },
   {
    "duration": 14,
    "start_time": "2021-11-10T23:59:55.325Z"
   },
   {
    "duration": 10,
    "start_time": "2021-11-10T23:59:55.342Z"
   },
   {
    "duration": 53,
    "start_time": "2021-11-10T23:59:55.354Z"
   },
   {
    "duration": 14,
    "start_time": "2021-11-10T23:59:55.410Z"
   },
   {
    "duration": 8,
    "start_time": "2021-11-10T23:59:55.428Z"
   },
   {
    "duration": 13,
    "start_time": "2021-11-10T23:59:55.439Z"
   },
   {
    "duration": 46,
    "start_time": "2021-11-10T23:59:55.455Z"
   },
   {
    "duration": 9,
    "start_time": "2021-11-10T23:59:55.504Z"
   },
   {
    "duration": 14,
    "start_time": "2021-11-10T23:59:55.516Z"
   },
   {
    "duration": 69,
    "start_time": "2021-11-10T23:59:55.533Z"
   },
   {
    "duration": 13,
    "start_time": "2021-11-10T23:59:55.604Z"
   }
  ],
  "kernelspec": {
   "display_name": "Python 3",
   "language": "python",
   "name": "python3"
  },
  "language_info": {
   "codemirror_mode": {
    "name": "ipython",
    "version": 3
   },
   "file_extension": ".py",
   "mimetype": "text/x-python",
   "name": "python",
   "nbconvert_exporter": "python",
   "pygments_lexer": "ipython3",
   "version": "3.8.8"
  },
  "toc": {
   "base_numbering": 1,
   "nav_menu": {},
   "number_sections": true,
   "sideBar": true,
   "skip_h1_title": true,
   "title_cell": "Table of Contents",
   "title_sidebar": "Contents",
   "toc_cell": false,
   "toc_position": {},
   "toc_section_display": true,
   "toc_window_display": true
  }
 },
 "nbformat": 4,
 "nbformat_minor": 2
}
